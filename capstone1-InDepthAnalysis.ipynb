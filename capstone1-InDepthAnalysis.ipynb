{
 "cells": [
  {
   "cell_type": "markdown",
   "metadata": {},
   "source": [
    "The data set for this project is from the UCI Machine Learning Repository.\n",
    "\n",
    "https://archive.ics.uci.edu/ml/datasets/p53+Mutants "
   ]
  },
  {
   "cell_type": "markdown",
   "metadata": {},
   "source": [
    "# Imported the required packages"
   ]
  },
  {
   "cell_type": "code",
   "execution_count": 2,
   "metadata": {},
   "outputs": [],
   "source": [
    "import pandas as pd\n",
    "import numpy as np\n",
    "import re\n",
    "import scipy\n",
    "import sklearn\n",
    "from scipy import stats"
   ]
  },
  {
   "cell_type": "code",
   "execution_count": 3,
   "metadata": {
    "scrolled": true
   },
   "outputs": [],
   "source": [
    "import matplotlib.pyplot as plt\n",
    "import seaborn as sns\n",
    "%matplotlib inline"
   ]
  },
  {
   "cell_type": "markdown",
   "metadata": {},
   "source": [
    "# Exploratory Data Analysis"
   ]
  },
  {
   "cell_type": "markdown",
   "metadata": {},
   "source": [
    "The data set consisted of 2 files – the data file, K9.data and the K9.instance.tags file that contains the names of the mutations. Both files were downloaded to the local hard drive. The .data file was read in using pd.read_csv and saved to a dataframe, ‘df’."
   ]
  },
  {
   "cell_type": "code",
   "execution_count": 4,
   "metadata": {},
   "outputs": [],
   "source": [
    "df = pd.read_csv('./K9.data', low_memory=False, header=None)"
   ]
  },
  {
   "cell_type": "code",
   "execution_count": 5,
   "metadata": {
    "scrolled": true
   },
   "outputs": [
    {
     "name": "stdout",
     "output_type": "stream",
     "text": [
      "<class 'pandas.core.frame.DataFrame'>\n",
      "RangeIndex: 31420 entries, 0 to 31419\n",
      "Columns: 5410 entries, 0 to 5409\n",
      "dtypes: float64(1), object(5409)\n",
      "memory usage: 1.3+ GB\n"
     ]
    }
   ],
   "source": [
    "df.info()"
   ]
  },
  {
   "cell_type": "code",
   "execution_count": 6,
   "metadata": {},
   "outputs": [
    {
     "data": {
      "text/plain": [
       "0        object\n",
       "1        object\n",
       "2        object\n",
       "3        object\n",
       "4        object\n",
       "         ...   \n",
       "5405     object\n",
       "5406     object\n",
       "5407     object\n",
       "5408     object\n",
       "5409    float64\n",
       "Length: 5410, dtype: object"
      ]
     },
     "execution_count": 6,
     "metadata": {},
     "output_type": "execute_result"
    }
   ],
   "source": [
    "df.dtypes"
   ]
  },
  {
   "cell_type": "code",
   "execution_count": 7,
   "metadata": {
    "scrolled": true
   },
   "outputs": [
    {
     "data": {
      "text/html": [
       "<div>\n",
       "<style scoped>\n",
       "    .dataframe tbody tr th:only-of-type {\n",
       "        vertical-align: middle;\n",
       "    }\n",
       "\n",
       "    .dataframe tbody tr th {\n",
       "        vertical-align: top;\n",
       "    }\n",
       "\n",
       "    .dataframe thead th {\n",
       "        text-align: right;\n",
       "    }\n",
       "</style>\n",
       "<table border=\"1\" class=\"dataframe\">\n",
       "  <thead>\n",
       "    <tr style=\"text-align: right;\">\n",
       "      <th></th>\n",
       "      <th>0</th>\n",
       "      <th>1</th>\n",
       "      <th>2</th>\n",
       "      <th>3</th>\n",
       "      <th>4</th>\n",
       "      <th>5</th>\n",
       "      <th>6</th>\n",
       "      <th>7</th>\n",
       "      <th>8</th>\n",
       "      <th>9</th>\n",
       "      <th>...</th>\n",
       "      <th>5400</th>\n",
       "      <th>5401</th>\n",
       "      <th>5402</th>\n",
       "      <th>5403</th>\n",
       "      <th>5404</th>\n",
       "      <th>5405</th>\n",
       "      <th>5406</th>\n",
       "      <th>5407</th>\n",
       "      <th>5408</th>\n",
       "      <th>5409</th>\n",
       "    </tr>\n",
       "  </thead>\n",
       "  <tbody>\n",
       "    <tr>\n",
       "      <td>0</td>\n",
       "      <td>-0.161</td>\n",
       "      <td>-0.014</td>\n",
       "      <td>0.002</td>\n",
       "      <td>-0.036</td>\n",
       "      <td>-0.033</td>\n",
       "      <td>-0.093</td>\n",
       "      <td>0.025</td>\n",
       "      <td>0.005</td>\n",
       "      <td>0.000</td>\n",
       "      <td>-0.015</td>\n",
       "      <td>...</td>\n",
       "      <td>0.013</td>\n",
       "      <td>0.021</td>\n",
       "      <td>0.02</td>\n",
       "      <td>0.016</td>\n",
       "      <td>-0.011</td>\n",
       "      <td>0.003</td>\n",
       "      <td>0.01</td>\n",
       "      <td>-0.007</td>\n",
       "      <td>inactive</td>\n",
       "      <td>NaN</td>\n",
       "    </tr>\n",
       "    <tr>\n",
       "      <td>1</td>\n",
       "      <td>-0.158</td>\n",
       "      <td>-0.002</td>\n",
       "      <td>-0.012</td>\n",
       "      <td>-0.025</td>\n",
       "      <td>-0.012</td>\n",
       "      <td>-0.106</td>\n",
       "      <td>0.013</td>\n",
       "      <td>0.005</td>\n",
       "      <td>0.000</td>\n",
       "      <td>-0.002</td>\n",
       "      <td>...</td>\n",
       "      <td>-0.008</td>\n",
       "      <td>0.007</td>\n",
       "      <td>0.015</td>\n",
       "      <td>-0.008</td>\n",
       "      <td>-0.011</td>\n",
       "      <td>-0.004</td>\n",
       "      <td>0.013</td>\n",
       "      <td>0.005</td>\n",
       "      <td>inactive</td>\n",
       "      <td>NaN</td>\n",
       "    </tr>\n",
       "    <tr>\n",
       "      <td>2</td>\n",
       "      <td>?</td>\n",
       "      <td>?</td>\n",
       "      <td>?</td>\n",
       "      <td>?</td>\n",
       "      <td>?</td>\n",
       "      <td>?</td>\n",
       "      <td>?</td>\n",
       "      <td>?</td>\n",
       "      <td>?</td>\n",
       "      <td>?</td>\n",
       "      <td>...</td>\n",
       "      <td>?</td>\n",
       "      <td>?</td>\n",
       "      <td>?</td>\n",
       "      <td>?</td>\n",
       "      <td>?</td>\n",
       "      <td>?</td>\n",
       "      <td>?</td>\n",
       "      <td>?</td>\n",
       "      <td>inactive</td>\n",
       "      <td>NaN</td>\n",
       "    </tr>\n",
       "    <tr>\n",
       "      <td>3</td>\n",
       "      <td>-0.169</td>\n",
       "      <td>-0.025</td>\n",
       "      <td>-0.010</td>\n",
       "      <td>-0.041</td>\n",
       "      <td>-0.045</td>\n",
       "      <td>-0.069</td>\n",
       "      <td>0.038</td>\n",
       "      <td>0.014</td>\n",
       "      <td>0.008</td>\n",
       "      <td>-0.014</td>\n",
       "      <td>...</td>\n",
       "      <td>0.01</td>\n",
       "      <td>0.025</td>\n",
       "      <td>0.025</td>\n",
       "      <td>0.021</td>\n",
       "      <td>-0.012</td>\n",
       "      <td>0.006</td>\n",
       "      <td>0.016</td>\n",
       "      <td>-0.018</td>\n",
       "      <td>inactive</td>\n",
       "      <td>NaN</td>\n",
       "    </tr>\n",
       "    <tr>\n",
       "      <td>4</td>\n",
       "      <td>-0.183</td>\n",
       "      <td>-0.051</td>\n",
       "      <td>-0.023</td>\n",
       "      <td>-0.077</td>\n",
       "      <td>-0.092</td>\n",
       "      <td>-0.015</td>\n",
       "      <td>0.071</td>\n",
       "      <td>0.027</td>\n",
       "      <td>0.020</td>\n",
       "      <td>-0.019</td>\n",
       "      <td>...</td>\n",
       "      <td>0.012</td>\n",
       "      <td>0.05</td>\n",
       "      <td>0.038</td>\n",
       "      <td>0.051</td>\n",
       "      <td>-0.015</td>\n",
       "      <td>0.017</td>\n",
       "      <td>0.027</td>\n",
       "      <td>-0.049</td>\n",
       "      <td>inactive</td>\n",
       "      <td>NaN</td>\n",
       "    </tr>\n",
       "  </tbody>\n",
       "</table>\n",
       "<p>5 rows × 5410 columns</p>\n",
       "</div>"
      ],
      "text/plain": [
       "     0       1       2       3       4       5      6      7      8     \\\n",
       "0  -0.161  -0.014   0.002  -0.036  -0.033  -0.093  0.025  0.005  0.000   \n",
       "1  -0.158  -0.002  -0.012  -0.025  -0.012  -0.106  0.013  0.005  0.000   \n",
       "2       ?       ?       ?       ?       ?       ?      ?      ?      ?   \n",
       "3  -0.169  -0.025  -0.010  -0.041  -0.045  -0.069  0.038  0.014  0.008   \n",
       "4  -0.183  -0.051  -0.023  -0.077  -0.092  -0.015  0.071  0.027  0.020   \n",
       "\n",
       "     9     ...    5400   5401   5402    5403    5404    5405   5406    5407  \\\n",
       "0  -0.015  ...   0.013  0.021   0.02   0.016  -0.011   0.003   0.01  -0.007   \n",
       "1  -0.002  ...  -0.008  0.007  0.015  -0.008  -0.011  -0.004  0.013   0.005   \n",
       "2       ?  ...       ?      ?      ?       ?       ?       ?      ?       ?   \n",
       "3  -0.014  ...    0.01  0.025  0.025   0.021  -0.012   0.006  0.016  -0.018   \n",
       "4  -0.019  ...   0.012   0.05  0.038   0.051  -0.015   0.017  0.027  -0.049   \n",
       "\n",
       "       5408 5409  \n",
       "0  inactive  NaN  \n",
       "1  inactive  NaN  \n",
       "2  inactive  NaN  \n",
       "3  inactive  NaN  \n",
       "4  inactive  NaN  \n",
       "\n",
       "[5 rows x 5410 columns]"
      ]
     },
     "execution_count": 7,
     "metadata": {},
     "output_type": "execute_result"
    }
   ],
   "source": [
    "df.head(5)"
   ]
  },
  {
   "cell_type": "markdown",
   "metadata": {},
   "source": [
    "There are 31,420 entries and 5410 features and all the columns are of float type except for one which is an object type."
   ]
  },
  {
   "cell_type": "markdown",
   "metadata": {},
   "source": [
    "To minimize the confusion between numbered columns and rows, the prefix ‘2D’ was attached to the first 4826 column numbers and the prefix ‘3D’ to the 4827th – 5408th column using string methods to identify the 2D and 3D features. The 5409th column was labeled as ‘Type’ as it indicated the class label. "
   ]
  },
  {
   "cell_type": "code",
   "execution_count": 8,
   "metadata": {},
   "outputs": [
    {
     "data": {
      "text/plain": [
       "['3D5401',\n",
       " '3D5402',\n",
       " '3D5403',\n",
       " '3D5404',\n",
       " '3D5405',\n",
       " '3D5406',\n",
       " '3D5407',\n",
       " '3D5408',\n",
       " 'Type',\n",
       " 5409]"
      ]
     },
     "execution_count": 8,
     "metadata": {},
     "output_type": "execute_result"
    }
   ],
   "source": [
    "# Adding the prefix '2D' and '3D' to the column names. 0-4825 - add 2D. 4826-5407 - add 3D. \n",
    "# The column with the labels active/inactive is named 'Type'\n",
    "columns_string = []\n",
    "for i in df.columns:\n",
    "    if int(i) <= 4825:\n",
    "        i = '2D'+str(i+1)\n",
    "        columns_string.append(i)\n",
    "    elif int(i) >= 4826 and  i <= 5407:\n",
    "        i = '3D'+str(i+1)\n",
    "        columns_string.append(i)\n",
    "    elif int(i) == 5408:\n",
    "        i = 'Type'\n",
    "        columns_string.append(i)\n",
    "    else:\n",
    "        i = i\n",
    "        columns_string.append(i)\n",
    "columns_string[-10:]"
   ]
  },
  {
   "cell_type": "code",
   "execution_count": 9,
   "metadata": {},
   "outputs": [],
   "source": [
    "df.columns = columns_string"
   ]
  },
  {
   "cell_type": "markdown",
   "metadata": {},
   "source": [
    "The tags  or the mutation information of the data set is in another file 'instance.tags'. Read in this data and add it as a feature to df."
   ]
  },
  {
   "cell_type": "code",
   "execution_count": 10,
   "metadata": {},
   "outputs": [],
   "source": [
    "tags = pd.read_csv('./K9.instance.tags', header=None)"
   ]
  },
  {
   "cell_type": "code",
   "execution_count": 11,
   "metadata": {},
   "outputs": [],
   "source": [
    "# Add the tags as a column to the dataframe df.\n",
    "df['mutations'] = tags"
   ]
  },
  {
   "cell_type": "code",
   "execution_count": 12,
   "metadata": {},
   "outputs": [
    {
     "data": {
      "text/html": [
       "<div>\n",
       "<style scoped>\n",
       "    .dataframe tbody tr th:only-of-type {\n",
       "        vertical-align: middle;\n",
       "    }\n",
       "\n",
       "    .dataframe tbody tr th {\n",
       "        vertical-align: top;\n",
       "    }\n",
       "\n",
       "    .dataframe thead th {\n",
       "        text-align: right;\n",
       "    }\n",
       "</style>\n",
       "<table border=\"1\" class=\"dataframe\">\n",
       "  <thead>\n",
       "    <tr style=\"text-align: right;\">\n",
       "      <th></th>\n",
       "      <th>2D1</th>\n",
       "      <th>2D2</th>\n",
       "      <th>2D3</th>\n",
       "      <th>2D4</th>\n",
       "      <th>2D5</th>\n",
       "      <th>2D6</th>\n",
       "      <th>2D7</th>\n",
       "      <th>2D8</th>\n",
       "      <th>2D9</th>\n",
       "      <th>2D10</th>\n",
       "      <th>...</th>\n",
       "      <th>3D5402</th>\n",
       "      <th>3D5403</th>\n",
       "      <th>3D5404</th>\n",
       "      <th>3D5405</th>\n",
       "      <th>3D5406</th>\n",
       "      <th>3D5407</th>\n",
       "      <th>3D5408</th>\n",
       "      <th>Type</th>\n",
       "      <th>5409</th>\n",
       "      <th>mutations</th>\n",
       "    </tr>\n",
       "  </thead>\n",
       "  <tbody>\n",
       "    <tr>\n",
       "      <td>0</td>\n",
       "      <td>-0.161</td>\n",
       "      <td>-0.014</td>\n",
       "      <td>0.002</td>\n",
       "      <td>-0.036</td>\n",
       "      <td>-0.033</td>\n",
       "      <td>-0.093</td>\n",
       "      <td>0.025</td>\n",
       "      <td>0.005</td>\n",
       "      <td>0.000</td>\n",
       "      <td>-0.015</td>\n",
       "      <td>...</td>\n",
       "      <td>0.021</td>\n",
       "      <td>0.02</td>\n",
       "      <td>0.016</td>\n",
       "      <td>-0.011</td>\n",
       "      <td>0.003</td>\n",
       "      <td>0.01</td>\n",
       "      <td>-0.007</td>\n",
       "      <td>inactive</td>\n",
       "      <td>NaN</td>\n",
       "      <td>%a119e</td>\n",
       "    </tr>\n",
       "    <tr>\n",
       "      <td>1</td>\n",
       "      <td>-0.158</td>\n",
       "      <td>-0.002</td>\n",
       "      <td>-0.012</td>\n",
       "      <td>-0.025</td>\n",
       "      <td>-0.012</td>\n",
       "      <td>-0.106</td>\n",
       "      <td>0.013</td>\n",
       "      <td>0.005</td>\n",
       "      <td>0.000</td>\n",
       "      <td>-0.002</td>\n",
       "      <td>...</td>\n",
       "      <td>0.007</td>\n",
       "      <td>0.015</td>\n",
       "      <td>-0.008</td>\n",
       "      <td>-0.011</td>\n",
       "      <td>-0.004</td>\n",
       "      <td>0.013</td>\n",
       "      <td>0.005</td>\n",
       "      <td>inactive</td>\n",
       "      <td>NaN</td>\n",
       "      <td>%a119e_l125p</td>\n",
       "    </tr>\n",
       "    <tr>\n",
       "      <td>2</td>\n",
       "      <td>?</td>\n",
       "      <td>?</td>\n",
       "      <td>?</td>\n",
       "      <td>?</td>\n",
       "      <td>?</td>\n",
       "      <td>?</td>\n",
       "      <td>?</td>\n",
       "      <td>?</td>\n",
       "      <td>?</td>\n",
       "      <td>?</td>\n",
       "      <td>...</td>\n",
       "      <td>?</td>\n",
       "      <td>?</td>\n",
       "      <td>?</td>\n",
       "      <td>?</td>\n",
       "      <td>?</td>\n",
       "      <td>?</td>\n",
       "      <td>?</td>\n",
       "      <td>inactive</td>\n",
       "      <td>NaN</td>\n",
       "      <td>%a119e_r283k_a353v</td>\n",
       "    </tr>\n",
       "    <tr>\n",
       "      <td>3</td>\n",
       "      <td>-0.169</td>\n",
       "      <td>-0.025</td>\n",
       "      <td>-0.010</td>\n",
       "      <td>-0.041</td>\n",
       "      <td>-0.045</td>\n",
       "      <td>-0.069</td>\n",
       "      <td>0.038</td>\n",
       "      <td>0.014</td>\n",
       "      <td>0.008</td>\n",
       "      <td>-0.014</td>\n",
       "      <td>...</td>\n",
       "      <td>0.025</td>\n",
       "      <td>0.025</td>\n",
       "      <td>0.021</td>\n",
       "      <td>-0.012</td>\n",
       "      <td>0.006</td>\n",
       "      <td>0.016</td>\n",
       "      <td>-0.018</td>\n",
       "      <td>inactive</td>\n",
       "      <td>NaN</td>\n",
       "      <td>%a161t</td>\n",
       "    </tr>\n",
       "    <tr>\n",
       "      <td>4</td>\n",
       "      <td>-0.183</td>\n",
       "      <td>-0.051</td>\n",
       "      <td>-0.023</td>\n",
       "      <td>-0.077</td>\n",
       "      <td>-0.092</td>\n",
       "      <td>-0.015</td>\n",
       "      <td>0.071</td>\n",
       "      <td>0.027</td>\n",
       "      <td>0.020</td>\n",
       "      <td>-0.019</td>\n",
       "      <td>...</td>\n",
       "      <td>0.05</td>\n",
       "      <td>0.038</td>\n",
       "      <td>0.051</td>\n",
       "      <td>-0.015</td>\n",
       "      <td>0.017</td>\n",
       "      <td>0.027</td>\n",
       "      <td>-0.049</td>\n",
       "      <td>inactive</td>\n",
       "      <td>NaN</td>\n",
       "      <td>%c135y</td>\n",
       "    </tr>\n",
       "  </tbody>\n",
       "</table>\n",
       "<p>5 rows × 5411 columns</p>\n",
       "</div>"
      ],
      "text/plain": [
       "      2D1     2D2     2D3     2D4     2D5     2D6    2D7    2D8    2D9  \\\n",
       "0  -0.161  -0.014   0.002  -0.036  -0.033  -0.093  0.025  0.005  0.000   \n",
       "1  -0.158  -0.002  -0.012  -0.025  -0.012  -0.106  0.013  0.005  0.000   \n",
       "2       ?       ?       ?       ?       ?       ?      ?      ?      ?   \n",
       "3  -0.169  -0.025  -0.010  -0.041  -0.045  -0.069  0.038  0.014  0.008   \n",
       "4  -0.183  -0.051  -0.023  -0.077  -0.092  -0.015  0.071  0.027  0.020   \n",
       "\n",
       "     2D10  ... 3D5402 3D5403  3D5404  3D5405  3D5406 3D5407  3D5408      Type  \\\n",
       "0  -0.015  ...  0.021   0.02   0.016  -0.011   0.003   0.01  -0.007  inactive   \n",
       "1  -0.002  ...  0.007  0.015  -0.008  -0.011  -0.004  0.013   0.005  inactive   \n",
       "2       ?  ...      ?      ?       ?       ?       ?      ?       ?  inactive   \n",
       "3  -0.014  ...  0.025  0.025   0.021  -0.012   0.006  0.016  -0.018  inactive   \n",
       "4  -0.019  ...   0.05  0.038   0.051  -0.015   0.017  0.027  -0.049  inactive   \n",
       "\n",
       "  5409           mutations  \n",
       "0  NaN              %a119e  \n",
       "1  NaN        %a119e_l125p  \n",
       "2  NaN  %a119e_r283k_a353v  \n",
       "3  NaN              %a161t  \n",
       "4  NaN              %c135y  \n",
       "\n",
       "[5 rows x 5411 columns]"
      ]
     },
     "execution_count": 12,
     "metadata": {},
     "output_type": "execute_result"
    }
   ],
   "source": [
    "df.head(5)"
   ]
  },
  {
   "cell_type": "markdown",
   "metadata": {},
   "source": [
    "The column with NaNs was dropped. There were also some rows with ‘?’. Since, there were no descriptions of the features available and there were 5408 of them for each mutation, it seemed best to drop all missing values after converting them to NaNs. "
   ]
  },
  {
   "cell_type": "code",
   "execution_count": 13,
   "metadata": {},
   "outputs": [],
   "source": [
    "# The column 5409 is all NaN, so dropped it.\n",
    "df = df.drop([5409], axis=1)"
   ]
  },
  {
   "cell_type": "code",
   "execution_count": 14,
   "metadata": {},
   "outputs": [
    {
     "data": {
      "text/html": [
       "<div>\n",
       "<style scoped>\n",
       "    .dataframe tbody tr th:only-of-type {\n",
       "        vertical-align: middle;\n",
       "    }\n",
       "\n",
       "    .dataframe tbody tr th {\n",
       "        vertical-align: top;\n",
       "    }\n",
       "\n",
       "    .dataframe thead th {\n",
       "        text-align: right;\n",
       "    }\n",
       "</style>\n",
       "<table border=\"1\" class=\"dataframe\">\n",
       "  <thead>\n",
       "    <tr style=\"text-align: right;\">\n",
       "      <th></th>\n",
       "      <th>2D1</th>\n",
       "      <th>2D2</th>\n",
       "      <th>2D3</th>\n",
       "      <th>2D4</th>\n",
       "      <th>2D5</th>\n",
       "      <th>2D6</th>\n",
       "      <th>2D7</th>\n",
       "      <th>2D8</th>\n",
       "      <th>2D9</th>\n",
       "      <th>2D10</th>\n",
       "      <th>...</th>\n",
       "      <th>3D5401</th>\n",
       "      <th>3D5402</th>\n",
       "      <th>3D5403</th>\n",
       "      <th>3D5404</th>\n",
       "      <th>3D5405</th>\n",
       "      <th>3D5406</th>\n",
       "      <th>3D5407</th>\n",
       "      <th>3D5408</th>\n",
       "      <th>Type</th>\n",
       "      <th>mutations</th>\n",
       "    </tr>\n",
       "  </thead>\n",
       "  <tbody>\n",
       "    <tr>\n",
       "      <td>0</td>\n",
       "      <td>-0.161</td>\n",
       "      <td>-0.014</td>\n",
       "      <td>0.002</td>\n",
       "      <td>-0.036</td>\n",
       "      <td>-0.033</td>\n",
       "      <td>-0.093</td>\n",
       "      <td>0.025</td>\n",
       "      <td>0.005</td>\n",
       "      <td>0.000</td>\n",
       "      <td>-0.015</td>\n",
       "      <td>...</td>\n",
       "      <td>0.013</td>\n",
       "      <td>0.021</td>\n",
       "      <td>0.02</td>\n",
       "      <td>0.016</td>\n",
       "      <td>-0.011</td>\n",
       "      <td>0.003</td>\n",
       "      <td>0.01</td>\n",
       "      <td>-0.007</td>\n",
       "      <td>inactive</td>\n",
       "      <td>%a119e</td>\n",
       "    </tr>\n",
       "    <tr>\n",
       "      <td>1</td>\n",
       "      <td>-0.158</td>\n",
       "      <td>-0.002</td>\n",
       "      <td>-0.012</td>\n",
       "      <td>-0.025</td>\n",
       "      <td>-0.012</td>\n",
       "      <td>-0.106</td>\n",
       "      <td>0.013</td>\n",
       "      <td>0.005</td>\n",
       "      <td>0.000</td>\n",
       "      <td>-0.002</td>\n",
       "      <td>...</td>\n",
       "      <td>-0.008</td>\n",
       "      <td>0.007</td>\n",
       "      <td>0.015</td>\n",
       "      <td>-0.008</td>\n",
       "      <td>-0.011</td>\n",
       "      <td>-0.004</td>\n",
       "      <td>0.013</td>\n",
       "      <td>0.005</td>\n",
       "      <td>inactive</td>\n",
       "      <td>%a119e_l125p</td>\n",
       "    </tr>\n",
       "    <tr>\n",
       "      <td>2</td>\n",
       "      <td>?</td>\n",
       "      <td>?</td>\n",
       "      <td>?</td>\n",
       "      <td>?</td>\n",
       "      <td>?</td>\n",
       "      <td>?</td>\n",
       "      <td>?</td>\n",
       "      <td>?</td>\n",
       "      <td>?</td>\n",
       "      <td>?</td>\n",
       "      <td>...</td>\n",
       "      <td>?</td>\n",
       "      <td>?</td>\n",
       "      <td>?</td>\n",
       "      <td>?</td>\n",
       "      <td>?</td>\n",
       "      <td>?</td>\n",
       "      <td>?</td>\n",
       "      <td>?</td>\n",
       "      <td>inactive</td>\n",
       "      <td>%a119e_r283k_a353v</td>\n",
       "    </tr>\n",
       "    <tr>\n",
       "      <td>3</td>\n",
       "      <td>-0.169</td>\n",
       "      <td>-0.025</td>\n",
       "      <td>-0.010</td>\n",
       "      <td>-0.041</td>\n",
       "      <td>-0.045</td>\n",
       "      <td>-0.069</td>\n",
       "      <td>0.038</td>\n",
       "      <td>0.014</td>\n",
       "      <td>0.008</td>\n",
       "      <td>-0.014</td>\n",
       "      <td>...</td>\n",
       "      <td>0.01</td>\n",
       "      <td>0.025</td>\n",
       "      <td>0.025</td>\n",
       "      <td>0.021</td>\n",
       "      <td>-0.012</td>\n",
       "      <td>0.006</td>\n",
       "      <td>0.016</td>\n",
       "      <td>-0.018</td>\n",
       "      <td>inactive</td>\n",
       "      <td>%a161t</td>\n",
       "    </tr>\n",
       "    <tr>\n",
       "      <td>4</td>\n",
       "      <td>-0.183</td>\n",
       "      <td>-0.051</td>\n",
       "      <td>-0.023</td>\n",
       "      <td>-0.077</td>\n",
       "      <td>-0.092</td>\n",
       "      <td>-0.015</td>\n",
       "      <td>0.071</td>\n",
       "      <td>0.027</td>\n",
       "      <td>0.020</td>\n",
       "      <td>-0.019</td>\n",
       "      <td>...</td>\n",
       "      <td>0.012</td>\n",
       "      <td>0.05</td>\n",
       "      <td>0.038</td>\n",
       "      <td>0.051</td>\n",
       "      <td>-0.015</td>\n",
       "      <td>0.017</td>\n",
       "      <td>0.027</td>\n",
       "      <td>-0.049</td>\n",
       "      <td>inactive</td>\n",
       "      <td>%c135y</td>\n",
       "    </tr>\n",
       "  </tbody>\n",
       "</table>\n",
       "<p>5 rows × 5410 columns</p>\n",
       "</div>"
      ],
      "text/plain": [
       "      2D1     2D2     2D3     2D4     2D5     2D6    2D7    2D8    2D9  \\\n",
       "0  -0.161  -0.014   0.002  -0.036  -0.033  -0.093  0.025  0.005  0.000   \n",
       "1  -0.158  -0.002  -0.012  -0.025  -0.012  -0.106  0.013  0.005  0.000   \n",
       "2       ?       ?       ?       ?       ?       ?      ?      ?      ?   \n",
       "3  -0.169  -0.025  -0.010  -0.041  -0.045  -0.069  0.038  0.014  0.008   \n",
       "4  -0.183  -0.051  -0.023  -0.077  -0.092  -0.015  0.071  0.027  0.020   \n",
       "\n",
       "     2D10  ...  3D5401 3D5402 3D5403  3D5404  3D5405  3D5406 3D5407  3D5408  \\\n",
       "0  -0.015  ...   0.013  0.021   0.02   0.016  -0.011   0.003   0.01  -0.007   \n",
       "1  -0.002  ...  -0.008  0.007  0.015  -0.008  -0.011  -0.004  0.013   0.005   \n",
       "2       ?  ...       ?      ?      ?       ?       ?       ?      ?       ?   \n",
       "3  -0.014  ...    0.01  0.025  0.025   0.021  -0.012   0.006  0.016  -0.018   \n",
       "4  -0.019  ...   0.012   0.05  0.038   0.051  -0.015   0.017  0.027  -0.049   \n",
       "\n",
       "       Type           mutations  \n",
       "0  inactive              %a119e  \n",
       "1  inactive        %a119e_l125p  \n",
       "2  inactive  %a119e_r283k_a353v  \n",
       "3  inactive              %a161t  \n",
       "4  inactive              %c135y  \n",
       "\n",
       "[5 rows x 5410 columns]"
      ]
     },
     "execution_count": 14,
     "metadata": {},
     "output_type": "execute_result"
    }
   ],
   "source": [
    "df.head(5)"
   ]
  },
  {
   "cell_type": "code",
   "execution_count": 15,
   "metadata": {},
   "outputs": [],
   "source": [
    "# The dataframe has ? and NaN for some values and for full rows. Converted all ? to NaN and dropped it.\n",
    "df.replace('?', np.nan, inplace = True)"
   ]
  },
  {
   "cell_type": "code",
   "execution_count": 16,
   "metadata": {},
   "outputs": [],
   "source": [
    "df = df.dropna()\n",
    "df.reset_index(drop=True, inplace=True)"
   ]
  },
  {
   "cell_type": "code",
   "execution_count": 17,
   "metadata": {},
   "outputs": [
    {
     "data": {
      "text/plain": [
       "0"
      ]
     },
     "execution_count": 17,
     "metadata": {},
     "output_type": "execute_result"
    }
   ],
   "source": [
    "df.isnull().sum().sum()"
   ]
  },
  {
   "cell_type": "code",
   "execution_count": 18,
   "metadata": {},
   "outputs": [
    {
     "data": {
      "text/html": [
       "<div>\n",
       "<style scoped>\n",
       "    .dataframe tbody tr th:only-of-type {\n",
       "        vertical-align: middle;\n",
       "    }\n",
       "\n",
       "    .dataframe tbody tr th {\n",
       "        vertical-align: top;\n",
       "    }\n",
       "\n",
       "    .dataframe thead th {\n",
       "        text-align: right;\n",
       "    }\n",
       "</style>\n",
       "<table border=\"1\" class=\"dataframe\">\n",
       "  <thead>\n",
       "    <tr style=\"text-align: right;\">\n",
       "      <th></th>\n",
       "      <th>2D1</th>\n",
       "      <th>2D2</th>\n",
       "      <th>2D3</th>\n",
       "      <th>2D4</th>\n",
       "      <th>2D5</th>\n",
       "      <th>2D6</th>\n",
       "      <th>2D7</th>\n",
       "      <th>2D8</th>\n",
       "      <th>2D9</th>\n",
       "      <th>2D10</th>\n",
       "      <th>...</th>\n",
       "      <th>3D5401</th>\n",
       "      <th>3D5402</th>\n",
       "      <th>3D5403</th>\n",
       "      <th>3D5404</th>\n",
       "      <th>3D5405</th>\n",
       "      <th>3D5406</th>\n",
       "      <th>3D5407</th>\n",
       "      <th>3D5408</th>\n",
       "      <th>Type</th>\n",
       "      <th>mutations</th>\n",
       "    </tr>\n",
       "  </thead>\n",
       "  <tbody>\n",
       "    <tr>\n",
       "      <td>0</td>\n",
       "      <td>-0.161</td>\n",
       "      <td>-0.014</td>\n",
       "      <td>0.002</td>\n",
       "      <td>-0.036</td>\n",
       "      <td>-0.033</td>\n",
       "      <td>-0.093</td>\n",
       "      <td>0.025</td>\n",
       "      <td>0.005</td>\n",
       "      <td>0.000</td>\n",
       "      <td>-0.015</td>\n",
       "      <td>...</td>\n",
       "      <td>0.013</td>\n",
       "      <td>0.021</td>\n",
       "      <td>0.02</td>\n",
       "      <td>0.016</td>\n",
       "      <td>-0.011</td>\n",
       "      <td>0.003</td>\n",
       "      <td>0.01</td>\n",
       "      <td>-0.007</td>\n",
       "      <td>inactive</td>\n",
       "      <td>%a119e</td>\n",
       "    </tr>\n",
       "    <tr>\n",
       "      <td>1</td>\n",
       "      <td>-0.158</td>\n",
       "      <td>-0.002</td>\n",
       "      <td>-0.012</td>\n",
       "      <td>-0.025</td>\n",
       "      <td>-0.012</td>\n",
       "      <td>-0.106</td>\n",
       "      <td>0.013</td>\n",
       "      <td>0.005</td>\n",
       "      <td>0.000</td>\n",
       "      <td>-0.002</td>\n",
       "      <td>...</td>\n",
       "      <td>-0.008</td>\n",
       "      <td>0.007</td>\n",
       "      <td>0.015</td>\n",
       "      <td>-0.008</td>\n",
       "      <td>-0.011</td>\n",
       "      <td>-0.004</td>\n",
       "      <td>0.013</td>\n",
       "      <td>0.005</td>\n",
       "      <td>inactive</td>\n",
       "      <td>%a119e_l125p</td>\n",
       "    </tr>\n",
       "    <tr>\n",
       "      <td>2</td>\n",
       "      <td>-0.169</td>\n",
       "      <td>-0.025</td>\n",
       "      <td>-0.010</td>\n",
       "      <td>-0.041</td>\n",
       "      <td>-0.045</td>\n",
       "      <td>-0.069</td>\n",
       "      <td>0.038</td>\n",
       "      <td>0.014</td>\n",
       "      <td>0.008</td>\n",
       "      <td>-0.014</td>\n",
       "      <td>...</td>\n",
       "      <td>0.01</td>\n",
       "      <td>0.025</td>\n",
       "      <td>0.025</td>\n",
       "      <td>0.021</td>\n",
       "      <td>-0.012</td>\n",
       "      <td>0.006</td>\n",
       "      <td>0.016</td>\n",
       "      <td>-0.018</td>\n",
       "      <td>inactive</td>\n",
       "      <td>%a161t</td>\n",
       "    </tr>\n",
       "    <tr>\n",
       "      <td>3</td>\n",
       "      <td>-0.183</td>\n",
       "      <td>-0.051</td>\n",
       "      <td>-0.023</td>\n",
       "      <td>-0.077</td>\n",
       "      <td>-0.092</td>\n",
       "      <td>-0.015</td>\n",
       "      <td>0.071</td>\n",
       "      <td>0.027</td>\n",
       "      <td>0.020</td>\n",
       "      <td>-0.019</td>\n",
       "      <td>...</td>\n",
       "      <td>0.012</td>\n",
       "      <td>0.05</td>\n",
       "      <td>0.038</td>\n",
       "      <td>0.051</td>\n",
       "      <td>-0.015</td>\n",
       "      <td>0.017</td>\n",
       "      <td>0.027</td>\n",
       "      <td>-0.049</td>\n",
       "      <td>inactive</td>\n",
       "      <td>%c135y</td>\n",
       "    </tr>\n",
       "    <tr>\n",
       "      <td>4</td>\n",
       "      <td>-0.154</td>\n",
       "      <td>0.005</td>\n",
       "      <td>-0.011</td>\n",
       "      <td>-0.013</td>\n",
       "      <td>-0.002</td>\n",
       "      <td>-0.115</td>\n",
       "      <td>0.005</td>\n",
       "      <td>0.002</td>\n",
       "      <td>-0.003</td>\n",
       "      <td>0.002</td>\n",
       "      <td>...</td>\n",
       "      <td>0.012</td>\n",
       "      <td>0.009</td>\n",
       "      <td>0.003</td>\n",
       "      <td>-0.001</td>\n",
       "      <td>0.002</td>\n",
       "      <td>-0.006</td>\n",
       "      <td>0.009</td>\n",
       "      <td>0.013</td>\n",
       "      <td>inactive</td>\n",
       "      <td>%c135y_e285m</td>\n",
       "    </tr>\n",
       "  </tbody>\n",
       "</table>\n",
       "<p>5 rows × 5410 columns</p>\n",
       "</div>"
      ],
      "text/plain": [
       "      2D1     2D2     2D3     2D4     2D5     2D6    2D7    2D8     2D9  \\\n",
       "0  -0.161  -0.014   0.002  -0.036  -0.033  -0.093  0.025  0.005   0.000   \n",
       "1  -0.158  -0.002  -0.012  -0.025  -0.012  -0.106  0.013  0.005   0.000   \n",
       "2  -0.169  -0.025  -0.010  -0.041  -0.045  -0.069  0.038  0.014   0.008   \n",
       "3  -0.183  -0.051  -0.023  -0.077  -0.092  -0.015  0.071  0.027   0.020   \n",
       "4  -0.154   0.005  -0.011  -0.013  -0.002  -0.115  0.005  0.002  -0.003   \n",
       "\n",
       "     2D10  ...  3D5401 3D5402 3D5403  3D5404  3D5405  3D5406 3D5407  3D5408  \\\n",
       "0  -0.015  ...   0.013  0.021   0.02   0.016  -0.011   0.003   0.01  -0.007   \n",
       "1  -0.002  ...  -0.008  0.007  0.015  -0.008  -0.011  -0.004  0.013   0.005   \n",
       "2  -0.014  ...    0.01  0.025  0.025   0.021  -0.012   0.006  0.016  -0.018   \n",
       "3  -0.019  ...   0.012   0.05  0.038   0.051  -0.015   0.017  0.027  -0.049   \n",
       "4   0.002  ...   0.012  0.009  0.003  -0.001   0.002  -0.006  0.009   0.013   \n",
       "\n",
       "       Type     mutations  \n",
       "0  inactive        %a119e  \n",
       "1  inactive  %a119e_l125p  \n",
       "2  inactive        %a161t  \n",
       "3  inactive        %c135y  \n",
       "4  inactive  %c135y_e285m  \n",
       "\n",
       "[5 rows x 5410 columns]"
      ]
     },
     "execution_count": 18,
     "metadata": {},
     "output_type": "execute_result"
    }
   ],
   "source": [
    "df.head()"
   ]
  },
  {
   "cell_type": "code",
   "execution_count": 19,
   "metadata": {},
   "outputs": [
    {
     "data": {
      "text/plain": [
       "31008"
      ]
     },
     "execution_count": 19,
     "metadata": {},
     "output_type": "execute_result"
    }
   ],
   "source": [
    "sum(df['Type']=='inactive')"
   ]
  },
  {
   "cell_type": "code",
   "execution_count": 20,
   "metadata": {},
   "outputs": [
    {
     "data": {
      "text/plain": [
       "151"
      ]
     },
     "execution_count": 20,
     "metadata": {},
     "output_type": "execute_result"
    }
   ],
   "source": [
    "sum(df['Type']=='active')"
   ]
  },
  {
   "cell_type": "code",
   "execution_count": 21,
   "metadata": {},
   "outputs": [
    {
     "data": {
      "text/plain": [
       "(31159, 5410)"
      ]
     },
     "execution_count": 21,
     "metadata": {},
     "output_type": "execute_result"
    }
   ],
   "source": [
    "df.shape"
   ]
  },
  {
   "cell_type": "markdown",
   "metadata": {},
   "source": [
    "The ‘mutations’ column contains the mutation information for each entry/row.\n",
    "\n",
    "For eg:  ‘%a119e_l125p’ denotes 2 point mutations separated by ‘_’, the first one is ‘a119e’ and the second one is ‘l125p’. The ‘a119e’ is read as – amino acid ‘a’ at position 119 of the protein chain is replaced by amino acid ‘e’. Based on the number of ‘_’, the ‘count’ of the mutations was determined and added as a column to the dataframe, df."
   ]
  },
  {
   "cell_type": "code",
   "execution_count": 22,
   "metadata": {},
   "outputs": [],
   "source": [
    "def mutation_counter(col):\n",
    "    ### This function counts the number of mutations in each entry of the dataframe column 'mutations' ###\n",
    "    ### and returns the length of each type of mutation in 4 different lists ('one','two','three','four','more') ###\n",
    "    ### and a fifth list, 'count' which contains the designation for each entry as a 1,2,3,4 or >4. ###\n",
    "    \n",
    "    count = []                                                       # list for designating the type of mutation\n",
    "    \n",
    "    for i in col:                                                       # Iterating through the different entries in the column\n",
    "        c = i.count('_')                                                # c is the number of '_' in the entry\n",
    "        if c == 0:                                                      # if c is 0, its a one point mutation\n",
    "            count.append(1)                                           # designated as a 1 in the count list\n",
    "        else:                                                    # if c is 1, its a two point mutation\n",
    "            count.append(c+1)                                           # designated as a 2 in the count list\n",
    "        \n",
    "            \n",
    "    return(count)                            # return the length of each list"
   ]
  },
  {
   "cell_type": "code",
   "execution_count": 23,
   "metadata": {},
   "outputs": [],
   "source": [
    "# Count the number of each mutation in the dataframe df\n",
    "count = mutation_counter(df['mutations'])"
   ]
  },
  {
   "cell_type": "code",
   "execution_count": 24,
   "metadata": {},
   "outputs": [],
   "source": [
    "# Using the function mutation_counter on the 'mutations' column, generated the list 'count' and added it as another \n",
    "# column 'count' to the dataframe\n",
    "\n",
    "df['count'] = count"
   ]
  },
  {
   "cell_type": "code",
   "execution_count": 25,
   "metadata": {},
   "outputs": [
    {
     "data": {
      "text/html": [
       "<div>\n",
       "<style scoped>\n",
       "    .dataframe tbody tr th:only-of-type {\n",
       "        vertical-align: middle;\n",
       "    }\n",
       "\n",
       "    .dataframe tbody tr th {\n",
       "        vertical-align: top;\n",
       "    }\n",
       "\n",
       "    .dataframe thead th {\n",
       "        text-align: right;\n",
       "    }\n",
       "</style>\n",
       "<table border=\"1\" class=\"dataframe\">\n",
       "  <thead>\n",
       "    <tr style=\"text-align: right;\">\n",
       "      <th></th>\n",
       "      <th>2D1</th>\n",
       "      <th>2D2</th>\n",
       "      <th>2D3</th>\n",
       "      <th>2D4</th>\n",
       "      <th>2D5</th>\n",
       "      <th>2D6</th>\n",
       "      <th>2D7</th>\n",
       "      <th>2D8</th>\n",
       "      <th>2D9</th>\n",
       "      <th>2D10</th>\n",
       "      <th>...</th>\n",
       "      <th>3D5402</th>\n",
       "      <th>3D5403</th>\n",
       "      <th>3D5404</th>\n",
       "      <th>3D5405</th>\n",
       "      <th>3D5406</th>\n",
       "      <th>3D5407</th>\n",
       "      <th>3D5408</th>\n",
       "      <th>Type</th>\n",
       "      <th>mutations</th>\n",
       "      <th>count</th>\n",
       "    </tr>\n",
       "  </thead>\n",
       "  <tbody>\n",
       "    <tr>\n",
       "      <td>0</td>\n",
       "      <td>-0.161</td>\n",
       "      <td>-0.014</td>\n",
       "      <td>0.002</td>\n",
       "      <td>-0.036</td>\n",
       "      <td>-0.033</td>\n",
       "      <td>-0.093</td>\n",
       "      <td>0.025</td>\n",
       "      <td>0.005</td>\n",
       "      <td>0.000</td>\n",
       "      <td>-0.015</td>\n",
       "      <td>...</td>\n",
       "      <td>0.021</td>\n",
       "      <td>0.02</td>\n",
       "      <td>0.016</td>\n",
       "      <td>-0.011</td>\n",
       "      <td>0.003</td>\n",
       "      <td>0.01</td>\n",
       "      <td>-0.007</td>\n",
       "      <td>inactive</td>\n",
       "      <td>%a119e</td>\n",
       "      <td>1</td>\n",
       "    </tr>\n",
       "    <tr>\n",
       "      <td>1</td>\n",
       "      <td>-0.158</td>\n",
       "      <td>-0.002</td>\n",
       "      <td>-0.012</td>\n",
       "      <td>-0.025</td>\n",
       "      <td>-0.012</td>\n",
       "      <td>-0.106</td>\n",
       "      <td>0.013</td>\n",
       "      <td>0.005</td>\n",
       "      <td>0.000</td>\n",
       "      <td>-0.002</td>\n",
       "      <td>...</td>\n",
       "      <td>0.007</td>\n",
       "      <td>0.015</td>\n",
       "      <td>-0.008</td>\n",
       "      <td>-0.011</td>\n",
       "      <td>-0.004</td>\n",
       "      <td>0.013</td>\n",
       "      <td>0.005</td>\n",
       "      <td>inactive</td>\n",
       "      <td>%a119e_l125p</td>\n",
       "      <td>2</td>\n",
       "    </tr>\n",
       "    <tr>\n",
       "      <td>2</td>\n",
       "      <td>-0.169</td>\n",
       "      <td>-0.025</td>\n",
       "      <td>-0.010</td>\n",
       "      <td>-0.041</td>\n",
       "      <td>-0.045</td>\n",
       "      <td>-0.069</td>\n",
       "      <td>0.038</td>\n",
       "      <td>0.014</td>\n",
       "      <td>0.008</td>\n",
       "      <td>-0.014</td>\n",
       "      <td>...</td>\n",
       "      <td>0.025</td>\n",
       "      <td>0.025</td>\n",
       "      <td>0.021</td>\n",
       "      <td>-0.012</td>\n",
       "      <td>0.006</td>\n",
       "      <td>0.016</td>\n",
       "      <td>-0.018</td>\n",
       "      <td>inactive</td>\n",
       "      <td>%a161t</td>\n",
       "      <td>1</td>\n",
       "    </tr>\n",
       "    <tr>\n",
       "      <td>3</td>\n",
       "      <td>-0.183</td>\n",
       "      <td>-0.051</td>\n",
       "      <td>-0.023</td>\n",
       "      <td>-0.077</td>\n",
       "      <td>-0.092</td>\n",
       "      <td>-0.015</td>\n",
       "      <td>0.071</td>\n",
       "      <td>0.027</td>\n",
       "      <td>0.020</td>\n",
       "      <td>-0.019</td>\n",
       "      <td>...</td>\n",
       "      <td>0.05</td>\n",
       "      <td>0.038</td>\n",
       "      <td>0.051</td>\n",
       "      <td>-0.015</td>\n",
       "      <td>0.017</td>\n",
       "      <td>0.027</td>\n",
       "      <td>-0.049</td>\n",
       "      <td>inactive</td>\n",
       "      <td>%c135y</td>\n",
       "      <td>1</td>\n",
       "    </tr>\n",
       "    <tr>\n",
       "      <td>4</td>\n",
       "      <td>-0.154</td>\n",
       "      <td>0.005</td>\n",
       "      <td>-0.011</td>\n",
       "      <td>-0.013</td>\n",
       "      <td>-0.002</td>\n",
       "      <td>-0.115</td>\n",
       "      <td>0.005</td>\n",
       "      <td>0.002</td>\n",
       "      <td>-0.003</td>\n",
       "      <td>0.002</td>\n",
       "      <td>...</td>\n",
       "      <td>0.009</td>\n",
       "      <td>0.003</td>\n",
       "      <td>-0.001</td>\n",
       "      <td>0.002</td>\n",
       "      <td>-0.006</td>\n",
       "      <td>0.009</td>\n",
       "      <td>0.013</td>\n",
       "      <td>inactive</td>\n",
       "      <td>%c135y_e285m</td>\n",
       "      <td>2</td>\n",
       "    </tr>\n",
       "  </tbody>\n",
       "</table>\n",
       "<p>5 rows × 5411 columns</p>\n",
       "</div>"
      ],
      "text/plain": [
       "      2D1     2D2     2D3     2D4     2D5     2D6    2D7    2D8     2D9  \\\n",
       "0  -0.161  -0.014   0.002  -0.036  -0.033  -0.093  0.025  0.005   0.000   \n",
       "1  -0.158  -0.002  -0.012  -0.025  -0.012  -0.106  0.013  0.005   0.000   \n",
       "2  -0.169  -0.025  -0.010  -0.041  -0.045  -0.069  0.038  0.014   0.008   \n",
       "3  -0.183  -0.051  -0.023  -0.077  -0.092  -0.015  0.071  0.027   0.020   \n",
       "4  -0.154   0.005  -0.011  -0.013  -0.002  -0.115  0.005  0.002  -0.003   \n",
       "\n",
       "     2D10  ... 3D5402 3D5403  3D5404  3D5405  3D5406 3D5407  3D5408      Type  \\\n",
       "0  -0.015  ...  0.021   0.02   0.016  -0.011   0.003   0.01  -0.007  inactive   \n",
       "1  -0.002  ...  0.007  0.015  -0.008  -0.011  -0.004  0.013   0.005  inactive   \n",
       "2  -0.014  ...  0.025  0.025   0.021  -0.012   0.006  0.016  -0.018  inactive   \n",
       "3  -0.019  ...   0.05  0.038   0.051  -0.015   0.017  0.027  -0.049  inactive   \n",
       "4   0.002  ...  0.009  0.003  -0.001   0.002  -0.006  0.009   0.013  inactive   \n",
       "\n",
       "      mutations count  \n",
       "0        %a119e     1  \n",
       "1  %a119e_l125p     2  \n",
       "2        %a161t     1  \n",
       "3        %c135y     1  \n",
       "4  %c135y_e285m     2  \n",
       "\n",
       "[5 rows x 5411 columns]"
      ]
     },
     "execution_count": 25,
     "metadata": {},
     "output_type": "execute_result"
    }
   ],
   "source": [
    "df.head()"
   ]
  },
  {
   "cell_type": "code",
   "execution_count": 26,
   "metadata": {},
   "outputs": [
    {
     "name": "stdout",
     "output_type": "stream",
     "text": [
      "6\n"
     ]
    }
   ],
   "source": [
    "max_count = df['count'].max()\n",
    "print(max_count)"
   ]
  },
  {
   "cell_type": "markdown",
   "metadata": {},
   "source": [
    "The dataset has 1-6 point mutations. \n",
    "\n",
    "In human mammary carcinoma, the mutation sites of p53 tend to occur within one single exon (coding region) or a short distance from another, implying that the distance of mutations may be of importance for affecting the function of p53. Reference: Tao Huang, Shen Niu, Zhongping Xu, Yun Huang, Xiangyin Kong, Yu-Dong Cai and Kuo-Chen (2011) ChouPredicting transcriptional activity of multiple site p53 mutants based on hybrid properties. PLoS One 6(8): e22940. \n",
    "\n",
    "Here we used 1,2,3,4 and 5 distance features for 1 pt., 2 pt., 3pt., 4pt., 5pt. and 6pt. mutations. The distance features represent the distance between adjacent mutations, ie., the distance between the first and second mutations (difference in position numbers), second and third, and so on. \n",
    "\n",
    "For e.g., in a 3pt. mutation, there will be 2 distance features – one, the distance between the first and second mutation positions and the second, the distance between the second and third mutation positions. Five such distance features named ‘distance1’,…,’distance5’ were added to the data set."
   ]
  },
  {
   "cell_type": "code",
   "execution_count": 27,
   "metadata": {},
   "outputs": [],
   "source": [
    "# Adding the distance feature of the mutations - the position of the 2 point where the mutation occurred is taken and \n",
    "# the absolute value of their difference is the distance\n",
    "# For the one point mutation, the dist1 is 0\n",
    "# for the 2 pt mutation, the dist1 is the distance\n",
    "# for the 3 pt mutation, dist1 will have 1st diff and dist2 will have the 2nd diff\n",
    "# for the 4 pt mutation, dist1, dist2 and dist3\n",
    "# for the 5 pt mutation, dist1, dist2 and dist3, dist4\n",
    "# for the 6 pt mutation, dist1, dist2 and dist3, dist4, dist5\n",
    "\n",
    "dist1 = []                                                            # empty lists 'dist1' to 'dist5'\n",
    "dist2 = []\n",
    "dist3 = []\n",
    "dist4 = []\n",
    "dist5 = []\n",
    "\n",
    "for i in df['mutations']:                                            # iterating through each entry in 'mutations' column\n",
    "    c = i.count('_')                                                 # c is the count of '_'\n",
    "    if c == 0:                                                       # if its 0, then 1 pt mutation\n",
    "        dist1.append(0)                                              # and all dist lists are appended as 0 for that entry\n",
    "        dist2.append(0)\n",
    "        dist3.append(0)\n",
    "        dist4.append(0)\n",
    "        dist5.append(0)\n",
    "    elif c == 1:                                                     # If c is 1, then it is a 2 pt mutation\n",
    "        a, b = i.strip('%').split('_')                               # strip off '%' and split at '_' and get 2 strings - a & b\n",
    "        match_a = re.match(r\"([a-z]+)([0-9]+)([a-z]+)\", a, re.I)     # re for a and b - alphabet/number/alphabet\n",
    "        match_b = re.match(r\"([a-z]+)([0-9]+)([a-z]+)\", b, re.I)    \n",
    "        if match_a:\n",
    "            items_a = match_a.groups()                               # group the 3 diff components into resp items_a, items_b\n",
    "            pos1 = int(items_a[1])                                   # the 2nd component of each items is the \n",
    "        if match_b:                                                  # position of the aminoacid\n",
    "            items_b = match_b.groups()                              \n",
    "            pos2 = int(items_b[1])                                   \n",
    "        dist1.append(abs(pos1 - pos2))                               # absolute difference of the positions is the distance in dist1\n",
    "        dist2.append(0)                                              # the rest are appended with '0'\n",
    "        dist3.append(0)\n",
    "        dist4.append(0)\n",
    "        dist5.append(0)\n",
    "    elif c == 2:                                                     # If c is 2, then it is a 3 pt mutation\n",
    "        a, b, c = i.strip('%').split('_')                            # strip off '%' and split at '_' and get 3 strings - a,b,c\n",
    "        match_a = re.match(r\"([a-z]+)([0-9]+)([a-z]+)\", a, re.I)     # re for a,b,c - alphabet/number/alphabet\n",
    "        match_b = re.match(r\"([a-z]+)([0-9]+)([a-z]+)\", b, re.I)     \n",
    "        match_c = re.match(r\"([a-z]+)([0-9]+)([a-z]+)\", c, re.I)\n",
    "        if match_a:\n",
    "            items_a = match_a.groups()                               # group the 3 diff components into items_a, items_b, items_c\n",
    "            pos1 = int(items_a[1])                                   # the 2nd component of all items is the position of the aminoacid\n",
    "        if match_b:    \n",
    "            items_b = match_b.groups()                               \n",
    "            pos2 = int(items_b[1])                                   \n",
    "        if match_c:    \n",
    "            items_c = match_c.groups()                               \n",
    "            pos3 = int(items_c[1])\n",
    "        dist1.append(abs(pos1 - pos2))                               # dist 1 has 1st diff and dist2 has 2nd diff\n",
    "        dist2.append(abs(pos2 - pos3))\n",
    "        dist3.append(0)                                              # the rest are appended with '0'\n",
    "        dist4.append(0)\n",
    "        dist5.append(0)\n",
    "    elif c == 3:                                                     # If c is 3, then it is a 4 point mutation\n",
    "        a, b, c, d = i.strip('%').split('_')                         # strip off '%', split at '_' , get 4 strings - a,b,c,d\n",
    "        match_a = re.match(r\"([a-z]+)([0-9]+)([a-z]+)\", a, re.I)     # re for a,b,c,d - alphabet/number/alphabet\n",
    "        match_b = re.match(r\"([a-z]+)([0-9]+)([a-z]+)\", b, re.I)     \n",
    "        match_c = re.match(r\"([a-z]+)([0-9]+)([a-z]+)\", c, re.I)\n",
    "        match_d = re.match(r\"([a-z]+)([0-9]+)([a-z]+)\", d, re.I)     \n",
    "        if match_a:\n",
    "            items_a = match_a.groups()                               # group the 3 diff components into items_a,items_b,items_c,items_d\n",
    "            pos1 = int(items_a[1])                                   \n",
    "        if match_b:    \n",
    "            items_b = match_b.groups()                               \n",
    "            pos2 = int(items_b[1])                                   \n",
    "        if match_c:    \n",
    "            items_c = match_c.groups()                               \n",
    "            pos3 = int(items_c[1])\n",
    "        if match_d:    \n",
    "            items_d = match_d.groups()                               \n",
    "            pos4 = int(items_d[1])\n",
    "        dist1.append(abs(pos1 - pos2))                               # dist1 is 1st diff, dist2 is 2nd diff and dist3 is 3rd diff \n",
    "        dist2.append(abs(pos2 - pos3))\n",
    "        dist3.append(abs(pos3 - pos4))\n",
    "        dist4.append(0)                                              # the rest are appended with '0'\n",
    "        dist5.append(0)\n",
    "    elif c == 4:                                                     # If c is 4, then it is a 5 pt mutation\n",
    "        a, b, c, d, e = i.strip('%').split('_')                      # strip off '%', split at '_', get 5 strings - a,b,c,d,e\n",
    "        match_a = re.match(r\"([a-z]+)([0-9]+)([a-z]+)\", a, re.I)     # re for a,b,c,d,e - alphabet/number/alphabet\n",
    "        match_b = re.match(r\"([a-z]+)([0-9]+)([a-z]+)\", b, re.I)     \n",
    "        match_c = re.match(r\"([a-z]+)([0-9]+)([a-z]+)\", c, re.I)\n",
    "        match_d = re.match(r\"([a-z]+)([0-9]+)([a-z]+)\", d, re.I)     \n",
    "        match_e = re.match(r\"([a-z]+)([0-9]+)([a-z]+)\", e, re.I)\n",
    "        if match_a:\n",
    "            items_a = match_a.groups()                               # group the 3 diff components into items_a,items_b,items_c,items_d\n",
    "            pos1 = int(items_a[1])                                   # and items_e\n",
    "        if match_b:                                                  # the 2nd component of items_b is the position of the aminoacid\n",
    "            items_b = match_b.groups()                               \n",
    "            pos2 = int(items_b[1])                                   \n",
    "        if match_c:    \n",
    "            items_c = match_c.groups()                               \n",
    "            pos3 = int(items_c[1])\n",
    "        if match_d:    \n",
    "            items_d = match_d.groups()                               \n",
    "            pos4 = int(items_d[1])\n",
    "        if match_e:    \n",
    "            items_e = match_e.groups()                               \n",
    "            pos5 = int(items_e[1])\n",
    "        dist1.append(abs(pos1 - pos2))                               # dist1-1st, dist2-2nd, dist3-3rd, dist4-4th\n",
    "        dist2.append(abs(pos2 - pos3))\n",
    "        dist3.append(abs(pos3 - pos4))\n",
    "        dist4.append(abs(pos4 - pos5))\n",
    "        dist5.append(0)                                              # the rest are appended with '0'\n",
    "    elif c == 5:                                                     # If c is 5, then it is a 6 pt mutation\n",
    "        a, b, c, d, e, f = i.strip('%').split('_')                   # strip off '%', split at '_', get 6 strings - a,b,c,d,e,f\n",
    "        match_a = re.match(r\"([a-z]+)([0-9]+)([a-z]+)\", a, re.I)     # re for a,b,c,d,e,f - alphabet/number/alphabet\n",
    "        match_b = re.match(r\"([a-z]+)([0-9]+)([a-z]+)\", b, re.I)     \n",
    "        match_c = re.match(r\"([a-z]+)([0-9]+)([a-z]+)\", c, re.I)\n",
    "        match_d = re.match(r\"([a-z]+)([0-9]+)([a-z]+)\", d, re.I)     \n",
    "        match_e = re.match(r\"([a-z]+)([0-9]+)([a-z]+)\", e, re.I)\n",
    "        match_f = re.match(r\"([a-z]+)([0-9]+)([a-z]+)\", f, re.I)\n",
    "        if match_a:\n",
    "            items_a = match_a.groups()                               # group the 3 diff components into items_a, items_b, items_c, items_d\n",
    "            pos1 = int(items_a[1])                                   # items_e, items_f\n",
    "        if match_b:                                                  # the 2nd component of items_b is the position of the aminoacid\n",
    "            items_b = match_b.groups()                               \n",
    "            pos2 = int(items_b[1])                                   \n",
    "        if match_c:    \n",
    "            items_c = match_c.groups()                               \n",
    "            pos3 = int(items_c[1])\n",
    "        if match_d:    \n",
    "            items_d = match_d.groups()                               \n",
    "            pos4 = int(items_d[1])\n",
    "        if match_e:    \n",
    "            items_e = match_e.groups()                               \n",
    "            pos5 = int(items_e[1])\n",
    "        if match_f:    \n",
    "            items_f = match_f.groups()                               \n",
    "            pos6 = int(items_f[1])\n",
    "        dist1.append(abs(pos1 - pos2))                                # dist1-1st, dist2-2nd, dist3-3rd, dist4-4th, dist5-5th \n",
    "        dist2.append(abs(pos2 - pos3))\n",
    "        dist3.append(abs(pos3 - pos4))\n",
    "        dist4.append(abs(pos4 - pos5))\n",
    "        dist5.append(abs(pos5 - pos6))                  # the rest are appended with '0'\n",
    "        "
   ]
  },
  {
   "cell_type": "code",
   "execution_count": 28,
   "metadata": {},
   "outputs": [],
   "source": [
    "# Added the distance lists as columns \n",
    "df['distance1'] = dist1\n",
    "df['distance2'] = dist2\n",
    "df['distance3'] = dist3\n",
    "df['distance4'] = dist4\n",
    "df['distance5'] = dist5"
   ]
  },
  {
   "cell_type": "code",
   "execution_count": 29,
   "metadata": {},
   "outputs": [
    {
     "data": {
      "text/html": [
       "<div>\n",
       "<style scoped>\n",
       "    .dataframe tbody tr th:only-of-type {\n",
       "        vertical-align: middle;\n",
       "    }\n",
       "\n",
       "    .dataframe tbody tr th {\n",
       "        vertical-align: top;\n",
       "    }\n",
       "\n",
       "    .dataframe thead th {\n",
       "        text-align: right;\n",
       "    }\n",
       "</style>\n",
       "<table border=\"1\" class=\"dataframe\">\n",
       "  <thead>\n",
       "    <tr style=\"text-align: right;\">\n",
       "      <th></th>\n",
       "      <th>2D1</th>\n",
       "      <th>2D2</th>\n",
       "      <th>2D3</th>\n",
       "      <th>2D4</th>\n",
       "      <th>2D5</th>\n",
       "      <th>2D6</th>\n",
       "      <th>2D7</th>\n",
       "      <th>2D8</th>\n",
       "      <th>2D9</th>\n",
       "      <th>2D10</th>\n",
       "      <th>...</th>\n",
       "      <th>3D5407</th>\n",
       "      <th>3D5408</th>\n",
       "      <th>Type</th>\n",
       "      <th>mutations</th>\n",
       "      <th>count</th>\n",
       "      <th>distance1</th>\n",
       "      <th>distance2</th>\n",
       "      <th>distance3</th>\n",
       "      <th>distance4</th>\n",
       "      <th>distance5</th>\n",
       "    </tr>\n",
       "  </thead>\n",
       "  <tbody>\n",
       "    <tr>\n",
       "      <td>0</td>\n",
       "      <td>-0.161</td>\n",
       "      <td>-0.014</td>\n",
       "      <td>0.002</td>\n",
       "      <td>-0.036</td>\n",
       "      <td>-0.033</td>\n",
       "      <td>-0.093</td>\n",
       "      <td>0.025</td>\n",
       "      <td>0.005</td>\n",
       "      <td>0.000</td>\n",
       "      <td>-0.015</td>\n",
       "      <td>...</td>\n",
       "      <td>0.01</td>\n",
       "      <td>-0.007</td>\n",
       "      <td>inactive</td>\n",
       "      <td>%a119e</td>\n",
       "      <td>1</td>\n",
       "      <td>0</td>\n",
       "      <td>0</td>\n",
       "      <td>0</td>\n",
       "      <td>0</td>\n",
       "      <td>0</td>\n",
       "    </tr>\n",
       "    <tr>\n",
       "      <td>1</td>\n",
       "      <td>-0.158</td>\n",
       "      <td>-0.002</td>\n",
       "      <td>-0.012</td>\n",
       "      <td>-0.025</td>\n",
       "      <td>-0.012</td>\n",
       "      <td>-0.106</td>\n",
       "      <td>0.013</td>\n",
       "      <td>0.005</td>\n",
       "      <td>0.000</td>\n",
       "      <td>-0.002</td>\n",
       "      <td>...</td>\n",
       "      <td>0.013</td>\n",
       "      <td>0.005</td>\n",
       "      <td>inactive</td>\n",
       "      <td>%a119e_l125p</td>\n",
       "      <td>2</td>\n",
       "      <td>6</td>\n",
       "      <td>0</td>\n",
       "      <td>0</td>\n",
       "      <td>0</td>\n",
       "      <td>0</td>\n",
       "    </tr>\n",
       "    <tr>\n",
       "      <td>2</td>\n",
       "      <td>-0.169</td>\n",
       "      <td>-0.025</td>\n",
       "      <td>-0.010</td>\n",
       "      <td>-0.041</td>\n",
       "      <td>-0.045</td>\n",
       "      <td>-0.069</td>\n",
       "      <td>0.038</td>\n",
       "      <td>0.014</td>\n",
       "      <td>0.008</td>\n",
       "      <td>-0.014</td>\n",
       "      <td>...</td>\n",
       "      <td>0.016</td>\n",
       "      <td>-0.018</td>\n",
       "      <td>inactive</td>\n",
       "      <td>%a161t</td>\n",
       "      <td>1</td>\n",
       "      <td>0</td>\n",
       "      <td>0</td>\n",
       "      <td>0</td>\n",
       "      <td>0</td>\n",
       "      <td>0</td>\n",
       "    </tr>\n",
       "    <tr>\n",
       "      <td>3</td>\n",
       "      <td>-0.183</td>\n",
       "      <td>-0.051</td>\n",
       "      <td>-0.023</td>\n",
       "      <td>-0.077</td>\n",
       "      <td>-0.092</td>\n",
       "      <td>-0.015</td>\n",
       "      <td>0.071</td>\n",
       "      <td>0.027</td>\n",
       "      <td>0.020</td>\n",
       "      <td>-0.019</td>\n",
       "      <td>...</td>\n",
       "      <td>0.027</td>\n",
       "      <td>-0.049</td>\n",
       "      <td>inactive</td>\n",
       "      <td>%c135y</td>\n",
       "      <td>1</td>\n",
       "      <td>0</td>\n",
       "      <td>0</td>\n",
       "      <td>0</td>\n",
       "      <td>0</td>\n",
       "      <td>0</td>\n",
       "    </tr>\n",
       "    <tr>\n",
       "      <td>4</td>\n",
       "      <td>-0.154</td>\n",
       "      <td>0.005</td>\n",
       "      <td>-0.011</td>\n",
       "      <td>-0.013</td>\n",
       "      <td>-0.002</td>\n",
       "      <td>-0.115</td>\n",
       "      <td>0.005</td>\n",
       "      <td>0.002</td>\n",
       "      <td>-0.003</td>\n",
       "      <td>0.002</td>\n",
       "      <td>...</td>\n",
       "      <td>0.009</td>\n",
       "      <td>0.013</td>\n",
       "      <td>inactive</td>\n",
       "      <td>%c135y_e285m</td>\n",
       "      <td>2</td>\n",
       "      <td>150</td>\n",
       "      <td>0</td>\n",
       "      <td>0</td>\n",
       "      <td>0</td>\n",
       "      <td>0</td>\n",
       "    </tr>\n",
       "  </tbody>\n",
       "</table>\n",
       "<p>5 rows × 5416 columns</p>\n",
       "</div>"
      ],
      "text/plain": [
       "      2D1     2D2     2D3     2D4     2D5     2D6    2D7    2D8     2D9  \\\n",
       "0  -0.161  -0.014   0.002  -0.036  -0.033  -0.093  0.025  0.005   0.000   \n",
       "1  -0.158  -0.002  -0.012  -0.025  -0.012  -0.106  0.013  0.005   0.000   \n",
       "2  -0.169  -0.025  -0.010  -0.041  -0.045  -0.069  0.038  0.014   0.008   \n",
       "3  -0.183  -0.051  -0.023  -0.077  -0.092  -0.015  0.071  0.027   0.020   \n",
       "4  -0.154   0.005  -0.011  -0.013  -0.002  -0.115  0.005  0.002  -0.003   \n",
       "\n",
       "     2D10  ... 3D5407  3D5408      Type     mutations count distance1  \\\n",
       "0  -0.015  ...   0.01  -0.007  inactive        %a119e     1         0   \n",
       "1  -0.002  ...  0.013   0.005  inactive  %a119e_l125p     2         6   \n",
       "2  -0.014  ...  0.016  -0.018  inactive        %a161t     1         0   \n",
       "3  -0.019  ...  0.027  -0.049  inactive        %c135y     1         0   \n",
       "4   0.002  ...  0.009   0.013  inactive  %c135y_e285m     2       150   \n",
       "\n",
       "  distance2 distance3 distance4 distance5  \n",
       "0         0         0         0         0  \n",
       "1         0         0         0         0  \n",
       "2         0         0         0         0  \n",
       "3         0         0         0         0  \n",
       "4         0         0         0         0  \n",
       "\n",
       "[5 rows x 5416 columns]"
      ]
     },
     "execution_count": 29,
     "metadata": {},
     "output_type": "execute_result"
    }
   ],
   "source": [
    "df.head()"
   ]
  },
  {
   "cell_type": "markdown",
   "metadata": {},
   "source": [
    "There were 31269 ‘inactive’ entries and only 151 ‘active’ entries in the dataset initially. But, after removing the missing values and NaNs, adding the ‘count’ and distance features, the data frame has 31159 entries with 5416 columns. The number of ‘inactive’ entries is now 31008 and 151 ‘active’ entries."
   ]
  },
  {
   "cell_type": "code",
   "execution_count": 30,
   "metadata": {},
   "outputs": [
    {
     "data": {
      "text/plain": [
       "(31159, 5416)"
      ]
     },
     "execution_count": 30,
     "metadata": {},
     "output_type": "execute_result"
    }
   ],
   "source": [
    "df.shape"
   ]
  },
  {
   "cell_type": "code",
   "execution_count": 31,
   "metadata": {},
   "outputs": [
    {
     "data": {
      "text/plain": [
       "151"
      ]
     },
     "execution_count": 31,
     "metadata": {},
     "output_type": "execute_result"
    }
   ],
   "source": [
    "# Number of 'active' and 'inactive' records\n",
    "\n",
    "sum(df['Type'] == 'active')"
   ]
  },
  {
   "cell_type": "code",
   "execution_count": 32,
   "metadata": {},
   "outputs": [
    {
     "data": {
      "text/plain": [
       "31008"
      ]
     },
     "execution_count": 32,
     "metadata": {},
     "output_type": "execute_result"
    }
   ],
   "source": [
    "sum(df['Type'] == 'inactive')"
   ]
  },
  {
   "cell_type": "code",
   "execution_count": 33,
   "metadata": {},
   "outputs": [],
   "source": [
    "# converting everything in the dataframe to numeric\n",
    "df = df.apply(pd.to_numeric, errors='ignore')"
   ]
  },
  {
   "cell_type": "code",
   "execution_count": 35,
   "metadata": {},
   "outputs": [],
   "source": [
    "df_cols = df.columns"
   ]
  },
  {
   "cell_type": "markdown",
   "metadata": {
    "scrolled": true
   },
   "source": [
    "# Data Story"
   ]
  },
  {
   "cell_type": "markdown",
   "metadata": {},
   "source": [
    "The 2D features were also known as Surface Property Maps and are just numbers representing the difference between the surface map of 'normal' amino acid (wild-type) and the mutated one. The 3D features, also known as Structure Distance Maps, are also representing difference in magnitude of the distance changes in the 3D structure. This kind of multidimensional data is very hard to visualise for any specific feature correlation. We can try feature selection and dimensionality reduction on the data set and then try to visualise the key components.\n",
    "\n",
    "For now, the spread of the different types of mutations and their respective distance features can be visualised.\n",
    "\n",
    "It is important to know how many entries are there for each type of mutation or 'count'. This will tell us which distance feature is also more prevalent. We also need to know the range of the distance features(1-5) - this shows how close together or distant the mutations are.\n",
    "\n",
    "The data set is skewed with 31008 'inactive' and 151 'active' entries. \n",
    "\n",
    "The histogram of the 'count' shows the spread of the different types of mutations in the data set. "
   ]
  },
  {
   "cell_type": "code",
   "execution_count": 34,
   "metadata": {},
   "outputs": [
    {
     "data": {
      "text/plain": [
       "Text(0.5, 1.0, 'Frequency Distribution of different point mutations')"
      ]
     },
     "execution_count": 34,
     "metadata": {},
     "output_type": "execute_result"
    },
    {
     "data": {
      "image/png": "[encoded data removed]",
      "text/plain": [
       "<Figure size 864x360 with 1 Axes>"
      ]
     },
     "metadata": {
      "needs_background": "light"
     },
     "output_type": "display_data"
    }
   ],
   "source": [
    "plt.figure(figsize=(12,5))\n",
    "plt.hist(count)\n",
    "plt.grid(axis='y', alpha=0.5)\n",
    "plt.xlabel('Point Mutations')\n",
    "plt.ylabel('Count of different point mutations')\n",
    "plt.title('Frequency Distribution of different point mutations')"
   ]
  },
  {
   "cell_type": "markdown",
   "metadata": {},
   "source": [
    "The 2 pt. mutations outnumber the other types and the graph does not show the distribution of the other types. Limiting, the y-axis to a lower value will help see the distribution of the other mutations as well."
   ]
  },
  {
   "cell_type": "code",
   "execution_count": 35,
   "metadata": {},
   "outputs": [
    {
     "data": {
      "text/plain": [
       "Text(0.5, 1.0, 'Frequency Distribution of different point mutations')"
      ]
     },
     "execution_count": 35,
     "metadata": {},
     "output_type": "execute_result"
    },
    {
     "data": {
      "image/png": "[encoded data removed]",
      "text/plain": [
       "<Figure size 864x360 with 1 Axes>"
      ]
     },
     "metadata": {
      "needs_background": "light"
     },
     "output_type": "display_data"
    }
   ],
   "source": [
    "plt.figure(figsize=(12,5))\n",
    "plt.hist(count)\n",
    "plt.grid(axis='y', alpha=0.5)\n",
    "plt.ylim([0,130])\n",
    "plt.xlabel('Point Mutations')\n",
    "plt.ylabel('Count of different point mutations')\n",
    "plt.title('Frequency Distribution of different point mutations')"
   ]
  },
  {
   "cell_type": "markdown",
   "metadata": {},
   "source": [
    "This shows that the majority of the entries are 2 pt. mutations, with very few of the other types.\n",
    "\n",
    "The distance features were plotted to see what was the range of the differences between adjacent mutations."
   ]
  },
  {
   "cell_type": "code",
   "execution_count": 36,
   "metadata": {},
   "outputs": [
    {
     "data": {
      "text/plain": [
       "Text(0.5, 1.0, 'Frequency Distribution of distance feature 1')"
      ]
     },
     "execution_count": 36,
     "metadata": {},
     "output_type": "execute_result"
    },
    {
     "data": {
      "image/png": "[encoded data removed]",
      "text/plain": [
       "<Figure size 864x360 with 1 Axes>"
      ]
     },
     "metadata": {
      "needs_background": "light"
     },
     "output_type": "display_data"
    }
   ],
   "source": [
    "plt.figure(figsize=(12,5))\n",
    "plt.hist(df.distance1, bins=15,edgecolor='white')\n",
    "plt.grid(axis='y', alpha=0.5)\n",
    "plt.xlabel('Distance 1 - zero for 1 pt. and difference between first and second mutations for others')\n",
    "plt.ylabel('Count')\n",
    "plt.title('Frequency Distribution of distance feature 1')"
   ]
  },
  {
   "cell_type": "code",
   "execution_count": 37,
   "metadata": {},
   "outputs": [
    {
     "data": {
      "text/plain": [
       "186"
      ]
     },
     "execution_count": 37,
     "metadata": {},
     "output_type": "execute_result"
    }
   ],
   "source": [
    "df.distance1.max()"
   ]
  },
  {
   "cell_type": "markdown",
   "metadata": {},
   "source": [
    "The 'distance1' feature which contains the difference in position between the first and second mutations shows that at least half of them lie between 0-75. "
   ]
  },
  {
   "cell_type": "code",
   "execution_count": 38,
   "metadata": {},
   "outputs": [
    {
     "data": {
      "text/plain": [
       "Text(0.5, 1.0, 'Frequency Distribution of distance feature 2')"
      ]
     },
     "execution_count": 38,
     "metadata": {},
     "output_type": "execute_result"
    },
    {
     "data": {
      "image/png": "[encoded data removed]",
      "text/plain": [
       "<Figure size 864x360 with 1 Axes>"
      ]
     },
     "metadata": {
      "needs_background": "light"
     },
     "output_type": "display_data"
    }
   ],
   "source": [
    "plt.figure(figsize=(12,5))\n",
    "plt.hist(df.distance2, bins=15,edgecolor='white')\n",
    "plt.grid(axis='y', alpha=0.5)\n",
    "plt.ylim([0,20])\n",
    "plt.xlabel('Distance 2 - difference between second and third mutations')\n",
    "plt.ylabel('Count')\n",
    "plt.title('Frequency Distribution of distance feature 2')"
   ]
  },
  {
   "cell_type": "code",
   "execution_count": 39,
   "metadata": {},
   "outputs": [
    {
     "data": {
      "text/plain": [
       "140"
      ]
     },
     "execution_count": 39,
     "metadata": {},
     "output_type": "execute_result"
    }
   ],
   "source": [
    "df.distance2.max()"
   ]
  },
  {
   "cell_type": "markdown",
   "metadata": {},
   "source": [
    "The 'distance2' feature shows an even narrower range - most values are between 0-10 ie., the adjacent mutations are really close most of the time. Below, the 'distance3', 'distance4' and 'distance5' were also seen to give a similar result. Most adjacent mutations are located within a distance of 0-20."
   ]
  },
  {
   "cell_type": "code",
   "execution_count": 40,
   "metadata": {},
   "outputs": [
    {
     "data": {
      "text/plain": [
       "Text(0.5, 1.0, 'Frequency Distribution of distance feature 3')"
      ]
     },
     "execution_count": 40,
     "metadata": {},
     "output_type": "execute_result"
    },
    {
     "data": {
      "image/png": "[encoded data removed]",
      "text/plain": [
       "<Figure size 864x360 with 1 Axes>"
      ]
     },
     "metadata": {
      "needs_background": "light"
     },
     "output_type": "display_data"
    }
   ],
   "source": [
    "plt.figure(figsize=(12,5))\n",
    "plt.hist(df.distance3, bins=15,edgecolor='white')\n",
    "plt.grid(axis='y', alpha=0.5)\n",
    "plt.ylim([0,20])\n",
    "plt.xlabel('Distance 3 - difference between third and fourth mutations')\n",
    "plt.ylabel('Count')\n",
    "plt.title('Frequency Distribution of distance feature 3')"
   ]
  },
  {
   "cell_type": "code",
   "execution_count": 41,
   "metadata": {},
   "outputs": [
    {
     "data": {
      "text/plain": [
       "96"
      ]
     },
     "execution_count": 41,
     "metadata": {},
     "output_type": "execute_result"
    }
   ],
   "source": [
    "df.distance3.max()"
   ]
  },
  {
   "cell_type": "code",
   "execution_count": 42,
   "metadata": {},
   "outputs": [
    {
     "data": {
      "text/plain": [
       "Text(0.5, 1.0, 'Frequency Distribution of distance feature 4')"
      ]
     },
     "execution_count": 42,
     "metadata": {},
     "output_type": "execute_result"
    },
    {
     "data": {
      "image/png": "[encoded data removed]",
      "text/plain": [
       "<Figure size 864x360 with 1 Axes>"
      ]
     },
     "metadata": {
      "needs_background": "light"
     },
     "output_type": "display_data"
    }
   ],
   "source": [
    "plt.figure(figsize=(12,5))\n",
    "plt.hist(df.distance4, bins=15,edgecolor='white')\n",
    "plt.grid(axis='y', alpha=0.5)\n",
    "plt.ylim([0,10])\n",
    "plt.xlabel('Distance 4 - difference between fourth and fifth mutations')\n",
    "plt.ylabel('Count')\n",
    "plt.title('Frequency Distribution of distance feature 4')"
   ]
  },
  {
   "cell_type": "code",
   "execution_count": 43,
   "metadata": {},
   "outputs": [
    {
     "data": {
      "text/plain": [
       "96"
      ]
     },
     "execution_count": 43,
     "metadata": {},
     "output_type": "execute_result"
    }
   ],
   "source": [
    "df.distance4.max()"
   ]
  },
  {
   "cell_type": "code",
   "execution_count": 44,
   "metadata": {},
   "outputs": [
    {
     "data": {
      "text/plain": [
       "Text(0.5, 1.0, 'Frequency Distribution of distance feature 5')"
      ]
     },
     "execution_count": 44,
     "metadata": {},
     "output_type": "execute_result"
    },
    {
     "data": {
      "image/png": "[encoded data removed]",
      "text/plain": [
       "<Figure size 864x360 with 1 Axes>"
      ]
     },
     "metadata": {
      "needs_background": "light"
     },
     "output_type": "display_data"
    }
   ],
   "source": [
    "plt.figure(figsize=(12,5))\n",
    "plt.hist(df.distance5, bins=15,edgecolor='white')\n",
    "plt.grid(axis='y', alpha=0.5)\n",
    "plt.ylim([0,10])\n",
    "plt.xlabel('Distance 5 - difference between fifth and sixth mutations')\n",
    "plt.ylabel('Count')\n",
    "plt.title('Frequency Distribution of distance feature 5')"
   ]
  },
  {
   "cell_type": "code",
   "execution_count": 45,
   "metadata": {},
   "outputs": [
    {
     "data": {
      "text/plain": [
       "11"
      ]
     },
     "execution_count": 45,
     "metadata": {},
     "output_type": "execute_result"
    }
   ],
   "source": [
    "df.distance5.max()"
   ]
  },
  {
   "cell_type": "markdown",
   "metadata": {},
   "source": [
    "# Statistical Analysis"
   ]
  },
  {
   "cell_type": "markdown",
   "metadata": {},
   "source": [
    "The categorical 'Type' variable is converted to a numerical one to generate the number of active and inactive entries in each type of mutation."
   ]
  },
  {
   "cell_type": "code",
   "execution_count": 34,
   "metadata": {},
   "outputs": [
    {
     "data": {
      "text/plain": [
       "['active', 'inactive']"
      ]
     },
     "execution_count": 34,
     "metadata": {},
     "output_type": "execute_result"
    }
   ],
   "source": [
    "# Preprocessing data\n",
    "# Encoding the labels or the 'Type' category using label encoder - 1 being 'inactive' and 0 for 'active'\n",
    "from sklearn import preprocessing\n",
    "le = preprocessing.LabelEncoder()\n",
    "le.fit(df['Type'])\n",
    "list(le.classes_)"
   ]
  },
  {
   "cell_type": "code",
   "execution_count": 35,
   "metadata": {},
   "outputs": [],
   "source": [
    "df['Type'] = le.transform(df['Type'])"
   ]
  },
  {
   "cell_type": "code",
   "execution_count": 36,
   "metadata": {},
   "outputs": [
    {
     "data": {
      "text/plain": [
       "['active', 'inactive']"
      ]
     },
     "execution_count": 36,
     "metadata": {},
     "output_type": "execute_result"
    }
   ],
   "source": [
    "# checking the transform\n",
    "list(le.inverse_transform([0, 1]))"
   ]
  },
  {
   "cell_type": "code",
   "execution_count": 37,
   "metadata": {},
   "outputs": [],
   "source": [
    "y = df['Type']\n",
    "y = np.array(y)"
   ]
  },
  {
   "cell_type": "code",
   "execution_count": 50,
   "metadata": {},
   "outputs": [
    {
     "data": {
      "text/plain": [
       "count\n",
       "1       55\n",
       "2    30877\n",
       "3       49\n",
       "4       24\n",
       "5        2\n",
       "6        1\n",
       "Name: Type, dtype: int64"
      ]
     },
     "execution_count": 50,
     "metadata": {},
     "output_type": "execute_result"
    }
   ],
   "source": [
    "# Number of 'inactive' entries grouped by the different 'count' - 'inactive' is now encoded as 1 - Sum gives total\n",
    "# of inactive\n",
    "gr_ct_in = df.groupby('count').Type.sum()\n",
    "gr_ct_in"
   ]
  },
  {
   "cell_type": "code",
   "execution_count": 51,
   "metadata": {},
   "outputs": [
    {
     "data": {
      "text/plain": [
       "count\n",
       "1       63\n",
       "2    30942\n",
       "3      112\n",
       "4       31\n",
       "5        8\n",
       "6        3\n",
       "Name: Type, dtype: int64"
      ]
     },
     "execution_count": 51,
     "metadata": {},
     "output_type": "execute_result"
    }
   ],
   "source": [
    "# Total Number of entries grouped by the different 'count'\n",
    "gr_ct_tot = df.groupby('count').Type.count()\n",
    "gr_ct_tot"
   ]
  },
  {
   "cell_type": "code",
   "execution_count": 52,
   "metadata": {},
   "outputs": [],
   "source": [
    "# the difference between the total entries and the 'inactive' gives the count of 'active' entries\n",
    "gr_ct_ac = (gr_ct_tot) - (gr_ct_in)"
   ]
  },
  {
   "cell_type": "code",
   "execution_count": 53,
   "metadata": {},
   "outputs": [],
   "source": [
    "# All the information is put into a dictionary to create a DF.\n",
    "data = {'Mutations': [1,2,3,4,5,6], 'Inactive': [i for i in gr_ct_in], 'Active': [i for i in gr_ct_ac], 'Total': [i for i in gr_ct_tot]}"
   ]
  },
  {
   "cell_type": "markdown",
   "metadata": {},
   "source": [
    "The following gives a clear account of the total number of entries for each type of mutation and the number of 'inactive' and 'active' records in them."
   ]
  },
  {
   "cell_type": "code",
   "execution_count": 54,
   "metadata": {},
   "outputs": [
    {
     "name": "stdout",
     "output_type": "stream",
     "text": [
      "   Mutations  Inactive  Active  Total\n",
      "0          1        55       8     63\n",
      "1          2     30877      65  30942\n",
      "2          3        49      63    112\n",
      "3          4        24       7     31\n",
      "4          5         2       6      8\n",
      "5          6         1       2      3\n"
     ]
    }
   ],
   "source": [
    "gr_ct_data = pd.DataFrame(data)\n",
    "print(gr_ct_data)"
   ]
  },
  {
   "cell_type": "markdown",
   "metadata": {},
   "source": [
    "### Feature Selection"
   ]
  },
  {
   "cell_type": "markdown",
   "metadata": {},
   "source": [
    "Since there are 5416 features and most of them are already not descriptive, we can reduce the dimensionality by many methods. We will use the filter method for feature selection and then use the principal component analysis (PCA). Apart from dimensionality reduction, PCA also helps in data visualization."
   ]
  },
  {
   "cell_type": "markdown",
   "metadata": {},
   "source": [
    "#### Filter Method - Correlation matrix\n",
    "\n",
    "Feature selection plays a crucial role in classifier design. The most predictive features need to be highly correlated to the target class and least relevant to other features - this can be achieved by generating the correlation matrix and selecting for only those features that are not correlated. We drop features which have a score of more than 0.7 and also try for a score more than 0.9.\n",
    "\n",
    "There are 4826 '2D' features and 582 '3D' features in the dataset. "
   ]
  },
  {
   "cell_type": "code",
   "execution_count": 38,
   "metadata": {},
   "outputs": [
    {
     "name": "stdout",
     "output_type": "stream",
     "text": [
      "(31159, 5414)\n"
     ]
    }
   ],
   "source": [
    "# Select only the numerical inputs from the predictors as df_num, save the column names into num_cols\n",
    "df_num = df.drop(['Type', 'mutations'], axis=1)\n",
    "num_cols = df_num.columns\n",
    "print(df_num.shape)"
   ]
  },
  {
   "cell_type": "code",
   "execution_count": 56,
   "metadata": {},
   "outputs": [
    {
     "data": {
      "text/html": [
       "<div>\n",
       "<style scoped>\n",
       "    .dataframe tbody tr th:only-of-type {\n",
       "        vertical-align: middle;\n",
       "    }\n",
       "\n",
       "    .dataframe tbody tr th {\n",
       "        vertical-align: top;\n",
       "    }\n",
       "\n",
       "    .dataframe thead th {\n",
       "        text-align: right;\n",
       "    }\n",
       "</style>\n",
       "<table border=\"1\" class=\"dataframe\">\n",
       "  <thead>\n",
       "    <tr style=\"text-align: right;\">\n",
       "      <th></th>\n",
       "      <th>2D1</th>\n",
       "      <th>2D2</th>\n",
       "      <th>2D3</th>\n",
       "      <th>2D4</th>\n",
       "      <th>2D5</th>\n",
       "      <th>2D6</th>\n",
       "      <th>2D7</th>\n",
       "      <th>2D8</th>\n",
       "      <th>2D9</th>\n",
       "      <th>2D10</th>\n",
       "      <th>...</th>\n",
       "      <th>3D5405</th>\n",
       "      <th>3D5406</th>\n",
       "      <th>3D5407</th>\n",
       "      <th>3D5408</th>\n",
       "      <th>count</th>\n",
       "      <th>distance1</th>\n",
       "      <th>distance2</th>\n",
       "      <th>distance3</th>\n",
       "      <th>distance4</th>\n",
       "      <th>distance5</th>\n",
       "    </tr>\n",
       "  </thead>\n",
       "  <tbody>\n",
       "    <tr>\n",
       "      <td>2D1</td>\n",
       "      <td>1.000000</td>\n",
       "      <td>0.512035</td>\n",
       "      <td>0.548061</td>\n",
       "      <td>0.331467</td>\n",
       "      <td>0.271928</td>\n",
       "      <td>0.076716</td>\n",
       "      <td>0.036505</td>\n",
       "      <td>0.196495</td>\n",
       "      <td>0.264061</td>\n",
       "      <td>0.251002</td>\n",
       "      <td>...</td>\n",
       "      <td>0.098981</td>\n",
       "      <td>0.079713</td>\n",
       "      <td>-0.132522</td>\n",
       "      <td>-0.000932</td>\n",
       "      <td>-0.066117</td>\n",
       "      <td>0.046879</td>\n",
       "      <td>-0.016423</td>\n",
       "      <td>-0.011724</td>\n",
       "      <td>-0.002059</td>\n",
       "      <td>-0.084150</td>\n",
       "    </tr>\n",
       "    <tr>\n",
       "      <td>2D2</td>\n",
       "      <td>0.512035</td>\n",
       "      <td>1.000000</td>\n",
       "      <td>0.828004</td>\n",
       "      <td>0.344972</td>\n",
       "      <td>0.217674</td>\n",
       "      <td>0.199028</td>\n",
       "      <td>0.389890</td>\n",
       "      <td>0.592283</td>\n",
       "      <td>0.699629</td>\n",
       "      <td>0.740739</td>\n",
       "      <td>...</td>\n",
       "      <td>0.006562</td>\n",
       "      <td>-0.021223</td>\n",
       "      <td>-0.028269</td>\n",
       "      <td>0.050079</td>\n",
       "      <td>-0.017587</td>\n",
       "      <td>0.043050</td>\n",
       "      <td>-0.002825</td>\n",
       "      <td>-0.003348</td>\n",
       "      <td>-0.000594</td>\n",
       "      <td>-0.035152</td>\n",
       "    </tr>\n",
       "    <tr>\n",
       "      <td>2D3</td>\n",
       "      <td>0.548061</td>\n",
       "      <td>0.828004</td>\n",
       "      <td>1.000000</td>\n",
       "      <td>0.521110</td>\n",
       "      <td>0.470481</td>\n",
       "      <td>0.174281</td>\n",
       "      <td>0.199740</td>\n",
       "      <td>0.484930</td>\n",
       "      <td>0.573419</td>\n",
       "      <td>0.587853</td>\n",
       "      <td>...</td>\n",
       "      <td>0.027766</td>\n",
       "      <td>0.033655</td>\n",
       "      <td>-0.040317</td>\n",
       "      <td>-0.021829</td>\n",
       "      <td>-0.033677</td>\n",
       "      <td>0.037653</td>\n",
       "      <td>-0.003423</td>\n",
       "      <td>-0.008955</td>\n",
       "      <td>0.000262</td>\n",
       "      <td>-0.067219</td>\n",
       "    </tr>\n",
       "    <tr>\n",
       "      <td>2D4</td>\n",
       "      <td>0.331467</td>\n",
       "      <td>0.344972</td>\n",
       "      <td>0.521110</td>\n",
       "      <td>1.000000</td>\n",
       "      <td>0.728535</td>\n",
       "      <td>0.131094</td>\n",
       "      <td>0.052930</td>\n",
       "      <td>0.218118</td>\n",
       "      <td>0.262907</td>\n",
       "      <td>0.273347</td>\n",
       "      <td>...</td>\n",
       "      <td>0.014211</td>\n",
       "      <td>-0.030978</td>\n",
       "      <td>-0.040897</td>\n",
       "      <td>0.074768</td>\n",
       "      <td>-0.034588</td>\n",
       "      <td>0.042293</td>\n",
       "      <td>-0.003920</td>\n",
       "      <td>-0.000139</td>\n",
       "      <td>0.009783</td>\n",
       "      <td>-0.070756</td>\n",
       "    </tr>\n",
       "    <tr>\n",
       "      <td>2D5</td>\n",
       "      <td>0.271928</td>\n",
       "      <td>0.217674</td>\n",
       "      <td>0.470481</td>\n",
       "      <td>0.728535</td>\n",
       "      <td>1.000000</td>\n",
       "      <td>0.037602</td>\n",
       "      <td>-0.033725</td>\n",
       "      <td>0.157559</td>\n",
       "      <td>0.192000</td>\n",
       "      <td>0.203865</td>\n",
       "      <td>...</td>\n",
       "      <td>-0.009606</td>\n",
       "      <td>-0.110549</td>\n",
       "      <td>-0.034535</td>\n",
       "      <td>0.193429</td>\n",
       "      <td>-0.039565</td>\n",
       "      <td>0.060968</td>\n",
       "      <td>-0.003891</td>\n",
       "      <td>0.004071</td>\n",
       "      <td>0.014571</td>\n",
       "      <td>-0.090878</td>\n",
       "    </tr>\n",
       "    <tr>\n",
       "      <td>...</td>\n",
       "      <td>...</td>\n",
       "      <td>...</td>\n",
       "      <td>...</td>\n",
       "      <td>...</td>\n",
       "      <td>...</td>\n",
       "      <td>...</td>\n",
       "      <td>...</td>\n",
       "      <td>...</td>\n",
       "      <td>...</td>\n",
       "      <td>...</td>\n",
       "      <td>...</td>\n",
       "      <td>...</td>\n",
       "      <td>...</td>\n",
       "      <td>...</td>\n",
       "      <td>...</td>\n",
       "      <td>...</td>\n",
       "      <td>...</td>\n",
       "      <td>...</td>\n",
       "      <td>...</td>\n",
       "      <td>...</td>\n",
       "      <td>...</td>\n",
       "    </tr>\n",
       "    <tr>\n",
       "      <td>distance1</td>\n",
       "      <td>0.046879</td>\n",
       "      <td>0.043050</td>\n",
       "      <td>0.037653</td>\n",
       "      <td>0.042293</td>\n",
       "      <td>0.060968</td>\n",
       "      <td>-0.005950</td>\n",
       "      <td>0.063932</td>\n",
       "      <td>0.022228</td>\n",
       "      <td>0.028076</td>\n",
       "      <td>0.030230</td>\n",
       "      <td>...</td>\n",
       "      <td>-0.026776</td>\n",
       "      <td>0.007083</td>\n",
       "      <td>-0.027604</td>\n",
       "      <td>0.067813</td>\n",
       "      <td>-0.003845</td>\n",
       "      <td>1.000000</td>\n",
       "      <td>-0.014778</td>\n",
       "      <td>0.000174</td>\n",
       "      <td>0.011949</td>\n",
       "      <td>-0.002520</td>\n",
       "    </tr>\n",
       "    <tr>\n",
       "      <td>distance2</td>\n",
       "      <td>-0.016423</td>\n",
       "      <td>-0.002825</td>\n",
       "      <td>-0.003423</td>\n",
       "      <td>-0.003920</td>\n",
       "      <td>-0.003891</td>\n",
       "      <td>-0.004118</td>\n",
       "      <td>-0.003688</td>\n",
       "      <td>-0.000598</td>\n",
       "      <td>-0.001701</td>\n",
       "      <td>-0.002465</td>\n",
       "      <td>...</td>\n",
       "      <td>-0.014568</td>\n",
       "      <td>-0.012843</td>\n",
       "      <td>0.016597</td>\n",
       "      <td>0.002503</td>\n",
       "      <td>0.360478</td>\n",
       "      <td>-0.014778</td>\n",
       "      <td>1.000000</td>\n",
       "      <td>0.146967</td>\n",
       "      <td>0.021401</td>\n",
       "      <td>0.023801</td>\n",
       "    </tr>\n",
       "    <tr>\n",
       "      <td>distance3</td>\n",
       "      <td>-0.011724</td>\n",
       "      <td>-0.003348</td>\n",
       "      <td>-0.008955</td>\n",
       "      <td>-0.000139</td>\n",
       "      <td>0.004071</td>\n",
       "      <td>-0.002512</td>\n",
       "      <td>-0.002055</td>\n",
       "      <td>-0.001483</td>\n",
       "      <td>-0.001613</td>\n",
       "      <td>-0.001231</td>\n",
       "      <td>...</td>\n",
       "      <td>-0.007224</td>\n",
       "      <td>-0.008572</td>\n",
       "      <td>0.008806</td>\n",
       "      <td>0.004212</td>\n",
       "      <td>0.346826</td>\n",
       "      <td>0.000174</td>\n",
       "      <td>0.146967</td>\n",
       "      <td>1.000000</td>\n",
       "      <td>0.331907</td>\n",
       "      <td>0.028511</td>\n",
       "    </tr>\n",
       "    <tr>\n",
       "      <td>distance4</td>\n",
       "      <td>-0.002059</td>\n",
       "      <td>-0.000594</td>\n",
       "      <td>0.000262</td>\n",
       "      <td>0.009783</td>\n",
       "      <td>0.014571</td>\n",
       "      <td>-0.001202</td>\n",
       "      <td>-0.000923</td>\n",
       "      <td>-0.000822</td>\n",
       "      <td>-0.000537</td>\n",
       "      <td>-0.000733</td>\n",
       "      <td>...</td>\n",
       "      <td>-0.003765</td>\n",
       "      <td>-0.000957</td>\n",
       "      <td>0.004277</td>\n",
       "      <td>-0.002294</td>\n",
       "      <td>0.204916</td>\n",
       "      <td>0.011949</td>\n",
       "      <td>0.021401</td>\n",
       "      <td>0.331907</td>\n",
       "      <td>1.000000</td>\n",
       "      <td>0.019067</td>\n",
       "    </tr>\n",
       "    <tr>\n",
       "      <td>distance5</td>\n",
       "      <td>-0.084150</td>\n",
       "      <td>-0.035152</td>\n",
       "      <td>-0.067219</td>\n",
       "      <td>-0.070756</td>\n",
       "      <td>-0.090878</td>\n",
       "      <td>-0.000887</td>\n",
       "      <td>-0.000824</td>\n",
       "      <td>0.001115</td>\n",
       "      <td>-0.001462</td>\n",
       "      <td>-0.003178</td>\n",
       "      <td>...</td>\n",
       "      <td>-0.003577</td>\n",
       "      <td>-0.004884</td>\n",
       "      <td>0.004506</td>\n",
       "      <td>0.002911</td>\n",
       "      <td>0.266069</td>\n",
       "      <td>-0.002520</td>\n",
       "      <td>0.023801</td>\n",
       "      <td>0.028511</td>\n",
       "      <td>0.019067</td>\n",
       "      <td>1.000000</td>\n",
       "    </tr>\n",
       "  </tbody>\n",
       "</table>\n",
       "<p>5414 rows × 5414 columns</p>\n",
       "</div>"
      ],
      "text/plain": [
       "                2D1       2D2       2D3       2D4       2D5       2D6  \\\n",
       "2D1        1.000000  0.512035  0.548061  0.331467  0.271928  0.076716   \n",
       "2D2        0.512035  1.000000  0.828004  0.344972  0.217674  0.199028   \n",
       "2D3        0.548061  0.828004  1.000000  0.521110  0.470481  0.174281   \n",
       "2D4        0.331467  0.344972  0.521110  1.000000  0.728535  0.131094   \n",
       "2D5        0.271928  0.217674  0.470481  0.728535  1.000000  0.037602   \n",
       "...             ...       ...       ...       ...       ...       ...   \n",
       "distance1  0.046879  0.043050  0.037653  0.042293  0.060968 -0.005950   \n",
       "distance2 -0.016423 -0.002825 -0.003423 -0.003920 -0.003891 -0.004118   \n",
       "distance3 -0.011724 -0.003348 -0.008955 -0.000139  0.004071 -0.002512   \n",
       "distance4 -0.002059 -0.000594  0.000262  0.009783  0.014571 -0.001202   \n",
       "distance5 -0.084150 -0.035152 -0.067219 -0.070756 -0.090878 -0.000887   \n",
       "\n",
       "                2D7       2D8       2D9      2D10  ...    3D5405    3D5406  \\\n",
       "2D1        0.036505  0.196495  0.264061  0.251002  ...  0.098981  0.079713   \n",
       "2D2        0.389890  0.592283  0.699629  0.740739  ...  0.006562 -0.021223   \n",
       "2D3        0.199740  0.484930  0.573419  0.587853  ...  0.027766  0.033655   \n",
       "2D4        0.052930  0.218118  0.262907  0.273347  ...  0.014211 -0.030978   \n",
       "2D5       -0.033725  0.157559  0.192000  0.203865  ... -0.009606 -0.110549   \n",
       "...             ...       ...       ...       ...  ...       ...       ...   \n",
       "distance1  0.063932  0.022228  0.028076  0.030230  ... -0.026776  0.007083   \n",
       "distance2 -0.003688 -0.000598 -0.001701 -0.002465  ... -0.014568 -0.012843   \n",
       "distance3 -0.002055 -0.001483 -0.001613 -0.001231  ... -0.007224 -0.008572   \n",
       "distance4 -0.000923 -0.000822 -0.000537 -0.000733  ... -0.003765 -0.000957   \n",
       "distance5 -0.000824  0.001115 -0.001462 -0.003178  ... -0.003577 -0.004884   \n",
       "\n",
       "             3D5407    3D5408     count  distance1  distance2  distance3  \\\n",
       "2D1       -0.132522 -0.000932 -0.066117   0.046879  -0.016423  -0.011724   \n",
       "2D2       -0.028269  0.050079 -0.017587   0.043050  -0.002825  -0.003348   \n",
       "2D3       -0.040317 -0.021829 -0.033677   0.037653  -0.003423  -0.008955   \n",
       "2D4       -0.040897  0.074768 -0.034588   0.042293  -0.003920  -0.000139   \n",
       "2D5       -0.034535  0.193429 -0.039565   0.060968  -0.003891   0.004071   \n",
       "...             ...       ...       ...        ...        ...        ...   \n",
       "distance1 -0.027604  0.067813 -0.003845   1.000000  -0.014778   0.000174   \n",
       "distance2  0.016597  0.002503  0.360478  -0.014778   1.000000   0.146967   \n",
       "distance3  0.008806  0.004212  0.346826   0.000174   0.146967   1.000000   \n",
       "distance4  0.004277 -0.002294  0.204916   0.011949   0.021401   0.331907   \n",
       "distance5  0.004506  0.002911  0.266069  -0.002520   0.023801   0.028511   \n",
       "\n",
       "           distance4  distance5  \n",
       "2D1        -0.002059  -0.084150  \n",
       "2D2        -0.000594  -0.035152  \n",
       "2D3         0.000262  -0.067219  \n",
       "2D4         0.009783  -0.070756  \n",
       "2D5         0.014571  -0.090878  \n",
       "...              ...        ...  \n",
       "distance1   0.011949  -0.002520  \n",
       "distance2   0.021401   0.023801  \n",
       "distance3   0.331907   0.028511  \n",
       "distance4   1.000000   0.019067  \n",
       "distance5   0.019067   1.000000  \n",
       "\n",
       "[5414 rows x 5414 columns]"
      ]
     },
     "execution_count": 56,
     "metadata": {},
     "output_type": "execute_result"
    }
   ],
   "source": [
    "# correlation matrix of the 2D and 3D features\n",
    "corrmat = df_num.corr()\n",
    "corrmat"
   ]
  },
  {
   "cell_type": "code",
   "execution_count": 57,
   "metadata": {},
   "outputs": [],
   "source": [
    "# Dropped the features with correlation higher than 0.9\n",
    "\n",
    "cols = np.full((corrmat.shape[0],), True, dtype=bool)\n",
    "for i in range(corrmat.shape[0]):\n",
    "    for j in range(i+1, corrmat.shape[0]):\n",
    "        if corrmat.iloc[i,j] >= 0.9:\n",
    "            if cols[j]:\n",
    "                cols[j] = False\n",
    "selected_columns = df_num.columns[cols]\n",
    "\n",
    "# The selected features were used to create another dataframe df_num_selected\n",
    "df_num_selected = df_num[selected_columns]\n",
    "sel_numcols = df_num_selected.columns"
   ]
  },
  {
   "cell_type": "code",
   "execution_count": 58,
   "metadata": {},
   "outputs": [
    {
     "data": {
      "text/plain": [
       "(31159, 3789)"
      ]
     },
     "execution_count": 58,
     "metadata": {},
     "output_type": "execute_result"
    }
   ],
   "source": [
    "df_num_selected.shape"
   ]
  },
  {
   "cell_type": "code",
   "execution_count": 59,
   "metadata": {},
   "outputs": [],
   "source": [
    "# Dropped the features with correlation higher than 0.7\n",
    "\n",
    "cols7 = np.full((corrmat.shape[0],), True, dtype=bool)\n",
    "for i in range(corrmat.shape[0]):\n",
    "    for j in range(i+1, corrmat.shape[0]):\n",
    "        if corrmat.iloc[i,j] >= 0.7:\n",
    "            if cols7[j]:\n",
    "                cols7[j] = False\n",
    "selected_columns7 = df_num.columns[cols7]\n",
    "\n",
    "# The selected features were used to create another dataframe df_num_selected7\n",
    "df_num_selected7 = df_num[selected_columns7]\n",
    "sel_numcols7 = df_num_selected7.columns"
   ]
  },
  {
   "cell_type": "code",
   "execution_count": 60,
   "metadata": {},
   "outputs": [
    {
     "data": {
      "text/plain": [
       "(31159, 1670)"
      ]
     },
     "execution_count": 60,
     "metadata": {},
     "output_type": "execute_result"
    }
   ],
   "source": [
    "df_num_selected7.shape"
   ]
  },
  {
   "cell_type": "markdown",
   "metadata": {},
   "source": [
    "When the cut off score was 0.9, we dropped only 1625 features but when the cut off was lowered to 0.7, 3744 features were dropped. Both the dataframes selected for different cut off scores were used for PCA."
   ]
  },
  {
   "cell_type": "markdown",
   "metadata": {},
   "source": [
    "### Feature Scaling"
   ]
  },
  {
   "cell_type": "markdown",
   "metadata": {},
   "source": [
    "Feature scaling is done to before applying PCA."
   ]
  },
  {
   "cell_type": "code",
   "execution_count": 39,
   "metadata": {},
   "outputs": [],
   "source": [
    "from sklearn.preprocessing import minmax_scale"
   ]
  },
  {
   "cell_type": "code",
   "execution_count": 40,
   "metadata": {},
   "outputs": [],
   "source": [
    "# This is for the entire data before correlation matrix\n",
    "X_scaled = minmax_scale(df_num)"
   ]
  },
  {
   "cell_type": "code",
   "execution_count": 63,
   "metadata": {},
   "outputs": [],
   "source": [
    "# This is for the data selected for a score less than 0.9\n",
    "X9_scaled = minmax_scale(df_num_selected)"
   ]
  },
  {
   "cell_type": "code",
   "execution_count": 64,
   "metadata": {},
   "outputs": [],
   "source": [
    "# This is for the data selected for a score less than 0.7\n",
    "X7_scaled = minmax_scale(df_num_selected7)"
   ]
  },
  {
   "cell_type": "markdown",
   "metadata": {},
   "source": [
    "### PCA "
   ]
  },
  {
   "cell_type": "markdown",
   "metadata": {},
   "source": [
    "### PCA - using data selected by removing correlated features with a score more than 0.7"
   ]
  },
  {
   "cell_type": "code",
   "execution_count": 65,
   "metadata": {},
   "outputs": [],
   "source": [
    "df_pca7 = pd.DataFrame(X7_scaled,columns=sel_numcols7)"
   ]
  },
  {
   "cell_type": "code",
   "execution_count": 66,
   "metadata": {},
   "outputs": [],
   "source": [
    "from sklearn.decomposition import PCA\n",
    "pca7 = PCA()\n",
    "pca_c7 = pca7.fit(df_pca7)"
   ]
  },
  {
   "cell_type": "code",
   "execution_count": 67,
   "metadata": {},
   "outputs": [
    {
     "data": {
      "image/png": "[encoded data removed]",
      "text/plain": [
       "<Figure size 432x288 with 1 Axes>"
      ]
     },
     "metadata": {
      "needs_background": "light"
     },
     "output_type": "display_data"
    }
   ],
   "source": [
    "# Figure showing the number of components needed to explain the variance in the dataset.\n",
    "plt.figure()\n",
    "plt.plot(np.cumsum(pca_c7.explained_variance_ratio_))\n",
    "plt.xlabel('Number of Components')\n",
    "plt.ylabel('Variance (%)') \n",
    "plt.title('p53 datset(selected for correlation less than 0.7) Explained Variance')\n",
    "plt.show()"
   ]
  },
  {
   "cell_type": "markdown",
   "metadata": {},
   "source": [
    "The above graph shows that at least 250 components are needed to explain 90% of the variation."
   ]
  },
  {
   "cell_type": "markdown",
   "metadata": {},
   "source": [
    "### PCA - using data selected by removing correlated features with a score more than 0.9"
   ]
  },
  {
   "cell_type": "code",
   "execution_count": 68,
   "metadata": {},
   "outputs": [],
   "source": [
    "df_pca9 = pd.DataFrame(X9_scaled,columns=sel_numcols)"
   ]
  },
  {
   "cell_type": "code",
   "execution_count": 69,
   "metadata": {},
   "outputs": [],
   "source": [
    "pca9 = PCA()\n",
    "pca_c9 = pca9.fit(df_pca9)"
   ]
  },
  {
   "cell_type": "code",
   "execution_count": 70,
   "metadata": {},
   "outputs": [
    {
     "data": {
      "image/png": "[encoded data removed]",
      "text/plain": [
       "<Figure size 432x288 with 1 Axes>"
      ]
     },
     "metadata": {
      "needs_background": "light"
     },
     "output_type": "display_data"
    }
   ],
   "source": [
    "# Figure showing the number of components needed to explain the variance in the dataset.\n",
    "plt.figure()\n",
    "plt.plot(np.cumsum(pca_c9.explained_variance_ratio_))\n",
    "plt.xlabel('Number of Components')\n",
    "plt.ylabel('Variance (%)') #for each component\n",
    "plt.title('p53 datset(selected for correlation less than 0.9) Explained Variance')\n",
    "plt.show()"
   ]
  },
  {
   "cell_type": "markdown",
   "metadata": {},
   "source": [
    "The above graph shows that at least 500 components are needed to explain 95% of the variation. \n",
    "\n",
    "Let us do the PCA on the entire data and see if this changes the %age of explained variation."
   ]
  },
  {
   "cell_type": "markdown",
   "metadata": {},
   "source": [
    "### PCA - using entire data "
   ]
  },
  {
   "cell_type": "code",
   "execution_count": 42,
   "metadata": {},
   "outputs": [],
   "source": [
    "# Using the entire scaled data for PCA\n",
    "# created a dataframe of the scaled numerical values and the label 'y' - convert the values of 'y' to a string\n",
    "df_pca = pd.DataFrame(X_scaled,columns=num_cols)\n",
    "df_pca['y'] = y\n",
    "df_pca['label'] = df_pca['y'].apply(lambda i: str(i))"
   ]
  },
  {
   "cell_type": "code",
   "execution_count": 43,
   "metadata": {},
   "outputs": [],
   "source": [
    "from sklearn.decomposition import PCA\n",
    "pca = PCA()\n",
    "pca_c = pca.fit(df_pca[num_cols])"
   ]
  },
  {
   "cell_type": "code",
   "execution_count": 73,
   "metadata": {},
   "outputs": [
    {
     "data": {
      "image/png": "[encoded data removed]",
      "text/plain": [
       "<Figure size 432x288 with 1 Axes>"
      ]
     },
     "metadata": {
      "needs_background": "light"
     },
     "output_type": "display_data"
    }
   ],
   "source": [
    "plt.figure()\n",
    "plt.plot(np.cumsum(pca_c.explained_variance_ratio_))\n",
    "plt.xlabel('Number of Components')\n",
    "plt.ylabel('Variance (%)') \n",
    "plt.title('p53 dataset Explained Variance')\n",
    "plt.show()"
   ]
  },
  {
   "cell_type": "markdown",
   "metadata": {},
   "source": [
    "Approx. 500 components explain 95% of the variation. This is not too different from the previous graphs.\n",
    "\n",
    "The explained variation is not any different. Hence, we can choose to use PCA as it shows the number of components needed to explain 90% of the variation without having to drop any features or selecting a cut off score for correlation."
   ]
  },
  {
   "cell_type": "markdown",
   "metadata": {},
   "source": [
    "#### Visualising the PCA plot"
   ]
  },
  {
   "cell_type": "code",
   "execution_count": 74,
   "metadata": {},
   "outputs": [],
   "source": [
    "# PCA using 2 components\n",
    "pca_2 = PCA(n_components=2)\n",
    "pc_2 = pca_2.fit_transform(X_scaled)"
   ]
  },
  {
   "cell_type": "code",
   "execution_count": 75,
   "metadata": {},
   "outputs": [],
   "source": [
    "# convert the principal components of the data into a dataframe\n",
    "principalDF = pd.DataFrame(data=pc_2, columns=['pca1', 'pca2'])"
   ]
  },
  {
   "cell_type": "code",
   "execution_count": 76,
   "metadata": {},
   "outputs": [],
   "source": [
    "# concat the 'Type' label with this dataframe to make final_pcadf. This will have the principal components \n",
    "# 1 and 2 with the 'Type'\n",
    "final_pcadf = pd.concat([principalDF, df[['Type']]],axis=1)"
   ]
  },
  {
   "cell_type": "code",
   "execution_count": 77,
   "metadata": {},
   "outputs": [
    {
     "name": "stdout",
     "output_type": "stream",
     "text": [
      "Explained variation per principal component: [0.1885016  0.10457065]\n"
     ]
    }
   ],
   "source": [
    "print('Explained variation per principal component: {}'.format(pca_2.explained_variance_ratio_))"
   ]
  },
  {
   "cell_type": "markdown",
   "metadata": {},
   "source": [
    "The first 2 components only explain about 30% of the variation in the data. But, we can still try to visualise the data using these 2 components."
   ]
  },
  {
   "cell_type": "code",
   "execution_count": 78,
   "metadata": {},
   "outputs": [
    {
     "data": {
      "text/plain": [
       "Text(0.5, 1.0, 'PCA plot with Active and Inactive labels')"
      ]
     },
     "execution_count": 78,
     "metadata": {},
     "output_type": "execute_result"
    },
    {
     "data": {
      "image/png": "[encoded data removed]",
      "text/plain": [
       "<Figure size 720x576 with 1 Axes>"
      ]
     },
     "metadata": {
      "needs_background": "light"
     },
     "output_type": "display_data"
    }
   ],
   "source": [
    "# plot pca1 and pca2 with 'Type' as hue.\n",
    "plt.figure(figsize=(10,8))\n",
    "sns.set_style(\"whitegrid\")\n",
    "flatui = [\"#e74c3c\",\"#95a5a6\" ]\n",
    "sns.scatterplot(\n",
    "    x='pca1', y='pca2',\n",
    "    hue='Type',\n",
    "    palette=sns.color_palette(flatui, 2),\n",
    "    data=final_pcadf,\n",
    "    legend=\"full\",\n",
    "    alpha=0.3, s=40\n",
    ")\n",
    "plt.title(\"PCA plot with Active and Inactive labels\")"
   ]
  },
  {
   "cell_type": "markdown",
   "metadata": {},
   "source": [
    "The plot shows the 'active' red colored entries and the majority of the 'inactive' grey colored entries. Initially, we could not visualise anything in such high dimensional data - but with PCA even if these components only explain 30% of the variation, we can get a visualisation.\n",
    "\n",
    "Instead of the 'Type' marked out in these plots, we can try to see the spread of the different kind of mutations by using the 'count' variable."
   ]
  },
  {
   "cell_type": "markdown",
   "metadata": {},
   "source": [
    "#### Visualising the PCA plot with 'count' as the category"
   ]
  },
  {
   "cell_type": "code",
   "execution_count": 79,
   "metadata": {},
   "outputs": [
    {
     "name": "stdout",
     "output_type": "stream",
     "text": [
      "(31159, 5413)\n"
     ]
    }
   ],
   "source": [
    "# Generated another dataframe by dropping the 'count' column\n",
    "df_c = df.drop(['Type', 'mutations','count'], axis=1)\n",
    "num_cols_c = df_c.columns\n",
    "print(df_c.shape)"
   ]
  },
  {
   "cell_type": "code",
   "execution_count": 80,
   "metadata": {},
   "outputs": [
    {
     "data": {
      "text/plain": [
       "[1, 2, 3, 4, 5, 6]"
      ]
     },
     "execution_count": 80,
     "metadata": {},
     "output_type": "execute_result"
    }
   ],
   "source": [
    "# Preprocessing the 'count' as categories 0,1,2,3,4,5\n",
    "le = preprocessing.LabelEncoder()\n",
    "le.fit(df['count'])\n",
    "list(le.classes_)"
   ]
  },
  {
   "cell_type": "code",
   "execution_count": 81,
   "metadata": {},
   "outputs": [],
   "source": [
    "df['count'] = le.transform(df['count'])"
   ]
  },
  {
   "cell_type": "code",
   "execution_count": 82,
   "metadata": {},
   "outputs": [
    {
     "data": {
      "text/plain": [
       "[1, 2, 3, 4, 5, 6]"
      ]
     },
     "execution_count": 82,
     "metadata": {},
     "output_type": "execute_result"
    }
   ],
   "source": [
    "list(le.inverse_transform([0,1,2,3,4,5]))"
   ]
  },
  {
   "cell_type": "code",
   "execution_count": 83,
   "metadata": {},
   "outputs": [],
   "source": [
    "c = df['count']"
   ]
  },
  {
   "cell_type": "code",
   "execution_count": 84,
   "metadata": {},
   "outputs": [],
   "source": [
    "# Scaled this dataframe\n",
    "X_c = minmax_scale(df_c)"
   ]
  },
  {
   "cell_type": "code",
   "execution_count": 85,
   "metadata": {},
   "outputs": [],
   "source": [
    "# Fit pca, convert the pcs to dataframe and concat the 'count' feature to this\n",
    "pc = pca_2.fit_transform(X_c)\n",
    "pDF = pd.DataFrame(data=pc_2, columns=['pca1', 'pca2'])"
   ]
  },
  {
   "cell_type": "code",
   "execution_count": 86,
   "metadata": {},
   "outputs": [],
   "source": [
    "final_pc = pd.concat([pDF, c, df[['Type']]],axis=1)"
   ]
  },
  {
   "cell_type": "code",
   "execution_count": 87,
   "metadata": {},
   "outputs": [
    {
     "data": {
      "text/plain": [
       "Text(0.5, 1.0, 'PCA plot with Counts as labels')"
      ]
     },
     "execution_count": 87,
     "metadata": {},
     "output_type": "execute_result"
    },
    {
     "data": {
      "image/png": "[encoded data removed]",
      "text/plain": [
       "<Figure size 720x576 with 1 Axes>"
      ]
     },
     "metadata": {},
     "output_type": "display_data"
    }
   ],
   "source": [
    "# plot the pca1 and pca2 with 'count' as the hue.\n",
    "plt.figure(figsize=(10,8))\n",
    "sns.set_style(\"whitegrid\")\n",
    "flatui = [\"#fdee00\", \"#efdecd\", \"#ff033e\", \"#008000\", \"#0000ff\", \"#480607\"]\n",
    "sns.scatterplot(\n",
    "    x='pca1', y='pca2',\n",
    "    hue='count',\n",
    "    style='Type',\n",
    "    palette=sns.color_palette(flatui, 6),\n",
    "    data=final_pc,\n",
    "    legend=\"full\",\n",
    "    alpha=0.3, s=40)\n",
    "plt.title(\"PCA plot with Counts as labels\")"
   ]
  },
  {
   "cell_type": "markdown",
   "metadata": {},
   "source": [
    "This PCA plot shows the 'count' and the 'Type' variables. With less than half of the variation being represented, its very hard to make a clear sense of the clusters in the graph."
   ]
  },
  {
   "cell_type": "markdown",
   "metadata": {},
   "source": [
    "# Baseline Model"
   ]
  },
  {
   "cell_type": "markdown",
   "metadata": {},
   "source": [
    "   There are several classifiers for binary classification. Since, we have a highly imbalanced data set, we can try several classifiers for a baseline model and evaluate their performance before choosing them for fine tuning. Among the several classifiers, I will be trying Logistic regression, Naive bayes, Random Forests, Support Vector Machines, Gradient Boosting and XGBoost for a baseline model. \n",
    "   \n",
    "   Based on their performance in the baseline and the computational capability available, models will be selected for parametric tuning and cross validation."
   ]
  },
  {
   "cell_type": "markdown",
   "metadata": {},
   "source": [
    "   Every classifier will need a training set to train the classifier and then test the performance of the classifier on a test set. The data is split into training and test sets using train_test_split and since the data set is highly imbalanced, we can stratify the 'y' labels in the split so that the split represents the 2 classes well. The PCA is fit on the training set alone to generate the PCs. But, both the training set and test set are PCA transformed to be used in different classifiers.\n",
    "   \n",
    "   Baseline models will use both the actual data and the PCs to show their performance with default settings."
   ]
  },
  {
   "cell_type": "markdown",
   "metadata": {},
   "source": [
    "## Training Data - Testing Data Split"
   ]
  },
  {
   "cell_type": "code",
   "execution_count": 41,
   "metadata": {},
   "outputs": [],
   "source": [
    "from sklearn.model_selection import train_test_split\n",
    "X_train, X_test, y_train, y_test = train_test_split(X_scaled, y, test_size=0.3, stratify=y, random_state=10)"
   ]
  },
  {
   "cell_type": "code",
   "execution_count": 42,
   "metadata": {},
   "outputs": [
    {
     "name": "stdout",
     "output_type": "stream",
     "text": [
      "Training Features Shape: (21811, 5414)\n",
      "Training Labels Shape: (21811,)\n",
      "Testing Features Shape: (9348, 5414)\n",
      "Testing Labels Shape: (9348,)\n"
     ]
    }
   ],
   "source": [
    "print('Training Features Shape:', X_train.shape)\n",
    "print('Training Labels Shape:', y_train.shape)\n",
    "print('Testing Features Shape:', X_test.shape)\n",
    "print('Testing Labels Shape:', y_test.shape)"
   ]
  },
  {
   "cell_type": "markdown",
   "metadata": {},
   "source": [
    "   To assess the performance of classifiers with the computational resources available, using PCA is good way to speed up the fitting of an algorithm. This helps especially for the parametric tuning and crossvalidation where you run randomized grid search to get the best possible parameters for a good model. Instead of using all the 5414 features, we could use around 800 PCs which explained about 97% of the variation in the data set. This may reduce the time for cross validation and parametric tuning of the models."
   ]
  },
  {
   "cell_type": "code",
   "execution_count": 43,
   "metadata": {},
   "outputs": [],
   "source": [
    "from sklearn.decomposition import PCA\n",
    "pca_mod = PCA()"
   ]
  },
  {
   "cell_type": "code",
   "execution_count": 44,
   "metadata": {},
   "outputs": [],
   "source": [
    "X_train_pc = pca_mod.fit_transform(X_train)"
   ]
  },
  {
   "cell_type": "code",
   "execution_count": 45,
   "metadata": {},
   "outputs": [],
   "source": [
    "X_test_pc = pca_mod.transform(X_test)"
   ]
  },
  {
   "cell_type": "code",
   "execution_count": 46,
   "metadata": {},
   "outputs": [
    {
     "data": {
      "text/plain": [
       "array([1.88600847e-01, 1.04367880e-01, 9.19828283e-02, ...,\n",
       "       9.63382176e-11, 8.26666776e-11, 7.34371796e-11])"
      ]
     },
     "execution_count": 46,
     "metadata": {},
     "output_type": "execute_result"
    }
   ],
   "source": [
    "exp_var_mod = pca_mod.explained_variance_ratio_\n",
    "exp_var_mod"
   ]
  },
  {
   "cell_type": "code",
   "execution_count": 47,
   "metadata": {},
   "outputs": [
    {
     "data": {
      "text/plain": [
       "0.9727137640655925"
      ]
     },
     "execution_count": 47,
     "metadata": {},
     "output_type": "execute_result"
    }
   ],
   "source": [
    "sum(exp_var_mod[0:800])"
   ]
  },
  {
   "cell_type": "code",
   "execution_count": 48,
   "metadata": {},
   "outputs": [],
   "source": [
    "pca = PCA(n_components=800)"
   ]
  },
  {
   "cell_type": "code",
   "execution_count": 49,
   "metadata": {},
   "outputs": [],
   "source": [
    "X_train_pc = pca.fit_transform(X_train)"
   ]
  },
  {
   "cell_type": "code",
   "execution_count": 50,
   "metadata": {},
   "outputs": [],
   "source": [
    "X_test_pc  = pca.transform(X_test)"
   ]
  },
  {
   "cell_type": "markdown",
   "metadata": {},
   "source": [
    "Now, we have the training set, X_train and testing set, X_test from the actual data and the training set from the PCA fit data, X_train_pc and the test set which has only been transformed to the PC space, X_test_pc. Both the training sets are used to see if there is a difference in performance.\n",
    "\n",
    "Performance is assessed by precision, recall and F1 score with 'macro' average. The data set is imbalanced with a majority of the labels 'inactive' and less than 1% as 'active' labels. Hence, the precision and recall are more valid measures of model performance. F1 score combines recall and precision using the harmonic mean. Among the different types of averaging the F1 score, we choose the 'macro' average. 'Macro' average calculates the metrics for each label and finds their unweighted mean without takin class imbalance into account. Since the 'active' labels are very important and need to be identified correctly, we use the 'macro' average.\n",
    "\n",
    "Another metric to evaluate performance is the Matthews correlation coefficient (MCC). This is used in binary classifications and like the F1 score uses the true and false positives and negatives but is a more balanced measure which can also be used if class sizes are different. In essence, its a correlation coefficient between -1 and +1, the +1 representing a perfect prediction, 0 an average random prediction and -1 an inverse prediction.   "
   ]
  },
  {
   "cell_type": "markdown",
   "metadata": {},
   "source": [
    "## Model 1 - Logistic Regression"
   ]
  },
  {
   "cell_type": "code",
   "execution_count": 51,
   "metadata": {},
   "outputs": [],
   "source": [
    "from sklearn.linear_model import LogisticRegression\n",
    "from sklearn.metrics import confusion_matrix\n",
    "from sklearn.metrics import classification_report\n",
    "from sklearn.metrics import matthews_corrcoef as MCC\n",
    "from sklearn.metrics import roc_auc_score\n",
    "from sklearn.metrics import roc_curve"
   ]
  },
  {
   "cell_type": "markdown",
   "metadata": {},
   "source": [
    "The training set from the actual data is first used for fitting the model and then the PCs are used for the same."
   ]
  },
  {
   "cell_type": "code",
   "execution_count": 126,
   "metadata": {},
   "outputs": [
    {
     "name": "stderr",
     "output_type": "stream",
     "text": [
      "/home/arunsn/anaconda3/lib/python3.7/site-packages/sklearn/linear_model/logistic.py:432: FutureWarning: Default solver will be changed to 'lbfgs' in 0.22. Specify a solver to silence this warning.\n",
      "  FutureWarning)\n"
     ]
    },
    {
     "data": {
      "text/plain": [
       "LogisticRegression(C=1.0, class_weight='balanced', dual=False,\n",
       "                   fit_intercept=True, intercept_scaling=1, l1_ratio=None,\n",
       "                   max_iter=100, multi_class='warn', n_jobs=None, penalty='l2',\n",
       "                   random_state=None, solver='warn', tol=0.0001, verbose=0,\n",
       "                   warm_start=False)"
      ]
     },
     "execution_count": 126,
     "metadata": {},
     "output_type": "execute_result"
    }
   ],
   "source": [
    "# Initialize the classifier and fit to the training set. class_weight is selected as 'balanced' for class imbalance.\n",
    "logreg = LogisticRegression(class_weight='balanced')\n",
    "logreg.fit(X_train, y_train)"
   ]
  },
  {
   "cell_type": "code",
   "execution_count": 127,
   "metadata": {},
   "outputs": [],
   "source": [
    "# Use the fit to predict on the test set\n",
    "y_pred = logreg.predict(X_test)"
   ]
  },
  {
   "cell_type": "code",
   "execution_count": 128,
   "metadata": {},
   "outputs": [
    {
     "name": "stdout",
     "output_type": "stream",
     "text": [
      "[[  38    7]\n",
      " [  97 9206]]\n"
     ]
    }
   ],
   "source": [
    "# print the confusion matrix showing the tp,tn,fp,fn\n",
    "confusion_matrix = confusion_matrix(y_test, y_pred)\n",
    "print(confusion_matrix)"
   ]
  },
  {
   "cell_type": "code",
   "execution_count": 129,
   "metadata": {},
   "outputs": [
    {
     "name": "stdout",
     "output_type": "stream",
     "text": [
      "              precision    recall  f1-score   support\n",
      "\n",
      "           0       0.28      0.84      0.42        45\n",
      "           1       1.00      0.99      0.99      9303\n",
      "\n",
      "    accuracy                           0.99      9348\n",
      "   macro avg       0.64      0.92      0.71      9348\n",
      "weighted avg       1.00      0.99      0.99      9348\n",
      "\n"
     ]
    }
   ],
   "source": [
    "# print the classification report\n",
    "LG_bm = classification_report(y_test, y_pred,output_dict=True)\n",
    "LG_bm_f1 = LG_bm['macro avg']['f1-score']\n",
    "print(classification_report(y_test, y_pred))"
   ]
  },
  {
   "cell_type": "code",
   "execution_count": 130,
   "metadata": {},
   "outputs": [
    {
     "name": "stdout",
     "output_type": "stream",
     "text": [
      "0.48386656696099856\n"
     ]
    }
   ],
   "source": [
    "# print the MCC score\n",
    "LG_bm_mcc = MCC(y_test, y_pred)\n",
    "print(MCC(y_test, y_pred))"
   ]
  },
  {
   "cell_type": "markdown",
   "metadata": {},
   "source": [
    "The report shows the 'macro avg' f1 score as 0.71 and MCC is 0.48. The predicted probabilities are used to calculate the true positives and false positives at different thresholds and generate the ROC curve."
   ]
  },
  {
   "cell_type": "code",
   "execution_count": 59,
   "metadata": {},
   "outputs": [],
   "source": [
    "# generate the roc_auc score and the tpr and fpr to plot the ROC curve\n",
    "logit_roc_auc = roc_auc_score(y_test, logreg.predict_proba(X_test)[:,1])\n",
    "fpr, tpr, thresholds = roc_curve(y_test, logreg.predict_proba(X_test)[:,1])"
   ]
  },
  {
   "cell_type": "code",
   "execution_count": 60,
   "metadata": {},
   "outputs": [
    {
     "data": {
      "image/png": "[encoded data removed]",
      "text/plain": [
       "<Figure size 432x288 with 1 Axes>"
      ]
     },
     "metadata": {
      "needs_background": "light"
     },
     "output_type": "display_data"
    }
   ],
   "source": [
    "# plot the ROC curve\n",
    "plt.figure()\n",
    "plt.plot(fpr, tpr, label='Logistic Regression (area = %0.2f)' % logit_roc_auc)\n",
    "plt.plot([0, 1], [0, 1],'r--')\n",
    "plt.xlabel('False Positive Rate')\n",
    "plt.ylabel('True Positive Rate')\n",
    "plt.title('Receiver operating characteristic')\n",
    "plt.legend(loc=\"lower right\")\n",
    "plt.savefig('Log_ROC')\n",
    "plt.show()"
   ]
  },
  {
   "cell_type": "code",
   "execution_count": 61,
   "metadata": {},
   "outputs": [
    {
     "name": "stderr",
     "output_type": "stream",
     "text": [
      "/home/arunsn/anaconda3/lib/python3.7/site-packages/sklearn/linear_model/logistic.py:432: FutureWarning: Default solver will be changed to 'lbfgs' in 0.22. Specify a solver to silence this warning.\n",
      "  FutureWarning)\n"
     ]
    },
    {
     "data": {
      "text/plain": [
       "LogisticRegression(C=1.0, class_weight='balanced', dual=False,\n",
       "                   fit_intercept=True, intercept_scaling=1, l1_ratio=None,\n",
       "                   max_iter=100, multi_class='warn', n_jobs=None, penalty='l2',\n",
       "                   random_state=None, solver='warn', tol=0.0001, verbose=0,\n",
       "                   warm_start=False)"
      ]
     },
     "execution_count": 61,
     "metadata": {},
     "output_type": "execute_result"
    }
   ],
   "source": [
    "# The entire process is repeated using the PCs of the training set and predicted the transformed test set.\n",
    "logreg_pc = LogisticRegression(class_weight='balanced')\n",
    "logreg_pc.fit(X_train_pc, y_train)"
   ]
  },
  {
   "cell_type": "code",
   "execution_count": 62,
   "metadata": {},
   "outputs": [],
   "source": [
    "# predictions\n",
    "y_pred_pc = logreg_pc.predict(X_test_pc)"
   ]
  },
  {
   "cell_type": "code",
   "execution_count": 66,
   "metadata": {},
   "outputs": [
    {
     "name": "stdout",
     "output_type": "stream",
     "text": [
      "[[  38    7]\n",
      " [ 124 9179]]\n"
     ]
    }
   ],
   "source": [
    "cm_pc = confusion_matrix(y_test, y_pred_pc)\n",
    "print(cm_pc)"
   ]
  },
  {
   "cell_type": "code",
   "execution_count": 67,
   "metadata": {},
   "outputs": [
    {
     "name": "stdout",
     "output_type": "stream",
     "text": [
      "              precision    recall  f1-score   support\n",
      "\n",
      "           0       0.23      0.84      0.37        45\n",
      "           1       1.00      0.99      0.99      9303\n",
      "\n",
      "    accuracy                           0.99      9348\n",
      "   macro avg       0.62      0.92      0.68      9348\n",
      "weighted avg       1.00      0.99      0.99      9348\n",
      "\n"
     ]
    }
   ],
   "source": [
    "print(classification_report(y_test, y_pred_pc))"
   ]
  },
  {
   "cell_type": "code",
   "execution_count": 70,
   "metadata": {},
   "outputs": [
    {
     "name": "stdout",
     "output_type": "stream",
     "text": [
      "0.440817040737125\n"
     ]
    }
   ],
   "source": [
    "print(MCC(y_test, y_pred_pc))"
   ]
  },
  {
   "cell_type": "markdown",
   "metadata": {},
   "source": [
    "The report shows that the macro f1 score actually went down to 0.68 and MCC to 0.44. One thing to keep in mind is that the data is imbalanced with less than 1% with 'active' labels. The PCs we have used explain about 97% of the variation. So this could be a reason why the actual data set with all its features will perform better."
   ]
  },
  {
   "cell_type": "code",
   "execution_count": 71,
   "metadata": {},
   "outputs": [],
   "source": [
    "logit_roc_auc_pc = roc_auc_score(y_test, logreg_pc.predict_proba(X_test_pc)[:,1])\n",
    "fpr_pc, tpr_pc, thresholds_pc = roc_curve(y_test, logreg_pc.predict_proba(X_test_pc)[:,1])"
   ]
  },
  {
   "cell_type": "code",
   "execution_count": 72,
   "metadata": {},
   "outputs": [
    {
     "data": {
      "image/png": "[encoded data removed]",
      "text/plain": [
       "<Figure size 432x288 with 1 Axes>"
      ]
     },
     "metadata": {
      "needs_background": "light"
     },
     "output_type": "display_data"
    }
   ],
   "source": [
    "plt.figure()\n",
    "plt.plot(fpr_pc, tpr_pc, label='Logistic Regression (area = %0.2f)' % logit_roc_auc_pc)\n",
    "plt.plot([0, 1], [0, 1],'r--')\n",
    "plt.xlabel('False Positive Rate')\n",
    "plt.ylabel('True Positive Rate')\n",
    "plt.title('Receiver operating characteristic')\n",
    "plt.legend(loc=\"lower right\")\n",
    "plt.savefig('Log_ROC')\n",
    "plt.show()"
   ]
  },
  {
   "cell_type": "markdown",
   "metadata": {},
   "source": [
    "## Model 2 - Naive Bayes"
   ]
  },
  {
   "cell_type": "code",
   "execution_count": 83,
   "metadata": {},
   "outputs": [],
   "source": [
    "from sklearn.naive_bayes import GaussianNB"
   ]
  },
  {
   "cell_type": "code",
   "execution_count": 84,
   "metadata": {},
   "outputs": [
    {
     "name": "stdout",
     "output_type": "stream",
     "text": [
      "Number of mislabeled points out of a total 9348 points : 3006\n"
     ]
    }
   ],
   "source": [
    "# initiate the classifier and fit the training data and then predict the test data\n",
    "gnb = GaussianNB()\n",
    "gnb.fit(X_train, y_train)\n",
    "y_predNB = gnb.predict(X_test)\n",
    "\n",
    "# Calculated the number of mislabeled points\n",
    "print(\"Number of mislabeled points out of a total %d points : %d\" % (X_test.shape[0], (y_test != y_predNB).sum()))"
   ]
  },
  {
   "cell_type": "code",
   "execution_count": 85,
   "metadata": {},
   "outputs": [
    {
     "name": "stdout",
     "output_type": "stream",
     "text": [
      "              precision    recall  f1-score   support\n",
      "\n",
      "           0       0.01      0.87      0.03        45\n",
      "           1       1.00      0.68      0.81      9303\n",
      "\n",
      "    accuracy                           0.68      9348\n",
      "   macro avg       0.51      0.77      0.42      9348\n",
      "weighted avg       0.99      0.68      0.80      9348\n",
      "\n",
      "0.0804123487368497\n"
     ]
    }
   ],
   "source": [
    "print(classification_report(y_test, y_predNB))\n",
    "print(MCC(y_test, y_predNB))"
   ]
  },
  {
   "cell_type": "markdown",
   "metadata": {},
   "source": [
    "The f1 score is less than 0.5 with poor precision. The Naive Bayes tends to prefer the majority class in predicitons."
   ]
  },
  {
   "cell_type": "code",
   "execution_count": 86,
   "metadata": {},
   "outputs": [
    {
     "name": "stdout",
     "output_type": "stream",
     "text": [
      "Number of mislabeled points out of a total 9348 points : 223\n"
     ]
    }
   ],
   "source": [
    "# Repeating with the PCs\n",
    "gnb_pc = GaussianNB()\n",
    "gnb_pc.fit(X_train_pc, y_train)\n",
    "y_predNB_pc = gnb_pc.predict(X_test_pc)\n",
    "print(\"Number of mislabeled points out of a total %d points : %d\" % (X_test_pc.shape[0], (y_test != y_predNB_pc).sum()))"
   ]
  },
  {
   "cell_type": "code",
   "execution_count": 87,
   "metadata": {},
   "outputs": [
    {
     "name": "stdout",
     "output_type": "stream",
     "text": [
      "              precision    recall  f1-score   support\n",
      "\n",
      "           0       0.15      0.82      0.25        45\n",
      "           1       1.00      0.98      0.99      9303\n",
      "\n",
      "    accuracy                           0.98      9348\n",
      "   macro avg       0.57      0.90      0.62      9348\n",
      "weighted avg       1.00      0.98      0.98      9348\n",
      "\n",
      "0.34150698914521993\n"
     ]
    }
   ],
   "source": [
    "print(classification_report(y_test, y_predNB_pc))\n",
    "print(MCC(y_test, y_predNB_pc))"
   ]
  },
  {
   "cell_type": "markdown",
   "metadata": {},
   "source": [
    "Though the f1 score has increased by 0.20 and precision has also improved, it has not performed as well as the Logistic Regression classifier."
   ]
  },
  {
   "cell_type": "markdown",
   "metadata": {},
   "source": [
    "## Model 3 - Random Forest"
   ]
  },
  {
   "cell_type": "code",
   "execution_count": 88,
   "metadata": {},
   "outputs": [],
   "source": [
    "from sklearn.ensemble import RandomForestClassifier\n",
    "\n",
    "#Initiate the classifier with the out-of-bag score set to True and class_weight set to 'balanced'\n",
    "rfm = RandomForestClassifier(random_state=10, oob_score=True, class_weight='balanced')"
   ]
  },
  {
   "cell_type": "code",
   "execution_count": 96,
   "metadata": {},
   "outputs": [
    {
     "name": "stderr",
     "output_type": "stream",
     "text": [
      "/home/arunsn/anaconda3/lib/python3.7/site-packages/sklearn/ensemble/forest.py:245: FutureWarning: The default value of n_estimators will change from 10 in version 0.20 to 100 in 0.22.\n",
      "  \"10 in version 0.20 to 100 in 0.22.\", FutureWarning)\n",
      "/home/arunsn/anaconda3/lib/python3.7/site-packages/sklearn/ensemble/forest.py:460: UserWarning: Some inputs do not have OOB scores. This probably means too few trees were used to compute any reliable oob estimates.\n",
      "  warn(\"Some inputs do not have OOB scores. \"\n",
      "/home/arunsn/anaconda3/lib/python3.7/site-packages/sklearn/ensemble/forest.py:465: RuntimeWarning: divide by zero encountered in true_divide\n",
      "  predictions[k].sum(axis=1)[:, np.newaxis])\n",
      "/home/arunsn/anaconda3/lib/python3.7/site-packages/sklearn/ensemble/forest.py:465: RuntimeWarning: invalid value encountered in true_divide\n",
      "  predictions[k].sum(axis=1)[:, np.newaxis])\n"
     ]
    }
   ],
   "source": [
    "# Fit and predict\n",
    "rfm.fit(X_train, y_train)\n",
    "y_predRFM = rfm.predict(X_test)"
   ]
  },
  {
   "cell_type": "code",
   "execution_count": 97,
   "metadata": {},
   "outputs": [
    {
     "name": "stdout",
     "output_type": "stream",
     "text": [
      "              precision    recall  f1-score   support\n",
      "\n",
      "           0       0.63      0.27      0.38        45\n",
      "           1       1.00      1.00      1.00      9303\n",
      "\n",
      "    accuracy                           1.00      9348\n",
      "   macro avg       0.81      0.63      0.69      9348\n",
      "weighted avg       0.99      1.00      0.99      9348\n",
      "\n",
      "0.40866268546854295\n"
     ]
    }
   ],
   "source": [
    "# calculate the f1 score and MCC and print it out\n",
    "RF_bm = classification_report(y_test, y_predRFM, output_dict=True)\n",
    "RF_bm_f1 = RF_bm['macro avg']['f1-score']\n",
    "print(classification_report(y_test, y_predRFM))\n",
    "RF_bm_mcc = MCC(y_test, y_predRFM)\n",
    "print(MCC(y_test, y_predRFM))"
   ]
  },
  {
   "cell_type": "markdown",
   "metadata": {},
   "source": [
    "The f1 score is at 0.69 and MCC is 0.41. Precision is the best so far - 0.63"
   ]
  },
  {
   "cell_type": "code",
   "execution_count": 227,
   "metadata": {},
   "outputs": [],
   "source": [
    "# Repeating with the PCs\n",
    "rfm_pc = RandomForestClassifier(random_state=10, oob_score=True, class_weight='balanced')"
   ]
  },
  {
   "cell_type": "code",
   "execution_count": 228,
   "metadata": {},
   "outputs": [
    {
     "name": "stderr",
     "output_type": "stream",
     "text": [
      "/home/arunsn/anaconda3/lib/python3.7/site-packages/sklearn/ensemble/forest.py:245: FutureWarning: The default value of n_estimators will change from 10 in version 0.20 to 100 in 0.22.\n",
      "  \"10 in version 0.20 to 100 in 0.22.\", FutureWarning)\n",
      "/home/arunsn/anaconda3/lib/python3.7/site-packages/sklearn/ensemble/forest.py:460: UserWarning: Some inputs do not have OOB scores. This probably means too few trees were used to compute any reliable oob estimates.\n",
      "  warn(\"Some inputs do not have OOB scores. \"\n",
      "/home/arunsn/anaconda3/lib/python3.7/site-packages/sklearn/ensemble/forest.py:465: RuntimeWarning: divide by zero encountered in true_divide\n",
      "  predictions[k].sum(axis=1)[:, np.newaxis])\n",
      "/home/arunsn/anaconda3/lib/python3.7/site-packages/sklearn/ensemble/forest.py:465: RuntimeWarning: invalid value encountered in true_divide\n",
      "  predictions[k].sum(axis=1)[:, np.newaxis])\n"
     ]
    }
   ],
   "source": [
    "rfm_pc.fit(X_train_pc, y_train)\n",
    "y_predRFM_pc = rfm_pc.predict(X_test_pc)"
   ]
  },
  {
   "cell_type": "code",
   "execution_count": 229,
   "metadata": {},
   "outputs": [
    {
     "name": "stdout",
     "output_type": "stream",
     "text": [
      "              precision    recall  f1-score   support\n",
      "\n",
      "           0       0.63      0.27      0.38        45\n",
      "           1       1.00      1.00      1.00      9303\n",
      "\n",
      "    accuracy                           1.00      9348\n",
      "   macro avg       0.81      0.63      0.69      9348\n",
      "weighted avg       0.99      1.00      0.99      9348\n",
      "\n"
     ]
    }
   ],
   "source": [
    "print(classification_report(y_test, y_predRFM))"
   ]
  },
  {
   "cell_type": "markdown",
   "metadata": {},
   "source": [
    "The f1 scores are the same as before. "
   ]
  },
  {
   "cell_type": "markdown",
   "metadata": {},
   "source": [
    "## Model 4 - Support Vector Machine"
   ]
  },
  {
   "cell_type": "code",
   "execution_count": 73,
   "metadata": {},
   "outputs": [],
   "source": [
    "from sklearn.svm import SVC\n",
    "from sklearn.metrics import f1_score\n",
    "\n",
    "# Initiate the classifier with the 'linear' kernel\n",
    "svm = SVC(kernel='linear', random_state=10, class_weight='balanced')"
   ]
  },
  {
   "cell_type": "code",
   "execution_count": 125,
   "metadata": {},
   "outputs": [],
   "source": [
    "# Fit and predict\n",
    "svm.fit(X_train, y_train)\n",
    "ypredSVM = svm.predict(X_test)"
   ]
  },
  {
   "cell_type": "code",
   "execution_count": 127,
   "metadata": {},
   "outputs": [
    {
     "name": "stdout",
     "output_type": "stream",
     "text": [
      "              precision    recall  f1-score   support\n",
      "\n",
      "           0       0.44      0.71      0.55        45\n",
      "           1       1.00      1.00      1.00      9303\n",
      "\n",
      "    accuracy                           0.99      9348\n",
      "   macro avg       0.72      0.85      0.77      9348\n",
      "weighted avg       1.00      0.99      0.99      9348\n",
      "\n",
      "0.559596138181342\n"
     ]
    }
   ],
   "source": [
    "# Calculate and print the f1 and MCC score\n",
    "SV_bm_lin = classification_report(y_test, ypredSVM, output_dict=True)\n",
    "SV_bm_lin_f1 = SV_bm_lin['macro avg']['f1-score']\n",
    "print(classification_report(y_test, ypredSVM))\n",
    "SV_bm_lin_mcc = MCC(y_test, ypredSVM)\n",
    "print(MCC(y_test, ypredSVM))"
   ]
  },
  {
   "cell_type": "markdown",
   "metadata": {},
   "source": [
    "The f1 score is the better than the Random Forest model - 0.77 with an MCC of 0.56, though precision is lower than that of Random Forest."
   ]
  },
  {
   "cell_type": "code",
   "execution_count": 128,
   "metadata": {},
   "outputs": [],
   "source": [
    "# repeat with the PCs\n",
    "svm_pc = SVC(kernel='linear', random_state=10, class_weight='balanced')"
   ]
  },
  {
   "cell_type": "code",
   "execution_count": 129,
   "metadata": {},
   "outputs": [],
   "source": [
    "svm_pc.fit(X_train_pc, y_train)\n",
    "ypredSVM_pc = svm_pc.predict(X_test_pc)"
   ]
  },
  {
   "cell_type": "code",
   "execution_count": 130,
   "metadata": {},
   "outputs": [
    {
     "name": "stdout",
     "output_type": "stream",
     "text": [
      "              precision    recall  f1-score   support\n",
      "\n",
      "           0       0.37      0.73      0.49        45\n",
      "           1       1.00      0.99      1.00      9303\n",
      "\n",
      "    accuracy                           0.99      9348\n",
      "   macro avg       0.68      0.86      0.74      9348\n",
      "weighted avg       1.00      0.99      0.99      9348\n",
      "\n"
     ]
    }
   ],
   "source": [
    "print(classification_report(y_test, ypredSVM_pc))"
   ]
  },
  {
   "cell_type": "markdown",
   "metadata": {},
   "source": [
    "The f1 score with the PCs goes down by 0.03. The PCs did not perform as well as the actual data. Considering the parameters to be selected during cross validation, the choice between performance and computational possibility will have to be made."
   ]
  },
  {
   "cell_type": "code",
   "execution_count": 131,
   "metadata": {},
   "outputs": [],
   "source": [
    "from sklearn.svm import SVC\n",
    "\n",
    "# Initiate the SVM with the 'rbf' kernel\n",
    "svm_rbf = SVC(kernel='rbf', random_state=10, class_weight='balanced')"
   ]
  },
  {
   "cell_type": "code",
   "execution_count": 132,
   "metadata": {},
   "outputs": [
    {
     "name": "stderr",
     "output_type": "stream",
     "text": [
      "/home/arunsn/anaconda3/lib/python3.7/site-packages/sklearn/svm/base.py:193: FutureWarning: The default value of gamma will change from 'auto' to 'scale' in version 0.22 to account better for unscaled features. Set gamma explicitly to 'auto' or 'scale' to avoid this warning.\n",
      "  \"avoid this warning.\", FutureWarning)\n"
     ]
    }
   ],
   "source": [
    "# Fit and predict\n",
    "svm_rbf.fit(X_train, y_train)\n",
    "y_predSVM_rbf = svm_rbf.predict(X_test)"
   ]
  },
  {
   "cell_type": "code",
   "execution_count": 135,
   "metadata": {
    "scrolled": true
   },
   "outputs": [
    {
     "name": "stdout",
     "output_type": "stream",
     "text": [
      "              precision    recall  f1-score   support\n",
      "\n",
      "           0       0.07      0.89      0.14        45\n",
      "           1       1.00      0.95      0.97      9303\n",
      "\n",
      "    accuracy                           0.95      9348\n",
      "   macro avg       0.54      0.92      0.55      9348\n",
      "weighted avg       0.99      0.95      0.97      9348\n",
      "\n",
      "0.24776671808675785\n"
     ]
    }
   ],
   "source": [
    "# Calcualte and print the f1 and MCC score\n",
    "SV_bm_rbf = classification_report(y_test, y_predSVM_rbf, output_dict=True)\n",
    "SV_bm_rbf_f1 = SV_bm_rbf['macro avg']['f1-score']\n",
    "print(classification_report(y_test, y_predSVM_rbf))\n",
    "SV_bm_rbf_mcc = MCC(y_test, y_predSVM_rbf)\n",
    "print(MCC(y_test, y_predSVM_rbf))"
   ]
  },
  {
   "cell_type": "markdown",
   "metadata": {},
   "source": [
    "The 'rbf' kernel did not do as well as the 'linear' kernel."
   ]
  },
  {
   "cell_type": "code",
   "execution_count": 136,
   "metadata": {},
   "outputs": [],
   "source": [
    "# repeat with PCs\n",
    "svm_rbf_pc = SVC(kernel='rbf', random_state=10, class_weight='balanced')"
   ]
  },
  {
   "cell_type": "code",
   "execution_count": 137,
   "metadata": {},
   "outputs": [
    {
     "name": "stderr",
     "output_type": "stream",
     "text": [
      "/home/arunsn/anaconda3/lib/python3.7/site-packages/sklearn/svm/base.py:193: FutureWarning: The default value of gamma will change from 'auto' to 'scale' in version 0.22 to account better for unscaled features. Set gamma explicitly to 'auto' or 'scale' to avoid this warning.\n",
      "  \"avoid this warning.\", FutureWarning)\n"
     ]
    }
   ],
   "source": [
    "svm_rbf_pc.fit(X_train_pc, y_train)\n",
    "y_predSVM_rbf_pc = svm_rbf_pc.predict(X_test_pc)"
   ]
  },
  {
   "cell_type": "code",
   "execution_count": 138,
   "metadata": {},
   "outputs": [
    {
     "name": "stdout",
     "output_type": "stream",
     "text": [
      "              precision    recall  f1-score   support\n",
      "\n",
      "           0       0.09      0.89      0.16        45\n",
      "           1       1.00      0.96      0.98      9303\n",
      "\n",
      "    accuracy                           0.96      9348\n",
      "   macro avg       0.54      0.92      0.57      9348\n",
      "weighted avg       1.00      0.96      0.97      9348\n",
      "\n"
     ]
    }
   ],
   "source": [
    "print(classification_report(y_test, y_predSVM_rbf_pc))"
   ]
  },
  {
   "cell_type": "markdown",
   "metadata": {},
   "source": [
    "Though the PCs did increase the f1 score to 0.57, it did not perform as well as the linear model.We can explore this in the parameter tuning section of the project."
   ]
  },
  {
   "cell_type": "markdown",
   "metadata": {},
   "source": [
    "## Model 5 - Gradient Boosting"
   ]
  },
  {
   "cell_type": "code",
   "execution_count": 159,
   "metadata": {},
   "outputs": [],
   "source": [
    "from sklearn import ensemble\n",
    "#from sklearn.ensemble import GradientBoostingClassfier\n",
    "model = sklearn.ensemble.GradientBoostingClassifier()"
   ]
  },
  {
   "cell_type": "code",
   "execution_count": 160,
   "metadata": {},
   "outputs": [],
   "source": [
    "# fit and predict\n",
    "model.fit(X_train,y_train)\n",
    "y_predGB = model.predict(X_test)"
   ]
  },
  {
   "cell_type": "code",
   "execution_count": 162,
   "metadata": {},
   "outputs": [
    {
     "name": "stdout",
     "output_type": "stream",
     "text": [
      "              precision    recall  f1-score   support\n",
      "\n",
      "           0       0.54      0.42      0.48        45\n",
      "           1       1.00      1.00      1.00      9303\n",
      "\n",
      "    accuracy                           1.00      9348\n",
      "   macro avg       0.77      0.71      0.74      9348\n",
      "weighted avg       1.00      1.00      1.00      9348\n",
      "\n",
      "0.47654878623912583\n"
     ]
    }
   ],
   "source": [
    "# Calculate and print f1 and MCC scores\n",
    "GB_bm = classification_report(y_test, y_predGB, output_dict=True)\n",
    "GB_bm_f1 = GB_bm['macro avg']['f1-score']\n",
    "print(classification_report(y_test, y_predGB))\n",
    "GB_bm_mcc = MCC(y_test, y_predGB)\n",
    "print(MCC(y_test, y_predGB))"
   ]
  },
  {
   "cell_type": "code",
   "execution_count": 163,
   "metadata": {},
   "outputs": [],
   "source": [
    "# Repeat using the PCs\n",
    "model_pc = model = sklearn.ensemble.GradientBoostingClassifier()"
   ]
  },
  {
   "cell_type": "code",
   "execution_count": 164,
   "metadata": {},
   "outputs": [],
   "source": [
    "# Fit and predict\n",
    "model_pc.fit(X_train_pc,y_train)\n",
    "y_predGB_pc = model_pc.predict(X_test_pc)"
   ]
  },
  {
   "cell_type": "code",
   "execution_count": 165,
   "metadata": {},
   "outputs": [
    {
     "name": "stdout",
     "output_type": "stream",
     "text": [
      "              precision    recall  f1-score   support\n",
      "\n",
      "           0       0.26      0.33      0.29        45\n",
      "           1       1.00      1.00      1.00      9303\n",
      "\n",
      "    accuracy                           0.99      9348\n",
      "   macro avg       0.63      0.66      0.65      9348\n",
      "weighted avg       0.99      0.99      0.99      9348\n",
      "\n"
     ]
    }
   ],
   "source": [
    "print(classification_report(y_test, y_predGB_pc))"
   ]
  },
  {
   "cell_type": "markdown",
   "metadata": {},
   "source": [
    "As usual, using the entire data set gave much better scores than the PCs. The Gradient boosting did better than the Random Forest, but none of the models have matched the precision of the Random Forest."
   ]
  },
  {
   "cell_type": "markdown",
   "metadata": {},
   "source": [
    "## Model 6 - XGBoost"
   ]
  },
  {
   "cell_type": "code",
   "execution_count": 53,
   "metadata": {},
   "outputs": [],
   "source": [
    "from xgboost import XGBClassifier"
   ]
  },
  {
   "cell_type": "code",
   "execution_count": 167,
   "metadata": {},
   "outputs": [
    {
     "data": {
      "text/plain": [
       "XGBClassifier(base_score=0.5, booster='gbtree', colsample_bylevel=1,\n",
       "              colsample_bynode=1, colsample_bytree=1, gamma=0,\n",
       "              learning_rate=0.1, max_delta_step=0, max_depth=3,\n",
       "              min_child_weight=1, missing=None, n_estimators=100, n_jobs=1,\n",
       "              nthread=None, objective='binary:logistic', random_state=0,\n",
       "              reg_alpha=0, reg_lambda=1, scale_pos_weight=1, seed=None,\n",
       "              silent=None, subsample=1, verbosity=1)"
      ]
     },
     "execution_count": 167,
     "metadata": {},
     "output_type": "execute_result"
    }
   ],
   "source": [
    "# Initiate the classifier, fit and predict\n",
    "mod = XGBClassifier()\n",
    "mod.fit(X_train,y_train)"
   ]
  },
  {
   "cell_type": "code",
   "execution_count": 168,
   "metadata": {},
   "outputs": [],
   "source": [
    "y_predXGB = mod.predict(X_test)"
   ]
  },
  {
   "cell_type": "code",
   "execution_count": 170,
   "metadata": {},
   "outputs": [
    {
     "name": "stdout",
     "output_type": "stream",
     "text": [
      "0.5832615452180652\n",
      "              precision    recall  f1-score   support\n",
      "\n",
      "           0       0.77      0.44      0.56        45\n",
      "           1       1.00      1.00      1.00      9303\n",
      "\n",
      "    accuracy                           1.00      9348\n",
      "   macro avg       0.88      0.72      0.78      9348\n",
      "weighted avg       1.00      1.00      1.00      9348\n",
      "\n"
     ]
    }
   ],
   "source": [
    "# predictions are rounded as they are calculated as probabilities\n",
    "# calculate and print the f1 and MCC scores\n",
    "predictions = [round(value) for value in y_predXGB]\n",
    "\n",
    "XGB_bm = classification_report(y_test, predictions, output_dict=True)\n",
    "XGB_bm_f1 = XGB_bm['macro avg']['f1-score']\n",
    "XGB_bm_mcc = MCC(y_test, predictions)\n",
    "print(MCC(y_test, predictions))\n",
    "print(classification_report(y_test, predictions))"
   ]
  },
  {
   "cell_type": "code",
   "execution_count": 171,
   "metadata": {},
   "outputs": [
    {
     "data": {
      "text/plain": [
       "XGBClassifier(base_score=0.5, booster='gbtree', colsample_bylevel=1,\n",
       "              colsample_bynode=1, colsample_bytree=1, gamma=0,\n",
       "              learning_rate=0.1, max_delta_step=0, max_depth=3,\n",
       "              min_child_weight=1, missing=None, n_estimators=100, n_jobs=1,\n",
       "              nthread=None, objective='binary:logistic', random_state=0,\n",
       "              reg_alpha=0, reg_lambda=1, scale_pos_weight=1, seed=None,\n",
       "              silent=None, subsample=1, verbosity=1)"
      ]
     },
     "execution_count": 171,
     "metadata": {},
     "output_type": "execute_result"
    }
   ],
   "source": [
    "# using the PCs to fit and predict\n",
    "mod_pc = XGBClassifier()\n",
    "mod_pc.fit(X_train_pc,y_train)"
   ]
  },
  {
   "cell_type": "code",
   "execution_count": 172,
   "metadata": {},
   "outputs": [],
   "source": [
    "y_predXGB_pc = mod_pc.predict(X_test_pc)"
   ]
  },
  {
   "cell_type": "code",
   "execution_count": 173,
   "metadata": {},
   "outputs": [
    {
     "name": "stdout",
     "output_type": "stream",
     "text": [
      "              precision    recall  f1-score   support\n",
      "\n",
      "           0       0.81      0.29      0.43        45\n",
      "           1       1.00      1.00      1.00      9303\n",
      "\n",
      "    accuracy                           1.00      9348\n",
      "   macro avg       0.90      0.64      0.71      9348\n",
      "weighted avg       1.00      1.00      1.00      9348\n",
      "\n"
     ]
    }
   ],
   "source": [
    "predictions_pc = [round(value) for value in y_predXGB_pc]\n",
    "print(classification_report(y_test, predictions_pc))"
   ]
  },
  {
   "cell_type": "markdown",
   "metadata": {},
   "source": [
    "The XGBooster has performed the best among all the baseline models with an f1 of 0.78, precision of 0.77 and an MCC of"
   ]
  },
  {
   "cell_type": "markdown",
   "metadata": {},
   "source": [
    "# Hyperparameter Tuning and Cross Validation"
   ]
  },
  {
   "cell_type": "markdown",
   "metadata": {},
   "source": [
    "Hyperparameters are parameters that are external to our model and highly responsible for getting good performance with models.These cannot be learned from the training process and express hig level properties of the model. It determines the complexity of the model or the speed of learning. The process of finding the right combination of hyperparameters is very complex. Currently, it involves the RandomSearch or GridSearch across Cartesian products of sets of hyperparameters.\n",
    "\n",
    "Cross validation is a technique to identify how well our model performed and a need to test that our model is well trained without any overfitting or underfitting. I have used the StratifiedKFold cross validation because of class imbalance. \n",
    "\n",
    "For each model, we created a dictionary of the different parameters with different values and implemented the RandomizedSearchCV which randomly selects the parameter combinations and also does a stratified KFold and the best model is selected by their scoring - f1_macro was used."
   ]
  },
  {
   "cell_type": "markdown",
   "metadata": {},
   "source": [
    "## Model 1 - Logistic Regression"
   ]
  },
  {
   "cell_type": "code",
   "execution_count": 54,
   "metadata": {},
   "outputs": [],
   "source": [
    "from sklearn.model_selection import RandomizedSearchCV\n",
    "from sklearn.metrics import confusion_matrix\n",
    "from sklearn.metrics import f1_score"
   ]
  },
  {
   "cell_type": "code",
   "execution_count": 116,
   "metadata": {},
   "outputs": [],
   "source": [
    "# Create a dictionary with the hyperparameter options.\n",
    "param_LG = {'penalty': ['l1','l2'],\n",
    "            'C': [0.001,0.01,0.1,1,10],\n",
    "            'solver': ['liblinear'],\n",
    "            'class_weight': ['balanced']}\n",
    "\n",
    "log_HT = LogisticRegression(max_iter=300)"
   ]
  },
  {
   "cell_type": "code",
   "execution_count": 117,
   "metadata": {},
   "outputs": [],
   "source": [
    "# create randomizedsearch object using the parameter grid and the classifier with 5-fold stratified cross validation\n",
    "clf_LG = RandomizedSearchCV(log_HT, param_LG,cv=5, scoring='f1_macro')"
   ]
  },
  {
   "cell_type": "code",
   "execution_count": 118,
   "metadata": {},
   "outputs": [
    {
     "name": "stderr",
     "output_type": "stream",
     "text": [
      "/home/arunsn/anaconda3/lib/python3.7/site-packages/sklearn/metrics/classification.py:1437: UndefinedMetricWarning: F-score is ill-defined and being set to 0.0 in labels with no predicted samples.\n",
      "  'precision', 'predicted', average, warn_for)\n"
     ]
    }
   ],
   "source": [
    "# Fit the object \n",
    "best_modelLG = clf_LG.fit(X_train,y_train)"
   ]
  },
  {
   "cell_type": "code",
   "execution_count": 119,
   "metadata": {},
   "outputs": [
    {
     "name": "stdout",
     "output_type": "stream",
     "text": [
      "Best Penalty:  l2\n",
      "Best C:  10\n"
     ]
    }
   ],
   "source": [
    "# print the best parameters for the best model\n",
    "print('Best Penalty: ', best_modelLG.best_estimator_.get_params()['penalty'])\n",
    "print('Best C: ', best_modelLG.best_estimator_.get_params()['C'])"
   ]
  },
  {
   "cell_type": "code",
   "execution_count": 120,
   "metadata": {},
   "outputs": [],
   "source": [
    "# Use the best model to predict on the test set\n",
    "y_predLGHT = best_modelLG.predict(X_test)"
   ]
  },
  {
   "cell_type": "code",
   "execution_count": 121,
   "metadata": {},
   "outputs": [
    {
     "name": "stdout",
     "output_type": "stream",
     "text": [
      "[[  33   12]\n",
      " [  52 9251]]\n"
     ]
    }
   ],
   "source": [
    "# print confusion matrix to see the tp,tn,fp and fn\n",
    "confusion_matrix_HT = confusion_matrix(y_test, y_predLGHT)\n",
    "print(confusion_matrix_HT)"
   ]
  },
  {
   "cell_type": "code",
   "execution_count": 122,
   "metadata": {},
   "outputs": [
    {
     "name": "stdout",
     "output_type": "stream",
     "text": [
      "              precision    recall  f1-score   support\n",
      "\n",
      "           0       0.39      0.73      0.51        45\n",
      "           1       1.00      0.99      1.00      9303\n",
      "\n",
      "    accuracy                           0.99      9348\n",
      "   macro avg       0.69      0.86      0.75      9348\n",
      "weighted avg       1.00      0.99      0.99      9348\n",
      "\n",
      "0.530653398543135\n"
     ]
    }
   ],
   "source": [
    "# print classification report\n",
    "LG_ht = classification_report(y_test, y_predLGHT, output_dict=True)\n",
    "LG_ht_f1 = LG_ht['macro avg']['f1-score']\n",
    "print(classification_report(y_test, y_predLGHT))\n",
    "LG_ht_mcc = MCC(y_test, y_predLGHT)\n",
    "print(MCC(y_test, y_predLGHT))"
   ]
  },
  {
   "cell_type": "code",
   "execution_count": 123,
   "metadata": {},
   "outputs": [],
   "source": [
    "# get the roc_auc score and the true positive rate and false positive rate to generate the ROC curve\n",
    "roc_auc_HT = roc_auc_score(y_test, best_modelLG.predict_proba(X_test)[:,1])\n",
    "fprHT, tprHT, thresholdsHT = roc_curve(y_test, best_modelLG.predict_proba(X_test)[:,1])"
   ]
  },
  {
   "cell_type": "code",
   "execution_count": 124,
   "metadata": {},
   "outputs": [
    {
     "data": {
      "image/png": "[encoded data removed]",
      "text/plain": [
       "<Figure size 432x288 with 1 Axes>"
      ]
     },
     "metadata": {
      "needs_background": "light"
     },
     "output_type": "display_data"
    }
   ],
   "source": [
    "# plot the ROC curve with the best model\n",
    "plt.figure()\n",
    "plt.plot(fprHT, tprHT, label='Logistic Regression (area = %0.2f)' % roc_auc_HT)\n",
    "plt.plot([0, 1], [0, 1],'r--')\n",
    "plt.xlabel('False Positive Rate')\n",
    "plt.ylabel('True Positive Rate')\n",
    "plt.title('Receiver operating characteristic after parameter tuning')\n",
    "plt.legend(loc=\"lower right\")\n",
    "plt.savefig('Log_ROC')\n",
    "plt.show()"
   ]
  },
  {
   "cell_type": "markdown",
   "metadata": {},
   "source": [
    "The Logistic regression model after selecting for the hyperparameters did slightly better than the baseline model."
   ]
  },
  {
   "cell_type": "code",
   "execution_count": 135,
   "metadata": {},
   "outputs": [
    {
     "name": "stdout",
     "output_type": "stream",
     "text": [
      "Baseline F1 Score: 0.71, Baseline MCC Score: 0.48\n",
      "F1 Score after tuning: 0.75, MCC Score after tuning: 0.53\n"
     ]
    }
   ],
   "source": [
    "print('Baseline F1 Score: ' + str(round(LG_bm_f1,2)) + ', Baseline MCC Score: '+ str(round(LG_bm_mcc,2)))\n",
    "print('F1 Score after tuning: '+ str(round(LG_ht_f1,2)) + ', MCC Score after tuning: '+ str(round(LG_ht_mcc,2)))"
   ]
  },
  {
   "cell_type": "markdown",
   "metadata": {},
   "source": [
    "## Model 3 - Random Forest"
   ]
  },
  {
   "cell_type": "markdown",
   "metadata": {},
   "source": [
    "The Random Forest model can perform better if we use the optimum number of trees and features. To save time and effort computationally, I will use the oob_score (out-of-bag) to find a small range for the n_estimators (number of trees) that I can use for Random grid search."
   ]
  },
  {
   "cell_type": "code",
   "execution_count": 99,
   "metadata": {},
   "outputs": [],
   "source": [
    "# Initiate classifier with oob_score as True\n",
    "rfm_HT = RandomForestClassifier(random_state=10,oob_score=True,class_weight='balanced')"
   ]
  },
  {
   "cell_type": "code",
   "execution_count": 100,
   "metadata": {},
   "outputs": [
    {
     "name": "stderr",
     "output_type": "stream",
     "text": [
      "/home/arunsn/anaconda3/lib/python3.7/site-packages/sklearn/ensemble/forest.py:460: UserWarning: Some inputs do not have OOB scores. This probably means too few trees were used to compute any reliable oob estimates.\n",
      "  warn(\"Some inputs do not have OOB scores. \"\n",
      "/home/arunsn/anaconda3/lib/python3.7/site-packages/sklearn/ensemble/forest.py:465: RuntimeWarning: divide by zero encountered in true_divide\n",
      "  predictions[k].sum(axis=1)[:, np.newaxis])\n",
      "/home/arunsn/anaconda3/lib/python3.7/site-packages/sklearn/ensemble/forest.py:465: RuntimeWarning: invalid value encountered in true_divide\n",
      "  predictions[k].sum(axis=1)[:, np.newaxis])\n",
      "/home/arunsn/anaconda3/lib/python3.7/site-packages/sklearn/ensemble/forest.py:460: UserWarning: Some inputs do not have OOB scores. This probably means too few trees were used to compute any reliable oob estimates.\n",
      "  warn(\"Some inputs do not have OOB scores. \"\n",
      "/home/arunsn/anaconda3/lib/python3.7/site-packages/sklearn/ensemble/forest.py:465: RuntimeWarning: divide by zero encountered in true_divide\n",
      "  predictions[k].sum(axis=1)[:, np.newaxis])\n",
      "/home/arunsn/anaconda3/lib/python3.7/site-packages/sklearn/ensemble/forest.py:465: RuntimeWarning: invalid value encountered in true_divide\n",
      "  predictions[k].sum(axis=1)[:, np.newaxis])\n"
     ]
    }
   ],
   "source": [
    "# Create a list of possible no. of trees - n_estimators\n",
    "e1 = [10,20,30,40,50]\n",
    "\n",
    "# create a dictionary to hold the no. of trees and its corresponding oob_error\n",
    "error_rate1 = {}\n",
    "for i in e1:\n",
    "    rfm_HT.set_params(n_estimators=i)\n",
    "    rfm_HT.fit(X_train, y_train)\n",
    "    oob_error = 1-rfm_HT.oob_score_\n",
    "    error_rate1[i]=oob_error"
   ]
  },
  {
   "cell_type": "code",
   "execution_count": 101,
   "metadata": {},
   "outputs": [
    {
     "data": {
      "text/plain": [
       "Text(0.5, 1.0, 'OOB plot ')"
      ]
     },
     "execution_count": 101,
     "metadata": {},
     "output_type": "execute_result"
    },
    {
     "data": {
      "image/png": "[encoded data removed]",
      "text/plain": [
       "<Figure size 432x288 with 1 Axes>"
      ]
     },
     "metadata": {
      "needs_background": "light"
     },
     "output_type": "display_data"
    }
   ],
   "source": [
    "# plot the n_estimators along the X axis and the error rate along the Y axis\n",
    "\n",
    "xs1 = []\n",
    "ys1 = []\n",
    "for key, value in error_rate1.items():\n",
    "    xs1.append(key)\n",
    "    ys1.append(value)\n",
    "    \n",
    "plt.plot(xs1,ys1)\n",
    "plt.xlabel('Number of trees')\n",
    "plt.ylabel('OOB error rate')\n",
    "plt.title('OOB plot ')"
   ]
  },
  {
   "cell_type": "markdown",
   "metadata": {},
   "source": [
    "We can see that the oob error comes down to 20 and then gradually lowers to 50. We can explore to see what happens to the plot further than 50 trees."
   ]
  },
  {
   "cell_type": "code",
   "execution_count": 102,
   "metadata": {},
   "outputs": [],
   "source": [
    "# To repeat the above code for more number of trees, instantiate the classifier with warm_start = True\n",
    "rfm_HT = RandomForestClassifier(random_state=10,warm_start=True,oob_score=True,class_weight='balanced')"
   ]
  },
  {
   "cell_type": "code",
   "execution_count": 103,
   "metadata": {},
   "outputs": [
    {
     "name": "stderr",
     "output_type": "stream",
     "text": [
      "/home/arunsn/anaconda3/lib/python3.7/site-packages/sklearn/ensemble/forest.py:504: UserWarning: class_weight presets \"balanced\" or \"balanced_subsample\" are not recommended for warm_start if the fitted data differs from the full dataset. In order to use \"balanced\" weights, use compute_class_weight(\"balanced\", classes, y). In place of y you can use a large enough sample of the full training set target to properly estimate the class frequency distributions. Pass the resulting weights as the class_weight parameter.\n",
      "  warn('class_weight presets \"balanced\" or \"balanced_subsample\" are '\n",
      "/home/arunsn/anaconda3/lib/python3.7/site-packages/sklearn/ensemble/forest.py:504: UserWarning: class_weight presets \"balanced\" or \"balanced_subsample\" are not recommended for warm_start if the fitted data differs from the full dataset. In order to use \"balanced\" weights, use compute_class_weight(\"balanced\", classes, y). In place of y you can use a large enough sample of the full training set target to properly estimate the class frequency distributions. Pass the resulting weights as the class_weight parameter.\n",
      "  warn('class_weight presets \"balanced\" or \"balanced_subsample\" are '\n",
      "/home/arunsn/anaconda3/lib/python3.7/site-packages/sklearn/ensemble/forest.py:504: UserWarning: class_weight presets \"balanced\" or \"balanced_subsample\" are not recommended for warm_start if the fitted data differs from the full dataset. In order to use \"balanced\" weights, use compute_class_weight(\"balanced\", classes, y). In place of y you can use a large enough sample of the full training set target to properly estimate the class frequency distributions. Pass the resulting weights as the class_weight parameter.\n",
      "  warn('class_weight presets \"balanced\" or \"balanced_subsample\" are '\n",
      "/home/arunsn/anaconda3/lib/python3.7/site-packages/sklearn/ensemble/forest.py:504: UserWarning: class_weight presets \"balanced\" or \"balanced_subsample\" are not recommended for warm_start if the fitted data differs from the full dataset. In order to use \"balanced\" weights, use compute_class_weight(\"balanced\", classes, y). In place of y you can use a large enough sample of the full training set target to properly estimate the class frequency distributions. Pass the resulting weights as the class_weight parameter.\n",
      "  warn('class_weight presets \"balanced\" or \"balanced_subsample\" are '\n",
      "/home/arunsn/anaconda3/lib/python3.7/site-packages/sklearn/ensemble/forest.py:504: UserWarning: class_weight presets \"balanced\" or \"balanced_subsample\" are not recommended for warm_start if the fitted data differs from the full dataset. In order to use \"balanced\" weights, use compute_class_weight(\"balanced\", classes, y). In place of y you can use a large enough sample of the full training set target to properly estimate the class frequency distributions. Pass the resulting weights as the class_weight parameter.\n",
      "  warn('class_weight presets \"balanced\" or \"balanced_subsample\" are '\n"
     ]
    }
   ],
   "source": [
    "e2 = [50,60,70,80,90]\n",
    "error_rate2 = {}\n",
    "for i in e2:\n",
    "    rfm_HT.set_params(n_estimators=i)\n",
    "    rfm_HT.fit(X_train, y_train)\n",
    "    oob_error = 1-rfm_HT.oob_score_\n",
    "    error_rate2[i]=oob_error"
   ]
  },
  {
   "cell_type": "code",
   "execution_count": 104,
   "metadata": {},
   "outputs": [
    {
     "data": {
      "text/plain": [
       "Text(0.5, 1.0, 'OOB plot ')"
      ]
     },
     "execution_count": 104,
     "metadata": {},
     "output_type": "execute_result"
    },
    {
     "data": {
      "image/png": "[encoded data removed]",
      "text/plain": [
       "<Figure size 432x288 with 1 Axes>"
      ]
     },
     "metadata": {
      "needs_background": "light"
     },
     "output_type": "display_data"
    }
   ],
   "source": [
    "xs2 = []\n",
    "ys2 = []\n",
    "for key, value in error_rate2.items():\n",
    "    xs2.append(key)\n",
    "    ys2.append(value)\n",
    "    \n",
    "plt.plot(xs2,ys2)\n",
    "plt.xlabel('Number of trees')\n",
    "plt.ylabel('OOB error rate')\n",
    "plt.title('OOB plot ')"
   ]
  },
  {
   "cell_type": "code",
   "execution_count": 105,
   "metadata": {},
   "outputs": [
    {
     "name": "stderr",
     "output_type": "stream",
     "text": [
      "/home/arunsn/anaconda3/lib/python3.7/site-packages/sklearn/ensemble/forest.py:504: UserWarning: class_weight presets \"balanced\" or \"balanced_subsample\" are not recommended for warm_start if the fitted data differs from the full dataset. In order to use \"balanced\" weights, use compute_class_weight(\"balanced\", classes, y). In place of y you can use a large enough sample of the full training set target to properly estimate the class frequency distributions. Pass the resulting weights as the class_weight parameter.\n",
      "  warn('class_weight presets \"balanced\" or \"balanced_subsample\" are '\n",
      "/home/arunsn/anaconda3/lib/python3.7/site-packages/sklearn/ensemble/forest.py:504: UserWarning: class_weight presets \"balanced\" or \"balanced_subsample\" are not recommended for warm_start if the fitted data differs from the full dataset. In order to use \"balanced\" weights, use compute_class_weight(\"balanced\", classes, y). In place of y you can use a large enough sample of the full training set target to properly estimate the class frequency distributions. Pass the resulting weights as the class_weight parameter.\n",
      "  warn('class_weight presets \"balanced\" or \"balanced_subsample\" are '\n",
      "/home/arunsn/anaconda3/lib/python3.7/site-packages/sklearn/ensemble/forest.py:504: UserWarning: class_weight presets \"balanced\" or \"balanced_subsample\" are not recommended for warm_start if the fitted data differs from the full dataset. In order to use \"balanced\" weights, use compute_class_weight(\"balanced\", classes, y). In place of y you can use a large enough sample of the full training set target to properly estimate the class frequency distributions. Pass the resulting weights as the class_weight parameter.\n",
      "  warn('class_weight presets \"balanced\" or \"balanced_subsample\" are '\n"
     ]
    }
   ],
   "source": [
    "e3 = [100,200,300]\n",
    "error_rate3 = {}\n",
    "for i in e3:\n",
    "    rfm_HT.set_params(n_estimators=i)\n",
    "    rfm_HT.fit(X_train, y_train)\n",
    "    oob_error = 1-rfm_HT.oob_score_\n",
    "    error_rate3[i]=oob_error"
   ]
  },
  {
   "cell_type": "code",
   "execution_count": 106,
   "metadata": {},
   "outputs": [
    {
     "data": {
      "text/plain": [
       "Text(0.5, 1.0, 'OOB plot ')"
      ]
     },
     "execution_count": 106,
     "metadata": {},
     "output_type": "execute_result"
    },
    {
     "data": {
      "image/png": "[encoded data removed]",
      "text/plain": [
       "<Figure size 432x288 with 1 Axes>"
      ]
     },
     "metadata": {
      "needs_background": "light"
     },
     "output_type": "display_data"
    }
   ],
   "source": [
    "xs3 = []\n",
    "ys3 = []\n",
    "for key, value in error_rate3.items():\n",
    "    xs3.append(key)\n",
    "    ys3.append(value)\n",
    "    \n",
    "plt.plot(xs3,ys3)\n",
    "plt.xlabel('Number of trees')\n",
    "plt.ylabel('OOB error rate')\n",
    "plt.title('OOB plot ')"
   ]
  },
  {
   "cell_type": "markdown",
   "metadata": {},
   "source": [
    "Seeing the above plots, its safe to say that the error rate plateaus from 50 to 70 trees and then starts to be slightly erratic in the same level. Now, keeping the n_estimators at 50, we can try different number of features as max_features."
   ]
  },
  {
   "cell_type": "code",
   "execution_count": 107,
   "metadata": {},
   "outputs": [],
   "source": [
    "rfm_HTf = RandomForestClassifier(random_state=10,oob_score=True,n_estimators=50,class_weight='balanced')"
   ]
  },
  {
   "cell_type": "code",
   "execution_count": 108,
   "metadata": {},
   "outputs": [],
   "source": [
    "# Create a list of the different number of features to be tried\n",
    "e_f = [10,20,30,40,50,60,70,80,90,100,200]\n",
    "error_rate_f = {}\n",
    "for i in e_f:\n",
    "    rfm_HTf.set_params(max_features=i)\n",
    "    rfm_HTf.fit(X_train, y_train)\n",
    "    oob_error = 1-rfm_HTf.oob_score_\n",
    "    error_rate_f[i]=oob_error"
   ]
  },
  {
   "cell_type": "code",
   "execution_count": 109,
   "metadata": {},
   "outputs": [
    {
     "data": {
      "text/plain": [
       "Text(0.5, 1.0, 'OOB plot ')"
      ]
     },
     "execution_count": 109,
     "metadata": {},
     "output_type": "execute_result"
    },
    {
     "data": {
      "image/png": "[encoded data removed]",
      "text/plain": [
       "<Figure size 432x288 with 1 Axes>"
      ]
     },
     "metadata": {
      "needs_background": "light"
     },
     "output_type": "display_data"
    }
   ],
   "source": [
    "xs_f = []\n",
    "ys_f = []\n",
    "for key, value in error_rate_f.items():\n",
    "    xs_f.append(key)\n",
    "    ys_f.append(value)\n",
    "    \n",
    "plt.plot(xs_f,ys_f)\n",
    "plt.xlabel('Number of features')\n",
    "plt.ylabel('OOB error rate')\n",
    "plt.title('OOB plot ')"
   ]
  },
  {
   "cell_type": "markdown",
   "metadata": {},
   "source": [
    "The above plot shows that the error hits a low when there are 100 features used as the max_features parameter.\n",
    "\n",
    "Now, we can set up a parameter grid with just a few options for the n_estimators and max_features and conduct randomized search to see which parameter combinations do well."
   ]
  },
  {
   "cell_type": "code",
   "execution_count": 110,
   "metadata": {},
   "outputs": [],
   "source": [
    "# Initiate the classifier with class_weight set to 'balanced' because of the class imbalance\n",
    "rfm_HT = RandomForestClassifier(random_state=10,oob_score=True, class_weight='balanced')"
   ]
  },
  {
   "cell_type": "code",
   "execution_count": 111,
   "metadata": {},
   "outputs": [],
   "source": [
    "# set up a parameter grid with the different options\n",
    "param_RF = {'n_estimators': [30,40,50],\n",
    "            'max_features': [50,100,200]}"
   ]
  },
  {
   "cell_type": "code",
   "execution_count": 112,
   "metadata": {},
   "outputs": [],
   "source": [
    "# Conduct a  random grid search using the parameter grid and the classifier with a 5-fold stratified cross validation \n",
    "clf_RF = RandomizedSearchCV(rfm_HT, param_RF,cv=5,scoring = 'f1_macro')"
   ]
  },
  {
   "cell_type": "code",
   "execution_count": 113,
   "metadata": {},
   "outputs": [
    {
     "name": "stderr",
     "output_type": "stream",
     "text": [
      "/home/arunsn/anaconda3/lib/python3.7/site-packages/sklearn/model_selection/_search.py:266: UserWarning: The total space of parameters 9 is smaller than n_iter=50. Running 9 iterations. For exhaustive searches, use GridSearchCV.\n",
      "  % (grid_size, self.n_iter, grid_size), UserWarning)\n",
      "/home/arunsn/anaconda3/lib/python3.7/site-packages/sklearn/metrics/classification.py:1437: UndefinedMetricWarning: F-score is ill-defined and being set to 0.0 in labels with no predicted samples.\n",
      "  'precision', 'predicted', average, warn_for)\n",
      "/home/arunsn/anaconda3/lib/python3.7/site-packages/sklearn/metrics/classification.py:1437: UndefinedMetricWarning: F-score is ill-defined and being set to 0.0 in labels with no predicted samples.\n",
      "  'precision', 'predicted', average, warn_for)\n",
      "/home/arunsn/anaconda3/lib/python3.7/site-packages/sklearn/metrics/classification.py:1437: UndefinedMetricWarning: F-score is ill-defined and being set to 0.0 in labels with no predicted samples.\n",
      "  'precision', 'predicted', average, warn_for)\n",
      "/home/arunsn/anaconda3/lib/python3.7/site-packages/sklearn/metrics/classification.py:1437: UndefinedMetricWarning: F-score is ill-defined and being set to 0.0 in labels with no predicted samples.\n",
      "  'precision', 'predicted', average, warn_for)\n",
      "/home/arunsn/anaconda3/lib/python3.7/site-packages/sklearn/metrics/classification.py:1437: UndefinedMetricWarning: F-score is ill-defined and being set to 0.0 in labels with no predicted samples.\n",
      "  'precision', 'predicted', average, warn_for)\n",
      "/home/arunsn/anaconda3/lib/python3.7/site-packages/sklearn/metrics/classification.py:1437: UndefinedMetricWarning: F-score is ill-defined and being set to 0.0 in labels with no predicted samples.\n",
      "  'precision', 'predicted', average, warn_for)\n",
      "/home/arunsn/anaconda3/lib/python3.7/site-packages/sklearn/metrics/classification.py:1437: UndefinedMetricWarning: F-score is ill-defined and being set to 0.0 in labels with no predicted samples.\n",
      "  'precision', 'predicted', average, warn_for)\n",
      "/home/arunsn/anaconda3/lib/python3.7/site-packages/sklearn/metrics/classification.py:1437: UndefinedMetricWarning: F-score is ill-defined and being set to 0.0 in labels with no predicted samples.\n",
      "  'precision', 'predicted', average, warn_for)\n",
      "/home/arunsn/anaconda3/lib/python3.7/site-packages/sklearn/metrics/classification.py:1437: UndefinedMetricWarning: F-score is ill-defined and being set to 0.0 in labels with no predicted samples.\n",
      "  'precision', 'predicted', average, warn_for)\n",
      "/home/arunsn/anaconda3/lib/python3.7/site-packages/sklearn/metrics/classification.py:1437: UndefinedMetricWarning: F-score is ill-defined and being set to 0.0 in labels with no predicted samples.\n",
      "  'precision', 'predicted', average, warn_for)\n",
      "/home/arunsn/anaconda3/lib/python3.7/site-packages/sklearn/metrics/classification.py:1437: UndefinedMetricWarning: F-score is ill-defined and being set to 0.0 in labels with no predicted samples.\n",
      "  'precision', 'predicted', average, warn_for)\n",
      "/home/arunsn/anaconda3/lib/python3.7/site-packages/sklearn/metrics/classification.py:1437: UndefinedMetricWarning: F-score is ill-defined and being set to 0.0 in labels with no predicted samples.\n",
      "  'precision', 'predicted', average, warn_for)\n",
      "/home/arunsn/anaconda3/lib/python3.7/site-packages/sklearn/metrics/classification.py:1437: UndefinedMetricWarning: F-score is ill-defined and being set to 0.0 in labels with no predicted samples.\n",
      "  'precision', 'predicted', average, warn_for)\n",
      "/home/arunsn/anaconda3/lib/python3.7/site-packages/sklearn/metrics/classification.py:1437: UndefinedMetricWarning: F-score is ill-defined and being set to 0.0 in labels with no predicted samples.\n",
      "  'precision', 'predicted', average, warn_for)\n",
      "/home/arunsn/anaconda3/lib/python3.7/site-packages/sklearn/metrics/classification.py:1437: UndefinedMetricWarning: F-score is ill-defined and being set to 0.0 in labels with no predicted samples.\n",
      "  'precision', 'predicted', average, warn_for)\n",
      "/home/arunsn/anaconda3/lib/python3.7/site-packages/sklearn/metrics/classification.py:1437: UndefinedMetricWarning: F-score is ill-defined and being set to 0.0 in labels with no predicted samples.\n",
      "  'precision', 'predicted', average, warn_for)\n",
      "/home/arunsn/anaconda3/lib/python3.7/site-packages/sklearn/metrics/classification.py:1437: UndefinedMetricWarning: F-score is ill-defined and being set to 0.0 in labels with no predicted samples.\n",
      "  'precision', 'predicted', average, warn_for)\n",
      "/home/arunsn/anaconda3/lib/python3.7/site-packages/sklearn/metrics/classification.py:1437: UndefinedMetricWarning: F-score is ill-defined and being set to 0.0 in labels with no predicted samples.\n",
      "  'precision', 'predicted', average, warn_for)\n",
      "/home/arunsn/anaconda3/lib/python3.7/site-packages/sklearn/metrics/classification.py:1437: UndefinedMetricWarning: F-score is ill-defined and being set to 0.0 in labels with no predicted samples.\n",
      "  'precision', 'predicted', average, warn_for)\n",
      "/home/arunsn/anaconda3/lib/python3.7/site-packages/sklearn/metrics/classification.py:1437: UndefinedMetricWarning: F-score is ill-defined and being set to 0.0 in labels with no predicted samples.\n",
      "  'precision', 'predicted', average, warn_for)\n",
      "/home/arunsn/anaconda3/lib/python3.7/site-packages/sklearn/metrics/classification.py:1437: UndefinedMetricWarning: F-score is ill-defined and being set to 0.0 in labels with no predicted samples.\n",
      "  'precision', 'predicted', average, warn_for)\n",
      "/home/arunsn/anaconda3/lib/python3.7/site-packages/sklearn/metrics/classification.py:1437: UndefinedMetricWarning: F-score is ill-defined and being set to 0.0 in labels with no predicted samples.\n",
      "  'precision', 'predicted', average, warn_for)\n",
      "/home/arunsn/anaconda3/lib/python3.7/site-packages/sklearn/metrics/classification.py:1437: UndefinedMetricWarning: F-score is ill-defined and being set to 0.0 in labels with no predicted samples.\n",
      "  'precision', 'predicted', average, warn_for)\n"
     ]
    }
   ],
   "source": [
    "best_modelRF = clf_RF.fit(X_train,y_train)"
   ]
  },
  {
   "cell_type": "code",
   "execution_count": 114,
   "metadata": {},
   "outputs": [
    {
     "name": "stdout",
     "output_type": "stream",
     "text": [
      "Best n_estimators:  30\n",
      "Best max_features:  100\n"
     ]
    }
   ],
   "source": [
    "# print the best parameters for the best model\n",
    "print('Best n_estimators: ', best_modelRF.best_estimator_.get_params()['n_estimators'])\n",
    "print('Best max_features: ', best_modelRF.best_estimator_.get_params()['max_features'])"
   ]
  },
  {
   "cell_type": "code",
   "execution_count": 115,
   "metadata": {},
   "outputs": [],
   "source": [
    "y_predRFHT = best_modelRF.predict(X_test)"
   ]
  },
  {
   "cell_type": "code",
   "execution_count": 116,
   "metadata": {},
   "outputs": [
    {
     "name": "stdout",
     "output_type": "stream",
     "text": [
      "              precision    recall  f1-score   support\n",
      "\n",
      "           0       0.54      0.16      0.24        45\n",
      "           1       1.00      1.00      1.00      9303\n",
      "\n",
      "    accuracy                           1.00      9348\n",
      "   macro avg       0.77      0.58      0.62      9348\n",
      "weighted avg       0.99      1.00      0.99      9348\n",
      "\n",
      "0.2877200139029257\n"
     ]
    }
   ],
   "source": [
    "RF_ht = classification_report(y_test, y_predRFHT, output_dict=True)\n",
    "RF_ht_f1 = RF_ht['macro avg']['f1-score']\n",
    "print(classification_report(y_test, y_predRFHT))\n",
    "RF_ht_mcc = MCC(y_test, y_predRFHT)\n",
    "print(MCC(y_test, y_predRFHT))"
   ]
  },
  {
   "cell_type": "markdown",
   "metadata": {},
   "source": [
    "The Random Forest baseline model did better - f1 of 0.69 and precision of 0.63."
   ]
  },
  {
   "cell_type": "code",
   "execution_count": 117,
   "metadata": {},
   "outputs": [],
   "source": [
    "param_RF_pc = {'n_estimators': [50,100,150],\n",
    "               'max_features': ['auto', None]}"
   ]
  },
  {
   "cell_type": "code",
   "execution_count": 118,
   "metadata": {},
   "outputs": [],
   "source": [
    "rfm_HT_pc = RandomForestClassifier(random_state=10,oob_score=True, class_weight='balanced')"
   ]
  },
  {
   "cell_type": "code",
   "execution_count": 119,
   "metadata": {},
   "outputs": [],
   "source": [
    "clf_RF_pc = RandomizedSearchCV(rfm_HT_pc, param_RF_pc,cv=5)"
   ]
  },
  {
   "cell_type": "code",
   "execution_count": 120,
   "metadata": {},
   "outputs": [
    {
     "name": "stderr",
     "output_type": "stream",
     "text": [
      "/home/arunsn/anaconda3/lib/python3.7/site-packages/sklearn/model_selection/_search.py:266: UserWarning: The total space of parameters 6 is smaller than n_iter=10. Running 6 iterations. For exhaustive searches, use GridSearchCV.\n",
      "  % (grid_size, self.n_iter, grid_size), UserWarning)\n"
     ]
    }
   ],
   "source": [
    "best_modelRF_pc = clf_RF_pc.fit(X_train_pc,y_train)"
   ]
  },
  {
   "cell_type": "code",
   "execution_count": 121,
   "metadata": {},
   "outputs": [
    {
     "name": "stdout",
     "output_type": "stream",
     "text": [
      "Best n_estimators:  50\n",
      "Best max_features:  auto\n"
     ]
    }
   ],
   "source": [
    "# print the best parameters for the best model\n",
    "print('Best n_estimators: ', best_modelRF_pc.best_estimator_.get_params()['n_estimators'])\n",
    "print('Best max_features: ', best_modelRF_pc.best_estimator_.get_params()['max_features'])"
   ]
  },
  {
   "cell_type": "code",
   "execution_count": 122,
   "metadata": {},
   "outputs": [],
   "source": [
    "y_predRFHT_pc = best_modelRF_pc.predict(X_test_pc)"
   ]
  },
  {
   "cell_type": "code",
   "execution_count": 123,
   "metadata": {},
   "outputs": [
    {
     "name": "stdout",
     "output_type": "stream",
     "text": [
      "              precision    recall  f1-score   support\n",
      "\n",
      "           0       1.00      0.02      0.04        45\n",
      "           1       1.00      1.00      1.00      9303\n",
      "\n",
      "    accuracy                           1.00      9348\n",
      "   macro avg       1.00      0.51      0.52      9348\n",
      "weighted avg       1.00      1.00      0.99      9348\n",
      "\n"
     ]
    }
   ],
   "source": [
    "print(classification_report(y_test, y_predRFHT_pc))"
   ]
  },
  {
   "cell_type": "markdown",
   "metadata": {},
   "source": [
    "The f1 score was less when the PCs training/test set were used."
   ]
  },
  {
   "cell_type": "markdown",
   "metadata": {},
   "source": [
    "## Model 4 - SVM"
   ]
  },
  {
   "cell_type": "code",
   "execution_count": 139,
   "metadata": {},
   "outputs": [],
   "source": [
    "# Initiate the SVC with the kernel, random_state and class_weight\n",
    "svm_htl = SVC(kernel='linear',random_state=10, class_weight='balanced')"
   ]
  },
  {
   "cell_type": "code",
   "execution_count": 140,
   "metadata": {},
   "outputs": [],
   "source": [
    "# different values for C\n",
    "param_SVM_htl = {'C':[0.1,1,10,100,1000]}"
   ]
  },
  {
   "cell_type": "code",
   "execution_count": 141,
   "metadata": {},
   "outputs": [],
   "source": [
    "# Use RandomizedSearchCV to find the best model \n",
    "clf_SVM_htl = RandomizedSearchCV(svm_htl, param_SVM_htl,cv=5,scoring='f1_macro')"
   ]
  },
  {
   "cell_type": "code",
   "execution_count": 142,
   "metadata": {},
   "outputs": [
    {
     "name": "stderr",
     "output_type": "stream",
     "text": [
      "/home/arunsn/anaconda3/lib/python3.7/site-packages/sklearn/model_selection/_search.py:266: UserWarning: The total space of parameters 5 is smaller than n_iter=10. Running 5 iterations. For exhaustive searches, use GridSearchCV.\n",
      "  % (grid_size, self.n_iter, grid_size), UserWarning)\n"
     ]
    }
   ],
   "source": [
    "# fit the model\n",
    "best_modelSVM_htl = clf_SVM_htl.fit(X_train,y_train)"
   ]
  },
  {
   "cell_type": "code",
   "execution_count": 143,
   "metadata": {},
   "outputs": [
    {
     "name": "stdout",
     "output_type": "stream",
     "text": [
      "Best C:  1\n"
     ]
    }
   ],
   "source": [
    "# print the best parameters for the best model\n",
    "print('Best C: ', best_modelSVM_htl.best_estimator_.get_params()['C'])"
   ]
  },
  {
   "cell_type": "code",
   "execution_count": 144,
   "metadata": {},
   "outputs": [],
   "source": [
    "# Predict using hte best model\n",
    "y_predSVM_htl = best_modelSVM_htl.predict(X_test)"
   ]
  },
  {
   "cell_type": "code",
   "execution_count": 145,
   "metadata": {},
   "outputs": [
    {
     "name": "stdout",
     "output_type": "stream",
     "text": [
      "              precision    recall  f1-score   support\n",
      "\n",
      "           0       0.44      0.71      0.55        45\n",
      "           1       1.00      1.00      1.00      9303\n",
      "\n",
      "    accuracy                           0.99      9348\n",
      "   macro avg       0.72      0.85      0.77      9348\n",
      "weighted avg       1.00      0.99      0.99      9348\n",
      "\n",
      "0.559596138181342\n"
     ]
    }
   ],
   "source": [
    "# Print the MCC and classification report\n",
    "SV_ht_lin = classification_report(y_test, y_predSVM_htl, output_dict=True)\n",
    "SV_ht_lin_f1 = SV_ht_lin['macro avg']['f1-score']\n",
    "print(classification_report(y_test, y_predSVM_htl))\n",
    "SV_ht_lin_mcc = MCC(y_test, y_predSVM_htl)\n",
    "print(MCC(y_test, y_predSVM_htl))"
   ]
  },
  {
   "cell_type": "markdown",
   "metadata": {},
   "source": [
    "The performance of the linear kernel of the SVM did not improve over the baseline - it was pretty much the same.\n",
    "\n",
    "The 'rbf' and 'poly' kernels were also used on the models and evaluated their performance. Since, the RandomSearchCV was running too slow and crashed when given too many combinations, i tried a few separately to see if the model did better than the linear kernel."
   ]
  },
  {
   "cell_type": "code",
   "execution_count": 146,
   "metadata": {},
   "outputs": [],
   "source": [
    "# Initiate the SVm with the 'rbf' kernel\n",
    "svm_htr = SVC(kernel='rbf',random_state=10, class_weight='balanced')"
   ]
  },
  {
   "cell_type": "code",
   "execution_count": 147,
   "metadata": {},
   "outputs": [],
   "source": [
    "# options on parameters\n",
    "param_SVM_htr = {'gamma': ['auto'],\n",
    "                 'C': [10]}"
   ]
  },
  {
   "cell_type": "code",
   "execution_count": 148,
   "metadata": {},
   "outputs": [],
   "source": [
    "clf_SVM_htr = RandomizedSearchCV(svm_htr, param_SVM_htr,cv=5,scoring='f1_macro')"
   ]
  },
  {
   "cell_type": "code",
   "execution_count": 149,
   "metadata": {},
   "outputs": [
    {
     "name": "stderr",
     "output_type": "stream",
     "text": [
      "/home/arunsn/anaconda3/lib/python3.7/site-packages/sklearn/model_selection/_search.py:266: UserWarning: The total space of parameters 1 is smaller than n_iter=10. Running 1 iterations. For exhaustive searches, use GridSearchCV.\n",
      "  % (grid_size, self.n_iter, grid_size), UserWarning)\n"
     ]
    }
   ],
   "source": [
    "best_modelSVM_htr = clf_SVM_htr.fit(X_train,y_train)"
   ]
  },
  {
   "cell_type": "code",
   "execution_count": 150,
   "metadata": {},
   "outputs": [],
   "source": [
    "y_predSVM_htr = best_modelSVM_htr.predict(X_test)"
   ]
  },
  {
   "cell_type": "code",
   "execution_count": 151,
   "metadata": {},
   "outputs": [
    {
     "name": "stdout",
     "output_type": "stream",
     "text": [
      "              precision    recall  f1-score   support\n",
      "\n",
      "           0       0.09      0.89      0.17        45\n",
      "           1       1.00      0.96      0.98      9303\n",
      "\n",
      "    accuracy                           0.96      9348\n",
      "   macro avg       0.55      0.92      0.57      9348\n",
      "weighted avg       1.00      0.96      0.97      9348\n",
      "\n",
      "0.27881376566556043\n"
     ]
    }
   ],
   "source": [
    "SV_ht_rbf = classification_report(y_test, y_predSVM_htr, output_dict=True)\n",
    "SV_ht_rbf_f1 = SV_ht_rbf['macro avg']['f1-score']\n",
    "print(classification_report(y_test, y_predSVM_htr))\n",
    "SV_ht_rbf_mcc = MCC(y_test, y_predSVM_htr)\n",
    "print(MCC(y_test, y_predSVM_htr))"
   ]
  },
  {
   "cell_type": "code",
   "execution_count": 152,
   "metadata": {},
   "outputs": [],
   "source": [
    "# Trying second set of options on the same 'rbf' kernel\n",
    "param_SVM_htr1 = {'gamma': ['auto'],\n",
    "                 'C': [1]}"
   ]
  },
  {
   "cell_type": "code",
   "execution_count": 153,
   "metadata": {},
   "outputs": [],
   "source": [
    "clf_SVM_htr1 = RandomizedSearchCV(svm_htr, param_SVM_htr1,cv=5)"
   ]
  },
  {
   "cell_type": "code",
   "execution_count": 154,
   "metadata": {},
   "outputs": [
    {
     "name": "stderr",
     "output_type": "stream",
     "text": [
      "/home/arunsn/anaconda3/lib/python3.7/site-packages/sklearn/model_selection/_search.py:266: UserWarning: The total space of parameters 1 is smaller than n_iter=10. Running 1 iterations. For exhaustive searches, use GridSearchCV.\n",
      "  % (grid_size, self.n_iter, grid_size), UserWarning)\n"
     ]
    }
   ],
   "source": [
    "best_modelSVM_htr1 = clf_SVM_htr1.fit(X_train,y_train)"
   ]
  },
  {
   "cell_type": "code",
   "execution_count": 155,
   "metadata": {},
   "outputs": [],
   "source": [
    "y_predSVM_htr1 = best_modelSVM_htr.predict(X_test)"
   ]
  },
  {
   "cell_type": "code",
   "execution_count": 158,
   "metadata": {},
   "outputs": [
    {
     "name": "stdout",
     "output_type": "stream",
     "text": [
      "              precision    recall  f1-score   support\n",
      "\n",
      "           0       0.09      0.89      0.17        45\n",
      "           1       1.00      0.96      0.98      9303\n",
      "\n",
      "    accuracy                           0.96      9348\n",
      "   macro avg       0.55      0.92      0.57      9348\n",
      "weighted avg       1.00      0.96      0.97      9348\n",
      "\n",
      "0.27881376566556043\n"
     ]
    }
   ],
   "source": [
    "SV_ht_rbf1 = classification_report(y_test, y_predSVM_htr1, output_dict=True)\n",
    "SV_ht_rbf1_f1 = SV_ht_rbf['macro avg']['f1-score']\n",
    "print(classification_report(y_test, y_predSVM_htr1))\n",
    "SV_ht_rbf1_mcc = MCC(y_test, y_predSVM_htr1)\n",
    "print(MCC(y_test, y_predSVM_htr1))"
   ]
  },
  {
   "cell_type": "markdown",
   "metadata": {},
   "source": [
    "The 'rbf' kernel did not do as well as the 'linear' kernel."
   ]
  },
  {
   "cell_type": "code",
   "execution_count": 70,
   "metadata": {},
   "outputs": [],
   "source": [
    "# Trying the 'poly' kernel\n",
    "svm_htp = SVC(kernel='poly',random_state=10, class_weight='balanced')"
   ]
  },
  {
   "cell_type": "code",
   "execution_count": 71,
   "metadata": {},
   "outputs": [],
   "source": [
    "param_SVM_htp = {'degree': [3]}"
   ]
  },
  {
   "cell_type": "code",
   "execution_count": 72,
   "metadata": {},
   "outputs": [],
   "source": [
    "clf_SVM_htp = RandomizedSearchCV(svm_htp, param_SVM_htp,cv=5)"
   ]
  },
  {
   "cell_type": "code",
   "execution_count": 73,
   "metadata": {},
   "outputs": [
    {
     "name": "stderr",
     "output_type": "stream",
     "text": [
      "/home/arunsn/anaconda3/lib/python3.7/site-packages/sklearn/model_selection/_search.py:266: UserWarning: The total space of parameters 1 is smaller than n_iter=10. Running 1 iterations. For exhaustive searches, use GridSearchCV.\n",
      "  % (grid_size, self.n_iter, grid_size), UserWarning)\n",
      "/home/arunsn/anaconda3/lib/python3.7/site-packages/sklearn/svm/base.py:193: FutureWarning: The default value of gamma will change from 'auto' to 'scale' in version 0.22 to account better for unscaled features. Set gamma explicitly to 'auto' or 'scale' to avoid this warning.\n",
      "  \"avoid this warning.\", FutureWarning)\n",
      "/home/arunsn/anaconda3/lib/python3.7/site-packages/sklearn/svm/base.py:193: FutureWarning: The default value of gamma will change from 'auto' to 'scale' in version 0.22 to account better for unscaled features. Set gamma explicitly to 'auto' or 'scale' to avoid this warning.\n",
      "  \"avoid this warning.\", FutureWarning)\n",
      "/home/arunsn/anaconda3/lib/python3.7/site-packages/sklearn/svm/base.py:193: FutureWarning: The default value of gamma will change from 'auto' to 'scale' in version 0.22 to account better for unscaled features. Set gamma explicitly to 'auto' or 'scale' to avoid this warning.\n",
      "  \"avoid this warning.\", FutureWarning)\n",
      "/home/arunsn/anaconda3/lib/python3.7/site-packages/sklearn/svm/base.py:193: FutureWarning: The default value of gamma will change from 'auto' to 'scale' in version 0.22 to account better for unscaled features. Set gamma explicitly to 'auto' or 'scale' to avoid this warning.\n",
      "  \"avoid this warning.\", FutureWarning)\n",
      "/home/arunsn/anaconda3/lib/python3.7/site-packages/sklearn/svm/base.py:193: FutureWarning: The default value of gamma will change from 'auto' to 'scale' in version 0.22 to account better for unscaled features. Set gamma explicitly to 'auto' or 'scale' to avoid this warning.\n",
      "  \"avoid this warning.\", FutureWarning)\n",
      "/home/arunsn/anaconda3/lib/python3.7/site-packages/sklearn/svm/base.py:193: FutureWarning: The default value of gamma will change from 'auto' to 'scale' in version 0.22 to account better for unscaled features. Set gamma explicitly to 'auto' or 'scale' to avoid this warning.\n",
      "  \"avoid this warning.\", FutureWarning)\n"
     ]
    }
   ],
   "source": [
    "best_modelSVM_htp = clf_SVM_htp.fit(X_train,y_train)"
   ]
  },
  {
   "cell_type": "code",
   "execution_count": 74,
   "metadata": {},
   "outputs": [],
   "source": [
    "y_predSVM_htp = best_modelSVM_htp.predict(X_test)"
   ]
  },
  {
   "cell_type": "code",
   "execution_count": 75,
   "metadata": {},
   "outputs": [
    {
     "name": "stdout",
     "output_type": "stream",
     "text": [
      "              precision    recall  f1-score   support\n",
      "\n",
      "           0       0.01      0.91      0.03        45\n",
      "           1       1.00      0.68      0.81      9303\n",
      "\n",
      "    accuracy                           0.68      9348\n",
      "   macro avg       0.51      0.80      0.42      9348\n",
      "weighted avg       0.99      0.68      0.81      9348\n",
      "\n"
     ]
    }
   ],
   "source": [
    "print(classification_report(y_test, y_predSVM_htp))"
   ]
  },
  {
   "cell_type": "markdown",
   "metadata": {},
   "source": [
    "The linear kernel of the SVM was the only one to perform well, though it did do better than its baseline."
   ]
  },
  {
   "cell_type": "markdown",
   "metadata": {},
   "source": [
    "## Model 6 - XGBoost"
   ]
  },
  {
   "cell_type": "markdown",
   "metadata": {},
   "source": [
    "For the XGBoost, we have a lot of hyperparameters to tune and I chose to work with the learning_rate, subsample, gamma and the scale_pos_weight parameters. I tried various combinations separately as this seemed to work faster than trying to run one RandomizedSearchCV code on it.\n",
    "\n",
    "The scale_pos_weight is a parameter designed to tune the behaviour of the algorithm for imbalanced classification problems. A sensible default value is the inverse of the class distribution. So, I tried just 2 values - 1 (default) and 99 (as we have 0.5:99.5 proportion)."
   ]
  },
  {
   "cell_type": "code",
   "execution_count": 174,
   "metadata": {},
   "outputs": [
    {
     "data": {
      "text/plain": [
       "XGBClassifier(base_score=0.5, booster='gbtree', colsample_bylevel=1,\n",
       "              colsample_bynode=1, colsample_bytree=1, gamma=1,\n",
       "              learning_rate=0.01, max_delta_step=0, max_depth=3,\n",
       "              min_child_weight=1, missing=None, n_estimators=100, n_jobs=1,\n",
       "              nthread=None, objective='binary:logistic', random_state=0,\n",
       "              reg_alpha=0, reg_lambda=1, scale_pos_weight=1, seed=None,\n",
       "              silent=None, subsample=0.8, verbosity=1)"
      ]
     },
     "execution_count": 174,
     "metadata": {},
     "output_type": "execute_result"
    }
   ],
   "source": [
    "# Option 1 \n",
    "\n",
    "# Inititate, fit and predict\n",
    "mod_ht1 = XGBClassifier(learning_rate=0.01, subsample=0.8,gamma=1)\n",
    "mod_ht1.fit(X_train,y_train)"
   ]
  },
  {
   "cell_type": "code",
   "execution_count": 175,
   "metadata": {},
   "outputs": [],
   "source": [
    "y_predXGBht1 = mod_ht1.predict(X_test)"
   ]
  },
  {
   "cell_type": "code",
   "execution_count": 178,
   "metadata": {},
   "outputs": [
    {
     "name": "stdout",
     "output_type": "stream",
     "text": [
      "0.5874200849131033\n",
      "              precision    recall  f1-score   support\n",
      "\n",
      "           0       0.71      0.49      0.58        45\n",
      "           1       1.00      1.00      1.00      9303\n",
      "\n",
      "    accuracy                           1.00      9348\n",
      "   macro avg       0.85      0.74      0.79      9348\n",
      "weighted avg       1.00      1.00      1.00      9348\n",
      "\n"
     ]
    }
   ],
   "source": [
    "# Print the scores\n",
    "predictions_XGBht1 = [round(value) for value in y_predXGBht1]\n",
    "XGB_ht = classification_report(y_test, predictions_XGBht1, output_dict = True)\n",
    "XGB_ht_f1 = XGB_ht['macro avg']['f1-score']\n",
    "XGB_ht_mcc = MCC(y_test, predictions_XGBht1)\n",
    "print(MCC(y_test, predictions_XGBht1))\n",
    "print(classification_report(y_test, predictions_XGBht1))"
   ]
  },
  {
   "cell_type": "code",
   "execution_count": 57,
   "metadata": {},
   "outputs": [],
   "source": [
    "# Option 2\n",
    "mod_ht2 = XGBClassifier()"
   ]
  },
  {
   "cell_type": "code",
   "execution_count": 180,
   "metadata": {},
   "outputs": [],
   "source": [
    "param_XGB_ht2 = {'learning_rate': [0.01],\n",
    "                 'subsample': [0.8],\n",
    "                 'scale_pos_weight': [99]}"
   ]
  },
  {
   "cell_type": "code",
   "execution_count": 181,
   "metadata": {},
   "outputs": [],
   "source": [
    "clf_XGB_ht2 = RandomizedSearchCV(mod_ht2, param_XGB_ht2,cv=5,scoring='f1_macro')"
   ]
  },
  {
   "cell_type": "code",
   "execution_count": 182,
   "metadata": {},
   "outputs": [
    {
     "name": "stderr",
     "output_type": "stream",
     "text": [
      "/home/arunsn/anaconda3/lib/python3.7/site-packages/sklearn/model_selection/_search.py:266: UserWarning: The total space of parameters 1 is smaller than n_iter=10. Running 1 iterations. For exhaustive searches, use GridSearchCV.\n",
      "  % (grid_size, self.n_iter, grid_size), UserWarning)\n",
      "/home/arunsn/anaconda3/lib/python3.7/site-packages/sklearn/metrics/classification.py:1437: UndefinedMetricWarning: F-score is ill-defined and being set to 0.0 in labels with no predicted samples.\n",
      "  'precision', 'predicted', average, warn_for)\n"
     ]
    }
   ],
   "source": [
    "best_modelXGB_ht2 = clf_XGB_ht2.fit(X_train,y_train)"
   ]
  },
  {
   "cell_type": "code",
   "execution_count": 184,
   "metadata": {},
   "outputs": [],
   "source": [
    "y_predXGBht2 = best_modelXGB_ht2.predict(X_test)"
   ]
  },
  {
   "cell_type": "code",
   "execution_count": 185,
   "metadata": {},
   "outputs": [
    {
     "name": "stderr",
     "output_type": "stream",
     "text": [
      "/home/arunsn/anaconda3/lib/python3.7/site-packages/sklearn/metrics/classification.py:1437: UndefinedMetricWarning: Precision and F-score are ill-defined and being set to 0.0 in labels with no predicted samples.\n",
      "  'precision', 'predicted', average, warn_for)\n"
     ]
    },
    {
     "name": "stdout",
     "output_type": "stream",
     "text": [
      "0.0\n",
      "              precision    recall  f1-score   support\n",
      "\n",
      "           0       0.00      0.00      0.00        45\n",
      "           1       1.00      1.00      1.00      9303\n",
      "\n",
      "    accuracy                           1.00      9348\n",
      "   macro avg       0.50      0.50      0.50      9348\n",
      "weighted avg       0.99      1.00      0.99      9348\n",
      "\n"
     ]
    },
    {
     "name": "stderr",
     "output_type": "stream",
     "text": [
      "/home/arunsn/anaconda3/lib/python3.7/site-packages/sklearn/metrics/classification.py:872: RuntimeWarning: invalid value encountered in double_scalars\n",
      "  mcc = cov_ytyp / np.sqrt(cov_ytyt * cov_ypyp)\n"
     ]
    }
   ],
   "source": [
    "predictions_XGBht2 = [round(value) for value in y_predXGBht2]\n",
    "XGB_ht2 = classification_report(y_test, predictions_XGBht2, output_dict = True)\n",
    "XGB_ht2_f1 = XGB_ht2['macro avg']['f1-score']\n",
    "XGB_ht2_mcc = MCC(y_test, predictions_XGBht2)\n",
    "print(MCC(y_test, predictions_XGBht2))\n",
    "print(classification_report(y_test, predictions_XGBht2))"
   ]
  },
  {
   "cell_type": "code",
   "execution_count": 64,
   "metadata": {},
   "outputs": [],
   "source": [
    "# Option 3\n",
    "param_XGB_ht3 = {'learning_rate': [0.1],\n",
    "                 'subsample': [0.8],\n",
    "                 'scale_pos_weight': [99]}"
   ]
  },
  {
   "cell_type": "code",
   "execution_count": 65,
   "metadata": {},
   "outputs": [],
   "source": [
    "clf_XGB_ht3 = RandomizedSearchCV(mod_ht2, param_XGB_ht3,cv=5,scoring='f1_macro')"
   ]
  },
  {
   "cell_type": "code",
   "execution_count": 66,
   "metadata": {},
   "outputs": [
    {
     "name": "stderr",
     "output_type": "stream",
     "text": [
      "/home/arunsn/anaconda3/lib/python3.7/site-packages/sklearn/model_selection/_search.py:266: UserWarning: The total space of parameters 1 is smaller than n_iter=10. Running 1 iterations. For exhaustive searches, use GridSearchCV.\n",
      "  % (grid_size, self.n_iter, grid_size), UserWarning)\n"
     ]
    }
   ],
   "source": [
    "best_model_XGB_ht3 = clf_XGB_ht3.fit(X_train,y_train)"
   ]
  },
  {
   "cell_type": "code",
   "execution_count": 67,
   "metadata": {},
   "outputs": [],
   "source": [
    "y_predXGBht3 = best_model_XGB_ht3.predict(X_test)"
   ]
  },
  {
   "cell_type": "code",
   "execution_count": 68,
   "metadata": {},
   "outputs": [
    {
     "name": "stdout",
     "output_type": "stream",
     "text": [
      "0.4705202496676698\n",
      "              precision    recall  f1-score   support\n",
      "\n",
      "           0       1.00      0.22      0.36        45\n",
      "           1       1.00      1.00      1.00      9303\n",
      "\n",
      "    accuracy                           1.00      9348\n",
      "   macro avg       1.00      0.61      0.68      9348\n",
      "weighted avg       1.00      1.00      1.00      9348\n",
      "\n"
     ]
    }
   ],
   "source": [
    "predictions_XGBht3 = [round(value) for value in y_predXGBht3]\n",
    "XGB_ht3 = classification_report(y_test, predictions_XGBht3,output_dict=True)\n",
    "XGB_ht3_f1 = XGB_ht3['macro avg']['f1-score']\n",
    "XGB_ht3_mcc = MCC(y_test, predictions_XGBht3)\n",
    "print(MCC(y_test, predictions_XGBht3))\n",
    "print(classification_report(y_test, predictions_XGBht3))"
   ]
  },
  {
   "cell_type": "code",
   "execution_count": 194,
   "metadata": {},
   "outputs": [],
   "source": [
    "# Option 4\n",
    "param_XGB_ht4 = {'learning_rate': [0.1],\n",
    "                 'subsample': [0.8],\n",
    "                 'gamma': [5],\n",
    "                 'scale_pos_weight': [99]}"
   ]
  },
  {
   "cell_type": "code",
   "execution_count": 195,
   "metadata": {},
   "outputs": [],
   "source": [
    "clf_XGB_ht4 = RandomizedSearchCV(mod_ht2, param_XGB_ht4,cv=5,scoring='f1_macro')"
   ]
  },
  {
   "cell_type": "code",
   "execution_count": 196,
   "metadata": {},
   "outputs": [
    {
     "name": "stderr",
     "output_type": "stream",
     "text": [
      "/home/arunsn/anaconda3/lib/python3.7/site-packages/sklearn/model_selection/_search.py:266: UserWarning: The total space of parameters 1 is smaller than n_iter=10. Running 1 iterations. For exhaustive searches, use GridSearchCV.\n",
      "  % (grid_size, self.n_iter, grid_size), UserWarning)\n"
     ]
    }
   ],
   "source": [
    "best_model_XGB_ht4 = clf_XGB_ht4.fit(X_train,y_train)"
   ]
  },
  {
   "cell_type": "code",
   "execution_count": 197,
   "metadata": {},
   "outputs": [],
   "source": [
    "y_predXGBht4 = best_model_XGB_ht4.predict(X_test)"
   ]
  },
  {
   "cell_type": "code",
   "execution_count": 198,
   "metadata": {},
   "outputs": [
    {
     "name": "stdout",
     "output_type": "stream",
     "text": [
      "0.4463508031937716\n",
      "              precision    recall  f1-score   support\n",
      "\n",
      "           0       1.00      0.20      0.33        45\n",
      "           1       1.00      1.00      1.00      9303\n",
      "\n",
      "    accuracy                           1.00      9348\n",
      "   macro avg       1.00      0.60      0.67      9348\n",
      "weighted avg       1.00      1.00      0.99      9348\n",
      "\n"
     ]
    }
   ],
   "source": [
    "predictions_XGBht4 = [round(value) for value in y_predXGBht4]\n",
    "XGB_ht4 = classification_report(y_test, predictions_XGBht4, output_dict=True)\n",
    "XGB_ht4_f1 = XGB_ht4['macro avg']['f1-score']\n",
    "XGB_ht4_mcc = MCC(y_test, predictions_XGBht4)\n",
    "print(MCC(y_test, predictions_XGBht4))\n",
    "print(classification_report(y_test, predictions_XGBht4))"
   ]
  },
  {
   "cell_type": "code",
   "execution_count": 55,
   "metadata": {},
   "outputs": [],
   "source": [
    "# Option 5\n",
    "param_XGB_ht5 = {'learning_rate': [0.05],\n",
    "                 'subsample': [0.8],\n",
    "                 'scale_pos_weight': [99]}"
   ]
  },
  {
   "cell_type": "code",
   "execution_count": 58,
   "metadata": {},
   "outputs": [],
   "source": [
    "clf_XGB_ht5 = RandomizedSearchCV(mod_ht2, param_XGB_ht5,cv=5,scoring='f1_macro')"
   ]
  },
  {
   "cell_type": "code",
   "execution_count": 59,
   "metadata": {},
   "outputs": [
    {
     "name": "stderr",
     "output_type": "stream",
     "text": [
      "/home/arunsn/anaconda3/lib/python3.7/site-packages/sklearn/model_selection/_search.py:266: UserWarning: The total space of parameters 1 is smaller than n_iter=10. Running 1 iterations. For exhaustive searches, use GridSearchCV.\n",
      "  % (grid_size, self.n_iter, grid_size), UserWarning)\n",
      "/home/arunsn/anaconda3/lib/python3.7/site-packages/sklearn/metrics/classification.py:1437: UndefinedMetricWarning: F-score is ill-defined and being set to 0.0 in labels with no predicted samples.\n",
      "  'precision', 'predicted', average, warn_for)\n"
     ]
    }
   ],
   "source": [
    "best_model_XGB_ht5 = clf_XGB_ht5.fit(X_train,y_train)"
   ]
  },
  {
   "cell_type": "code",
   "execution_count": 61,
   "metadata": {},
   "outputs": [],
   "source": [
    "y_predXGBht5 = best_model_XGB_ht5.predict(X_test)"
   ]
  },
  {
   "cell_type": "code",
   "execution_count": 63,
   "metadata": {},
   "outputs": [
    {
     "name": "stdout",
     "output_type": "stream",
     "text": [
      "0.3936022637553419\n",
      "              precision    recall  f1-score   support\n",
      "\n",
      "           0       1.00      0.16      0.27        45\n",
      "           1       1.00      1.00      1.00      9303\n",
      "\n",
      "    accuracy                           1.00      9348\n",
      "   macro avg       1.00      0.58      0.63      9348\n",
      "weighted avg       1.00      1.00      0.99      9348\n",
      "\n"
     ]
    }
   ],
   "source": [
    "predictions_XGBht5 = [round(value) for value in y_predXGBht5]\n",
    "XGB_ht5 = classification_report(y_test, predictions_XGBht5, output_dict=True)\n",
    "XGB_ht5_f1 = XGB_ht5['macro avg']['f1-score']\n",
    "XGB_ht5_mcc = MCC(y_test, predictions_XGBht5)\n",
    "print(MCC(y_test, predictions_XGBht5))\n",
    "print(classification_report(y_test, predictions_XGBht5))"
   ]
  },
  {
   "cell_type": "markdown",
   "metadata": {},
   "source": [
    "Though all of the options had scores lower than the baseline model, the baseline model did not have the weights for an imbalanced data set. Option 3 did better than the others with an f1 score of 0.67 and precision of 1."
   ]
  },
  {
   "cell_type": "markdown",
   "metadata": {},
   "source": [
    "### Combining Models"
   ]
  },
  {
   "cell_type": "markdown",
   "metadata": {},
   "source": []
  },
  {
   "cell_type": "code",
   "execution_count": 75,
   "metadata": {},
   "outputs": [],
   "source": [
    "from sklearn import model_selection\n",
    "from sklearn.model_selection import cross_val_score\n",
    "from sklearn.ensemble import VotingClassifier"
   ]
  },
  {
   "cell_type": "code",
   "execution_count": 85,
   "metadata": {},
   "outputs": [],
   "source": [
    "kfold = model_selection.StratifiedKFold(n_splits=5, random_state=10)"
   ]
  },
  {
   "cell_type": "code",
   "execution_count": 103,
   "metadata": {},
   "outputs": [],
   "source": [
    "estimators = []\n",
    "model1 = LogisticRegression(penalty='l2', C=10, class_weight='balanced')\n",
    "estimators.append(('logistic', model1))\n",
    "\n",
    "model2 = SVC(kernel='linear',random_state=10, C=1,class_weight='balanced')\n",
    "estimators.append(('svm', model2))\n",
    "\n",
    "model3 = XGBClassifier(learning_rate=0.1, subsample=0.8, scale_pos_weight=99, random_state=10)\n",
    "estimators.append(('xgb', model3))"
   ]
  },
  {
   "cell_type": "code",
   "execution_count": 78,
   "metadata": {},
   "outputs": [
    {
     "name": "stderr",
     "output_type": "stream",
     "text": [
      "/home/arunsn/anaconda3/lib/python3.7/site-packages/sklearn/linear_model/logistic.py:432: FutureWarning: Default solver will be changed to 'lbfgs' in 0.22. Specify a solver to silence this warning.\n",
      "  FutureWarning)\n",
      "/home/arunsn/anaconda3/lib/python3.7/site-packages/sklearn/linear_model/logistic.py:432: FutureWarning: Default solver will be changed to 'lbfgs' in 0.22. Specify a solver to silence this warning.\n",
      "  FutureWarning)\n",
      "/home/arunsn/anaconda3/lib/python3.7/site-packages/sklearn/linear_model/logistic.py:432: FutureWarning: Default solver will be changed to 'lbfgs' in 0.22. Specify a solver to silence this warning.\n",
      "  FutureWarning)\n",
      "/home/arunsn/anaconda3/lib/python3.7/site-packages/sklearn/linear_model/logistic.py:432: FutureWarning: Default solver will be changed to 'lbfgs' in 0.22. Specify a solver to silence this warning.\n",
      "  FutureWarning)\n",
      "/home/arunsn/anaconda3/lib/python3.7/site-packages/sklearn/linear_model/logistic.py:432: FutureWarning: Default solver will be changed to 'lbfgs' in 0.22. Specify a solver to silence this warning.\n",
      "  FutureWarning)\n"
     ]
    }
   ],
   "source": [
    "ensemble = VotingClassifier(estimators)\n",
    "results = model_selection.cross_val_score(ensemble, X_scaled, y, cv=kfold, scoring='f1_macro')"
   ]
  },
  {
   "cell_type": "code",
   "execution_count": 79,
   "metadata": {},
   "outputs": [
    {
     "name": "stdout",
     "output_type": "stream",
     "text": [
      "0.6327151449150735\n"
     ]
    }
   ],
   "source": [
    "print(results.mean())"
   ]
  },
  {
   "cell_type": "code",
   "execution_count": 80,
   "metadata": {},
   "outputs": [
    {
     "data": {
      "text/plain": [
       "array([0.49003265, 0.52061283, 0.51611776, 0.8192749 , 0.81753759])"
      ]
     },
     "execution_count": 80,
     "metadata": {},
     "output_type": "execute_result"
    }
   ],
   "source": [
    "results"
   ]
  },
  {
   "cell_type": "code",
   "execution_count": 104,
   "metadata": {},
   "outputs": [
    {
     "name": "stderr",
     "output_type": "stream",
     "text": [
      "/home/arunsn/anaconda3/lib/python3.7/site-packages/sklearn/linear_model/logistic.py:432: FutureWarning: Default solver will be changed to 'lbfgs' in 0.22. Specify a solver to silence this warning.\n",
      "  FutureWarning)\n",
      "/home/arunsn/anaconda3/lib/python3.7/site-packages/sklearn/linear_model/logistic.py:432: FutureWarning: Default solver will be changed to 'lbfgs' in 0.22. Specify a solver to silence this warning.\n",
      "  FutureWarning)\n",
      "/home/arunsn/anaconda3/lib/python3.7/site-packages/sklearn/linear_model/logistic.py:432: FutureWarning: Default solver will be changed to 'lbfgs' in 0.22. Specify a solver to silence this warning.\n",
      "  FutureWarning)\n",
      "/home/arunsn/anaconda3/lib/python3.7/site-packages/sklearn/linear_model/logistic.py:432: FutureWarning: Default solver will be changed to 'lbfgs' in 0.22. Specify a solver to silence this warning.\n",
      "  FutureWarning)\n",
      "/home/arunsn/anaconda3/lib/python3.7/site-packages/sklearn/linear_model/logistic.py:432: FutureWarning: Default solver will be changed to 'lbfgs' in 0.22. Specify a solver to silence this warning.\n",
      "  FutureWarning)\n"
     ]
    }
   ],
   "source": [
    "ensemble = VotingClassifier(estimators)\n",
    "results_test = model_selection.cross_val_score(ensemble, X_test, y_test, cv=kfold, scoring='f1_macro')"
   ]
  },
  {
   "cell_type": "code",
   "execution_count": 105,
   "metadata": {},
   "outputs": [
    {
     "name": "stdout",
     "output_type": "stream",
     "text": [
      "0.7815185045536658\n"
     ]
    },
    {
     "data": {
      "text/plain": [
       "array([0.79317754, 0.71321218, 0.85226967, 0.81484836, 0.73408477])"
      ]
     },
     "execution_count": 105,
     "metadata": {},
     "output_type": "execute_result"
    }
   ],
   "source": [
    "print(results_test.mean())\n",
    "results_test"
   ]
  },
  {
   "cell_type": "code",
   "execution_count": 110,
   "metadata": {},
   "outputs": [],
   "source": [
    "estimators1 = []\n",
    "model1 = LogisticRegression(penalty='l2', C=10, solver='liblinear', class_weight='balanced')\n",
    "estimators1.append(('logistic', model1))\n",
    "\n",
    "model2 = SVC(kernel='linear',random_state=10, C=1,class_weight='balanced')\n",
    "estimators1.append(('svm', model2))\n",
    "\n",
    "model3 = XGBClassifier(learning_rate=0.1, subsample=0.8, scale_pos_weight=99, random_state=10)\n",
    "estimators1.append(('xgb', model3))"
   ]
  },
  {
   "cell_type": "code",
   "execution_count": 111,
   "metadata": {},
   "outputs": [],
   "source": [
    "ensemble1 = VotingClassifier(estimators1)\n",
    "results1 = model_selection.cross_val_score(ensemble1, X_scaled, y, cv=kfold, scoring='f1_macro')"
   ]
  },
  {
   "cell_type": "code",
   "execution_count": 112,
   "metadata": {},
   "outputs": [
    {
     "name": "stdout",
     "output_type": "stream",
     "text": [
      "0.6327151449150735\n",
      "[0.49003265 0.52061283 0.51611776 0.8192749  0.81753759]\n"
     ]
    }
   ],
   "source": [
    "print(results1.mean())\n",
    "print(results1)"
   ]
  },
  {
   "cell_type": "code",
   "execution_count": 113,
   "metadata": {},
   "outputs": [],
   "source": [
    "results1_test = model_selection.cross_val_score(ensemble1, X_test, y_test, cv=kfold, scoring='f1_macro')"
   ]
  },
  {
   "cell_type": "code",
   "execution_count": 114,
   "metadata": {},
   "outputs": [
    {
     "name": "stdout",
     "output_type": "stream",
     "text": [
      "0.7815185045536658\n",
      "[0.79317754 0.71321218 0.85226967 0.81484836 0.73408477]\n"
     ]
    }
   ],
   "source": [
    "print(results1_test.mean())\n",
    "print(results1_test)"
   ]
  },
  {
   "cell_type": "code",
   "execution_count": 94,
   "metadata": {},
   "outputs": [],
   "source": [
    "ensemble1 = VotingClassifier(estimators1)\n",
    "e1 = ensemble1.fit(X_train,y_train)"
   ]
  },
  {
   "cell_type": "code",
   "execution_count": 108,
   "metadata": {},
   "outputs": [],
   "source": [
    "y_pred_e1 = e1.predict(X_test)"
   ]
  },
  {
   "cell_type": "code",
   "execution_count": 109,
   "metadata": {},
   "outputs": [
    {
     "name": "stdout",
     "output_type": "stream",
     "text": [
      "              precision    recall  f1-score   support\n",
      "\n",
      "           0       0.45      0.71      0.55        45\n",
      "           1       1.00      1.00      1.00      9303\n",
      "\n",
      "    accuracy                           0.99      9348\n",
      "   macro avg       0.72      0.85      0.77      9348\n",
      "weighted avg       1.00      0.99      1.00      9348\n",
      "\n",
      "0.5635785001719397\n"
     ]
    }
   ],
   "source": [
    "e1_report = classification_report(y_test, y_pred_e1, output_dict=True)\n",
    "e1_f1 = e1_report['macro avg']['f1-score']\n",
    "e1_mcc = MCC(y_test, y_pred_e1)\n",
    "print(classification_report(y_test, y_pred_e1))\n",
    "print(e1_mcc)"
   ]
  },
  {
   "cell_type": "code",
   "execution_count": null,
   "metadata": {},
   "outputs": [],
   "source": []
  }
 ],
 "metadata": {
  "kernelspec": {
   "display_name": "Python 3",
   "language": "python",
   "name": "python3"
  },
  "language_info": {
   "codemirror_mode": {
    "name": "ipython",
    "version": 3
   },
   "file_extension": ".py",
   "mimetype": "text/x-python",
   "name": "python",
   "nbconvert_exporter": "python",
   "pygments_lexer": "ipython3",
   "version": "3.7.4"
  }
 },
 "nbformat": 4,
 "nbformat_minor": 2
}
